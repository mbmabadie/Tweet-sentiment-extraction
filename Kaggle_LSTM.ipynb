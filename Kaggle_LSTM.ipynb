{
 "cells": [
  {
   "cell_type": "code",
   "execution_count": 1,
   "id": "691be753",
   "metadata": {
    "execution": {
     "iopub.execute_input": "2022-12-19T11:23:24.523995Z",
     "iopub.status.busy": "2022-12-19T11:23:24.522969Z",
     "iopub.status.idle": "2022-12-19T11:23:25.838724Z",
     "shell.execute_reply": "2022-12-19T11:23:25.837579Z",
     "shell.execute_reply.started": "2022-12-15T13:16:54.976654Z"
    },
    "papermill": {
     "duration": 1.353327,
     "end_time": "2022-12-19T11:23:25.838962",
     "exception": false,
     "start_time": "2022-12-19T11:23:24.485635",
     "status": "completed"
    },
    "tags": []
   },
   "outputs": [],
   "source": [
    "import seaborn as sns\n",
    "import pandas as pd\n",
    "import numpy as np\n",
    "import matplotlib.pyplot as plt\n",
    "import seaborn as sns\n",
    "import os\n",
    "from sklearn.model_selection import train_test_split\n"
   ]
  },
  {
   "cell_type": "code",
   "execution_count": 2,
   "id": "f58ed5b6",
   "metadata": {
    "execution": {
     "iopub.execute_input": "2022-12-19T11:23:25.901535Z",
     "iopub.status.busy": "2022-12-19T11:23:25.898490Z",
     "iopub.status.idle": "2022-12-19T11:23:29.264331Z",
     "shell.execute_reply": "2022-12-19T11:23:29.263661Z",
     "shell.execute_reply.started": "2022-12-15T13:16:55.319378Z"
    },
    "papermill": {
     "duration": 3.397362,
     "end_time": "2022-12-19T11:23:29.264489",
     "exception": false,
     "start_time": "2022-12-19T11:23:25.867127",
     "status": "completed"
    },
    "tags": []
   },
   "outputs": [],
   "source": [
    "import plotly.figure_factory as ff\n",
    "import re\n",
    "import string\n",
    "from collections import Counter\n",
    "import plotly.express as px\n",
    "import spacy"
   ]
  },
  {
   "cell_type": "code",
   "execution_count": 3,
   "id": "f8f3b5f4",
   "metadata": {
    "execution": {
     "iopub.execute_input": "2022-12-19T11:23:29.322528Z",
     "iopub.status.busy": "2022-12-19T11:23:29.321850Z",
     "iopub.status.idle": "2022-12-19T11:23:30.094233Z",
     "shell.execute_reply": "2022-12-19T11:23:30.093588Z",
     "shell.execute_reply.started": "2022-12-15T13:16:58.541914Z"
    },
    "papermill": {
     "duration": 0.803821,
     "end_time": "2022-12-19T11:23:30.094390",
     "exception": false,
     "start_time": "2022-12-19T11:23:29.290569",
     "status": "completed"
    },
    "tags": []
   },
   "outputs": [],
   "source": [
    "import nltk\n",
    "from nltk.tokenize import RegexpTokenizer\n",
    "from nltk.stem import WordNetLemmatizer\n",
    "from nltk.corpus import stopwords\n",
    "import string\n",
    "import re"
   ]
  },
  {
   "cell_type": "code",
   "execution_count": 4,
   "id": "3e6144be",
   "metadata": {
    "execution": {
     "iopub.execute_input": "2022-12-19T11:23:30.159550Z",
     "iopub.status.busy": "2022-12-19T11:23:30.158178Z",
     "iopub.status.idle": "2022-12-19T11:23:30.372094Z",
     "shell.execute_reply": "2022-12-19T11:23:30.371392Z",
     "shell.execute_reply.started": "2022-12-15T13:16:59.079753Z"
    },
    "papermill": {
     "duration": 0.248031,
     "end_time": "2022-12-19T11:23:30.372285",
     "exception": false,
     "start_time": "2022-12-19T11:23:30.124254",
     "status": "completed"
    },
    "tags": []
   },
   "outputs": [
    {
     "name": "stdout",
     "output_type": "stream",
     "text": [
      "(27481, 4)\n",
      "(3534, 3)\n"
     ]
    }
   ],
   "source": [
    "df_train = pd.read_csv('/kaggle/input/traincsv/train.csv')\n",
    "df_test = pd.read_csv('/kaggle/input/testcsv/test.csv')\n",
    "print(df_train.shape)\n",
    "print(df_test.shape)"
   ]
  },
  {
   "cell_type": "code",
   "execution_count": 5,
   "id": "8984f76f",
   "metadata": {
    "execution": {
     "iopub.execute_input": "2022-12-19T11:23:30.439472Z",
     "iopub.status.busy": "2022-12-19T11:23:30.438386Z",
     "iopub.status.idle": "2022-12-19T11:23:30.491296Z",
     "shell.execute_reply": "2022-12-19T11:23:30.490353Z",
     "shell.execute_reply.started": "2022-12-15T13:16:59.247411Z"
    },
    "papermill": {
     "duration": 0.088288,
     "end_time": "2022-12-19T11:23:30.491480",
     "exception": false,
     "start_time": "2022-12-19T11:23:30.403192",
     "status": "completed"
    },
    "tags": []
   },
   "outputs": [
    {
     "name": "stdout",
     "output_type": "stream",
     "text": [
      "<class 'pandas.core.frame.DataFrame'>\n",
      "Int64Index: 27480 entries, 0 to 27480\n",
      "Data columns (total 4 columns):\n",
      " #   Column         Non-Null Count  Dtype \n",
      "---  ------         --------------  ----- \n",
      " 0   textID         27480 non-null  object\n",
      " 1   text           27480 non-null  object\n",
      " 2   selected_text  27480 non-null  object\n",
      " 3   sentiment      27480 non-null  object\n",
      "dtypes: object(4)\n",
      "memory usage: 1.0+ MB\n"
     ]
    }
   ],
   "source": [
    "df_train.dropna(inplace=True)\n",
    "df_train.info()"
   ]
  },
  {
   "cell_type": "code",
   "execution_count": 6,
   "id": "a708d74b",
   "metadata": {
    "execution": {
     "iopub.execute_input": "2022-12-19T11:23:30.554650Z",
     "iopub.status.busy": "2022-12-19T11:23:30.553506Z",
     "iopub.status.idle": "2022-12-19T11:23:30.568492Z",
     "shell.execute_reply": "2022-12-19T11:23:30.567735Z",
     "shell.execute_reply.started": "2022-12-15T13:16:59.294977Z"
    },
    "papermill": {
     "duration": 0.047249,
     "end_time": "2022-12-19T11:23:30.568670",
     "exception": false,
     "start_time": "2022-12-19T11:23:30.521421",
     "status": "completed"
    },
    "tags": []
   },
   "outputs": [
    {
     "name": "stdout",
     "output_type": "stream",
     "text": [
      "<class 'pandas.core.frame.DataFrame'>\n",
      "RangeIndex: 3534 entries, 0 to 3533\n",
      "Data columns (total 3 columns):\n",
      " #   Column     Non-Null Count  Dtype \n",
      "---  ------     --------------  ----- \n",
      " 0   textID     3534 non-null   object\n",
      " 1   text       3534 non-null   object\n",
      " 2   sentiment  3534 non-null   object\n",
      "dtypes: object(3)\n",
      "memory usage: 83.0+ KB\n"
     ]
    }
   ],
   "source": [
    "df_test.info()"
   ]
  },
  {
   "cell_type": "markdown",
   "id": "288b8425",
   "metadata": {
    "papermill": {
     "duration": 0.030005,
     "end_time": "2022-12-19T11:23:30.629389",
     "exception": false,
     "start_time": "2022-12-19T11:23:30.599384",
     "status": "completed"
    },
    "tags": []
   },
   "source": [
    "# Data processing"
   ]
  },
  {
   "cell_type": "code",
   "execution_count": 7,
   "id": "5eb5e926",
   "metadata": {
    "execution": {
     "iopub.execute_input": "2022-12-19T11:23:30.697904Z",
     "iopub.status.busy": "2022-12-19T11:23:30.697155Z",
     "iopub.status.idle": "2022-12-19T11:23:30.725880Z",
     "shell.execute_reply": "2022-12-19T11:23:30.725156Z",
     "shell.execute_reply.started": "2022-12-15T13:16:59.310060Z"
    },
    "papermill": {
     "duration": 0.066109,
     "end_time": "2022-12-19T11:23:30.726037",
     "exception": false,
     "start_time": "2022-12-19T11:23:30.659928",
     "status": "completed"
    },
    "scrolled": true,
    "tags": []
   },
   "outputs": [
    {
     "data": {
      "text/html": [
       "<div>\n",
       "<style scoped>\n",
       "    .dataframe tbody tr th:only-of-type {\n",
       "        vertical-align: middle;\n",
       "    }\n",
       "\n",
       "    .dataframe tbody tr th {\n",
       "        vertical-align: top;\n",
       "    }\n",
       "\n",
       "    .dataframe thead th {\n",
       "        text-align: right;\n",
       "    }\n",
       "</style>\n",
       "<table border=\"1\" class=\"dataframe\">\n",
       "  <thead>\n",
       "    <tr style=\"text-align: right;\">\n",
       "      <th></th>\n",
       "      <th>textID</th>\n",
       "      <th>text</th>\n",
       "      <th>selected_text</th>\n",
       "      <th>sentiment</th>\n",
       "    </tr>\n",
       "  </thead>\n",
       "  <tbody>\n",
       "    <tr>\n",
       "      <th>0</th>\n",
       "      <td>cb774db0d1</td>\n",
       "      <td>I`d have responded, if I were going</td>\n",
       "      <td>I`d have responded, if I were going</td>\n",
       "      <td>neutral</td>\n",
       "    </tr>\n",
       "    <tr>\n",
       "      <th>1</th>\n",
       "      <td>549e992a42</td>\n",
       "      <td>Sooo SAD I will miss you here in San Diego!!!</td>\n",
       "      <td>Sooo SAD</td>\n",
       "      <td>negative</td>\n",
       "    </tr>\n",
       "    <tr>\n",
       "      <th>2</th>\n",
       "      <td>088c60f138</td>\n",
       "      <td>my boss is bullying me...</td>\n",
       "      <td>bullying me</td>\n",
       "      <td>negative</td>\n",
       "    </tr>\n",
       "    <tr>\n",
       "      <th>3</th>\n",
       "      <td>9642c003ef</td>\n",
       "      <td>what interview! leave me alone</td>\n",
       "      <td>leave me alone</td>\n",
       "      <td>negative</td>\n",
       "    </tr>\n",
       "    <tr>\n",
       "      <th>4</th>\n",
       "      <td>358bd9e861</td>\n",
       "      <td>Sons of ****, why couldn`t they put them on t...</td>\n",
       "      <td>Sons of ****,</td>\n",
       "      <td>negative</td>\n",
       "    </tr>\n",
       "    <tr>\n",
       "      <th>...</th>\n",
       "      <td>...</td>\n",
       "      <td>...</td>\n",
       "      <td>...</td>\n",
       "      <td>...</td>\n",
       "    </tr>\n",
       "    <tr>\n",
       "      <th>27476</th>\n",
       "      <td>4eac33d1c0</td>\n",
       "      <td>wish we could come see u on Denver  husband l...</td>\n",
       "      <td>d lost</td>\n",
       "      <td>negative</td>\n",
       "    </tr>\n",
       "    <tr>\n",
       "      <th>27477</th>\n",
       "      <td>4f4c4fc327</td>\n",
       "      <td>I`ve wondered about rake to.  The client has ...</td>\n",
       "      <td>, don`t force</td>\n",
       "      <td>negative</td>\n",
       "    </tr>\n",
       "    <tr>\n",
       "      <th>27478</th>\n",
       "      <td>f67aae2310</td>\n",
       "      <td>Yay good for both of you. Enjoy the break - y...</td>\n",
       "      <td>Yay good for both of you.</td>\n",
       "      <td>positive</td>\n",
       "    </tr>\n",
       "    <tr>\n",
       "      <th>27479</th>\n",
       "      <td>ed167662a5</td>\n",
       "      <td>But it was worth it  ****.</td>\n",
       "      <td>But it was worth it  ****.</td>\n",
       "      <td>positive</td>\n",
       "    </tr>\n",
       "    <tr>\n",
       "      <th>27480</th>\n",
       "      <td>6f7127d9d7</td>\n",
       "      <td>All this flirting going on - The ATG smiles...</td>\n",
       "      <td>All this flirting going on - The ATG smiles. Y...</td>\n",
       "      <td>neutral</td>\n",
       "    </tr>\n",
       "  </tbody>\n",
       "</table>\n",
       "<p>27480 rows × 4 columns</p>\n",
       "</div>"
      ],
      "text/plain": [
       "           textID                                               text  \\\n",
       "0      cb774db0d1                I`d have responded, if I were going   \n",
       "1      549e992a42      Sooo SAD I will miss you here in San Diego!!!   \n",
       "2      088c60f138                          my boss is bullying me...   \n",
       "3      9642c003ef                     what interview! leave me alone   \n",
       "4      358bd9e861   Sons of ****, why couldn`t they put them on t...   \n",
       "...           ...                                                ...   \n",
       "27476  4eac33d1c0   wish we could come see u on Denver  husband l...   \n",
       "27477  4f4c4fc327   I`ve wondered about rake to.  The client has ...   \n",
       "27478  f67aae2310   Yay good for both of you. Enjoy the break - y...   \n",
       "27479  ed167662a5                         But it was worth it  ****.   \n",
       "27480  6f7127d9d7     All this flirting going on - The ATG smiles...   \n",
       "\n",
       "                                           selected_text sentiment  \n",
       "0                    I`d have responded, if I were going   neutral  \n",
       "1                                               Sooo SAD  negative  \n",
       "2                                            bullying me  negative  \n",
       "3                                         leave me alone  negative  \n",
       "4                                          Sons of ****,  negative  \n",
       "...                                                  ...       ...  \n",
       "27476                                             d lost  negative  \n",
       "27477                                      , don`t force  negative  \n",
       "27478                          Yay good for both of you.  positive  \n",
       "27479                         But it was worth it  ****.  positive  \n",
       "27480  All this flirting going on - The ATG smiles. Y...   neutral  \n",
       "\n",
       "[27480 rows x 4 columns]"
      ]
     },
     "execution_count": 7,
     "metadata": {},
     "output_type": "execute_result"
    }
   ],
   "source": [
    "df_train"
   ]
  },
  {
   "cell_type": "markdown",
   "id": "a7db773e",
   "metadata": {
    "papermill": {
     "duration": 0.029823,
     "end_time": "2022-12-19T11:23:30.785937",
     "exception": false,
     "start_time": "2022-12-19T11:23:30.756114",
     "status": "completed"
    },
    "tags": []
   },
   "source": [
    "## Text"
   ]
  },
  {
   "cell_type": "code",
   "execution_count": 8,
   "id": "e7efd91e",
   "metadata": {
    "execution": {
     "iopub.execute_input": "2022-12-19T11:23:30.867097Z",
     "iopub.status.busy": "2022-12-19T11:23:30.853033Z",
     "iopub.status.idle": "2022-12-19T11:23:30.873558Z",
     "shell.execute_reply": "2022-12-19T11:23:30.872715Z",
     "shell.execute_reply.started": "2022-12-15T13:16:59.341228Z"
    },
    "papermill": {
     "duration": 0.058357,
     "end_time": "2022-12-19T11:23:30.873764",
     "exception": false,
     "start_time": "2022-12-19T11:23:30.815407",
     "status": "completed"
    },
    "tags": []
   },
   "outputs": [],
   "source": [
    "df_train['text']=df_train['text'].str.lower()"
   ]
  },
  {
   "cell_type": "code",
   "execution_count": 9,
   "id": "fb4893d8",
   "metadata": {
    "execution": {
     "iopub.execute_input": "2022-12-19T11:23:30.945632Z",
     "iopub.status.busy": "2022-12-19T11:23:30.939821Z",
     "iopub.status.idle": "2022-12-19T11:23:31.139643Z",
     "shell.execute_reply": "2022-12-19T11:23:31.138778Z",
     "shell.execute_reply.started": "2022-12-15T13:16:59.362884Z"
    },
    "papermill": {
     "duration": 0.236288,
     "end_time": "2022-12-19T11:23:31.139857",
     "exception": false,
     "start_time": "2022-12-19T11:23:30.903569",
     "status": "completed"
    },
    "tags": []
   },
   "outputs": [],
   "source": [
    "# Remove all urls\n",
    "urls = r'''(?i)\\b((?:https?://|www\\d{0,3}[.]|[a-z0-9.\\-]+[.][a-z]{2,4}/)(?:[^\\s()<>]+|\\(([^\\s()<>]+|(\\([^\\s()<>]+\\)))*\\))+(?:\\(([^\\s()<>]+|(\\([^\\s()<>]+\\)))*\\)|[^\\s`!()\\[\\]{};:'\".,<>?«»“”‘’]))'''\n",
    "df_train['text']=df_train['text'].map(lambda char:re.sub(urls, \"\", char))"
   ]
  },
  {
   "cell_type": "code",
   "execution_count": 10,
   "id": "cf2ac8e2",
   "metadata": {
    "execution": {
     "iopub.execute_input": "2022-12-19T11:23:31.204326Z",
     "iopub.status.busy": "2022-12-19T11:23:31.203597Z",
     "iopub.status.idle": "2022-12-19T11:23:31.483468Z",
     "shell.execute_reply": "2022-12-19T11:23:31.482900Z",
     "shell.execute_reply.started": "2022-12-15T13:16:59.556748Z"
    },
    "papermill": {
     "duration": 0.314945,
     "end_time": "2022-12-19T11:23:31.483634",
     "exception": false,
     "start_time": "2022-12-19T11:23:31.168689",
     "status": "completed"
    },
    "tags": []
   },
   "outputs": [],
   "source": [
    "# Remove all numbers\n",
    "df_train['text']=df_train['text'].map(lambda s:''.join([i for i in s if not i.isdigit()]))"
   ]
  },
  {
   "cell_type": "code",
   "execution_count": 11,
   "id": "7881709f",
   "metadata": {
    "execution": {
     "iopub.execute_input": "2022-12-19T11:23:31.609102Z",
     "iopub.status.busy": "2022-12-19T11:23:31.582950Z",
     "iopub.status.idle": "2022-12-19T11:23:31.742196Z",
     "shell.execute_reply": "2022-12-19T11:23:31.741506Z",
     "shell.execute_reply.started": "2022-12-15T13:16:59.820154Z"
    },
    "papermill": {
     "duration": 0.230001,
     "end_time": "2022-12-19T11:23:31.742352",
     "exception": false,
     "start_time": "2022-12-19T11:23:31.512351",
     "status": "completed"
    },
    "tags": []
   },
   "outputs": [],
   "source": [
    "df_train['text']=df_train['text'].map(lambda char:re.sub(r'^\\s*|\\s\\s*', ' ', char).strip())"
   ]
  },
  {
   "cell_type": "code",
   "execution_count": 12,
   "id": "a9c03a2a",
   "metadata": {
    "execution": {
     "iopub.execute_input": "2022-12-19T11:23:31.808517Z",
     "iopub.status.busy": "2022-12-19T11:23:31.807803Z",
     "iopub.status.idle": "2022-12-19T11:23:31.907742Z",
     "shell.execute_reply": "2022-12-19T11:23:31.908295Z",
     "shell.execute_reply.started": "2022-12-15T13:17:00.020878Z"
    },
    "papermill": {
     "duration": 0.136896,
     "end_time": "2022-12-19T11:23:31.908480",
     "exception": false,
     "start_time": "2022-12-19T11:23:31.771584",
     "status": "completed"
    },
    "tags": []
   },
   "outputs": [
    {
     "name": "stderr",
     "output_type": "stream",
     "text": [
      "/opt/conda/lib/python3.7/site-packages/ipykernel_launcher.py:2: FutureWarning: The default value of regex will change from True to False in a future version.\n",
      "  \n"
     ]
    }
   ],
   "source": [
    "# Remove all Punc.\n",
    "df_train['text']=df_train['text'].str.replace(r'[^\\w\\s]+', '')"
   ]
  },
  {
   "cell_type": "code",
   "execution_count": 13,
   "id": "4ea0f335",
   "metadata": {
    "execution": {
     "iopub.execute_input": "2022-12-19T11:23:31.984197Z",
     "iopub.status.busy": "2022-12-19T11:23:31.979274Z",
     "iopub.status.idle": "2022-12-19T11:23:32.054120Z",
     "shell.execute_reply": "2022-12-19T11:23:32.053494Z",
     "shell.execute_reply.started": "2022-12-15T13:17:00.115416Z"
    },
    "papermill": {
     "duration": 0.117852,
     "end_time": "2022-12-19T11:23:32.054292",
     "exception": false,
     "start_time": "2022-12-19T11:23:31.936440",
     "status": "completed"
    },
    "tags": []
   },
   "outputs": [
    {
     "name": "stderr",
     "output_type": "stream",
     "text": [
      "/opt/conda/lib/python3.7/site-packages/ipykernel_launcher.py:2: FutureWarning: The default value of regex will change from True to False in a future version.\n",
      "  \n"
     ]
    }
   ],
   "source": [
    "# Remove special char\n",
    "df_train['text']= df_train['text'].str.replace(r\"[^a-zA-Z ]+\", \" \").str.strip()"
   ]
  },
  {
   "cell_type": "code",
   "execution_count": 14,
   "id": "2c54f455",
   "metadata": {
    "execution": {
     "iopub.execute_input": "2022-12-19T11:23:32.151367Z",
     "iopub.status.busy": "2022-12-19T11:23:32.145688Z",
     "iopub.status.idle": "2022-12-19T11:23:32.154668Z",
     "shell.execute_reply": "2022-12-19T11:23:32.153959Z",
     "shell.execute_reply.started": "2022-12-15T13:17:00.191986Z"
    },
    "papermill": {
     "duration": 0.071914,
     "end_time": "2022-12-19T11:23:32.154866",
     "exception": false,
     "start_time": "2022-12-19T11:23:32.082952",
     "status": "completed"
    },
    "tags": []
   },
   "outputs": [],
   "source": [
    "import unicodedata\n",
    "df_train['text']= df_train['text'].map(lambda char:unicodedata.normalize('NFKD', char).encode('ascii', 'ignore').decode('utf-8', 'ignore'))"
   ]
  },
  {
   "cell_type": "markdown",
   "id": "0f22e8ea",
   "metadata": {
    "papermill": {
     "duration": 0.028685,
     "end_time": "2022-12-19T11:23:32.213584",
     "exception": false,
     "start_time": "2022-12-19T11:23:32.184899",
     "status": "completed"
    },
    "tags": []
   },
   "source": [
    "## Selected Text"
   ]
  },
  {
   "cell_type": "code",
   "execution_count": 15,
   "id": "93c540f1",
   "metadata": {
    "execution": {
     "iopub.execute_input": "2022-12-19T11:23:32.280309Z",
     "iopub.status.busy": "2022-12-19T11:23:32.279104Z",
     "iopub.status.idle": "2022-12-19T11:23:32.831845Z",
     "shell.execute_reply": "2022-12-19T11:23:32.832337Z",
     "shell.execute_reply.started": "2022-12-15T13:17:00.230488Z"
    },
    "papermill": {
     "duration": 0.589774,
     "end_time": "2022-12-19T11:23:32.832560",
     "exception": false,
     "start_time": "2022-12-19T11:23:32.242786",
     "status": "completed"
    },
    "tags": []
   },
   "outputs": [
    {
     "name": "stderr",
     "output_type": "stream",
     "text": [
      "/opt/conda/lib/python3.7/site-packages/ipykernel_launcher.py:9: FutureWarning: The default value of regex will change from True to False in a future version.\n",
      "  if __name__ == '__main__':\n",
      "/opt/conda/lib/python3.7/site-packages/ipykernel_launcher.py:11: FutureWarning: The default value of regex will change from True to False in a future version.\n",
      "  # This is added back by InteractiveShellApp.init_path()\n"
     ]
    }
   ],
   "source": [
    "df_train['selected_text']=df_train['selected_text'].str.lower()\n",
    "# Remove all urls\n",
    "urls = r'''(?i)\\b((?:https?://|www\\d{0,3}[.]|[a-z0-9.\\-]+[.][a-z]{2,4}/)(?:[^\\s()<>]+|\\(([^\\s()<>]+|(\\([^\\s()<>]+\\)))*\\))+(?:\\(([^\\s()<>]+|(\\([^\\s()<>]+\\)))*\\)|[^\\s`!()\\[\\]{};:'\".,<>?«»“”‘’]))'''\n",
    "df_train['selected_text']=df_train['selected_text'].map(lambda char:re.sub(urls, \"\", char))\n",
    "# Remove all numbers\n",
    "df_train['selected_text']=df_train['selected_text'].map(lambda s:''.join([i for i in s if not i.isdigit()]))\n",
    "df_train['selected_text']=df_train['selected_text'].map(lambda char:re.sub(r'^\\s*|\\s\\s*', ' ', char).strip())\n",
    "# Remove all Punc.\n",
    "df_train['selected_text']=df_train['selected_text'].str.replace(r'[^\\w\\s]+', '')\n",
    "# Remove special char\n",
    "df_train['selected_text']= df_train['selected_text'].str.replace(r\"[^a-zA-Z ]+\", \" \").str.strip()\n",
    "df_train['selected_text']= df_train['selected_text'].map(lambda char:unicodedata.normalize('NFKD', char).encode('ascii', 'ignore').decode('utf-8', 'ignore'))"
   ]
  },
  {
   "cell_type": "code",
   "execution_count": 16,
   "id": "6435bd81",
   "metadata": {
    "execution": {
     "iopub.execute_input": "2022-12-19T11:23:32.897926Z",
     "iopub.status.busy": "2022-12-19T11:23:32.896454Z",
     "iopub.status.idle": "2022-12-19T11:23:32.901878Z",
     "shell.execute_reply": "2022-12-19T11:23:32.901226Z",
     "shell.execute_reply.started": "2022-12-15T13:17:00.768725Z"
    },
    "papermill": {
     "duration": 0.041114,
     "end_time": "2022-12-19T11:23:32.902027",
     "exception": false,
     "start_time": "2022-12-19T11:23:32.860913",
     "status": "completed"
    },
    "tags": []
   },
   "outputs": [
    {
     "data": {
      "text/plain": [
       "'from autocorrect import Speller\\nspell = Speller(lang=\"en\")\\ntokenizer = RegexpTokenizer(r\\'\\\\w+\\')\\n\\ndf_train.text = df_train.text.map(lambda x:tokenizer.tokenize(x))  #remove punctuation and tokenize\\ndf_train.text = df_train.text.map(lambda x:[spell(i) for i in x])  #spell check'"
      ]
     },
     "execution_count": 16,
     "metadata": {},
     "output_type": "execute_result"
    }
   ],
   "source": [
    "'''from autocorrect import Speller\n",
    "spell = Speller(lang=\"en\")\n",
    "tokenizer = RegexpTokenizer(r'\\w+')\n",
    "\n",
    "df_train.text = df_train.text.map(lambda x:tokenizer.tokenize(x))  #remove punctuation and tokenize\n",
    "df_train.text = df_train.text.map(lambda x:[spell(i) for i in x])  #spell check'''"
   ]
  },
  {
   "cell_type": "code",
   "execution_count": 17,
   "id": "da6ae8c5",
   "metadata": {
    "execution": {
     "iopub.execute_input": "2022-12-19T11:23:32.976961Z",
     "iopub.status.busy": "2022-12-19T11:23:32.976259Z",
     "iopub.status.idle": "2022-12-19T11:23:32.981610Z",
     "shell.execute_reply": "2022-12-19T11:23:32.980993Z",
     "shell.execute_reply.started": "2022-12-15T13:17:00.775921Z"
    },
    "papermill": {
     "duration": 0.049592,
     "end_time": "2022-12-19T11:23:32.981783",
     "exception": false,
     "start_time": "2022-12-19T11:23:32.932191",
     "status": "completed"
    },
    "scrolled": true,
    "tags": []
   },
   "outputs": [
    {
     "data": {
      "text/html": [
       "<div>\n",
       "<style scoped>\n",
       "    .dataframe tbody tr th:only-of-type {\n",
       "        vertical-align: middle;\n",
       "    }\n",
       "\n",
       "    .dataframe tbody tr th {\n",
       "        vertical-align: top;\n",
       "    }\n",
       "\n",
       "    .dataframe thead th {\n",
       "        text-align: right;\n",
       "    }\n",
       "</style>\n",
       "<table border=\"1\" class=\"dataframe\">\n",
       "  <thead>\n",
       "    <tr style=\"text-align: right;\">\n",
       "      <th></th>\n",
       "      <th>textID</th>\n",
       "      <th>text</th>\n",
       "      <th>selected_text</th>\n",
       "      <th>sentiment</th>\n",
       "    </tr>\n",
       "  </thead>\n",
       "  <tbody>\n",
       "    <tr>\n",
       "      <th>0</th>\n",
       "      <td>cb774db0d1</td>\n",
       "      <td>id have responded if i were going</td>\n",
       "      <td>id have responded if i were going</td>\n",
       "      <td>neutral</td>\n",
       "    </tr>\n",
       "    <tr>\n",
       "      <th>1</th>\n",
       "      <td>549e992a42</td>\n",
       "      <td>sooo sad i will miss you here in san diego</td>\n",
       "      <td>sooo sad</td>\n",
       "      <td>negative</td>\n",
       "    </tr>\n",
       "    <tr>\n",
       "      <th>2</th>\n",
       "      <td>088c60f138</td>\n",
       "      <td>my boss is bullying me</td>\n",
       "      <td>bullying me</td>\n",
       "      <td>negative</td>\n",
       "    </tr>\n",
       "    <tr>\n",
       "      <th>3</th>\n",
       "      <td>9642c003ef</td>\n",
       "      <td>what interview leave me alone</td>\n",
       "      <td>leave me alone</td>\n",
       "      <td>negative</td>\n",
       "    </tr>\n",
       "    <tr>\n",
       "      <th>4</th>\n",
       "      <td>358bd9e861</td>\n",
       "      <td>sons of  why couldnt they put them on the rele...</td>\n",
       "      <td>sons of</td>\n",
       "      <td>negative</td>\n",
       "    </tr>\n",
       "    <tr>\n",
       "      <th>...</th>\n",
       "      <td>...</td>\n",
       "      <td>...</td>\n",
       "      <td>...</td>\n",
       "      <td>...</td>\n",
       "    </tr>\n",
       "    <tr>\n",
       "      <th>27476</th>\n",
       "      <td>4eac33d1c0</td>\n",
       "      <td>wish we could come see u on denver husband los...</td>\n",
       "      <td>d lost</td>\n",
       "      <td>negative</td>\n",
       "    </tr>\n",
       "    <tr>\n",
       "      <th>27477</th>\n",
       "      <td>4f4c4fc327</td>\n",
       "      <td>ive wondered about rake to the client has made...</td>\n",
       "      <td>dont force</td>\n",
       "      <td>negative</td>\n",
       "    </tr>\n",
       "    <tr>\n",
       "      <th>27478</th>\n",
       "      <td>f67aae2310</td>\n",
       "      <td>yay good for both of you enjoy the break  you ...</td>\n",
       "      <td>yay good for both of you</td>\n",
       "      <td>positive</td>\n",
       "    </tr>\n",
       "    <tr>\n",
       "      <th>27479</th>\n",
       "      <td>ed167662a5</td>\n",
       "      <td>but it was worth it</td>\n",
       "      <td>but it was worth it</td>\n",
       "      <td>positive</td>\n",
       "    </tr>\n",
       "    <tr>\n",
       "      <th>27480</th>\n",
       "      <td>6f7127d9d7</td>\n",
       "      <td>all this flirting going on  the atg smiles yay...</td>\n",
       "      <td>all this flirting going on  the atg smiles yay...</td>\n",
       "      <td>neutral</td>\n",
       "    </tr>\n",
       "  </tbody>\n",
       "</table>\n",
       "<p>27480 rows × 4 columns</p>\n",
       "</div>"
      ],
      "text/plain": [
       "           textID                                               text  \\\n",
       "0      cb774db0d1                  id have responded if i were going   \n",
       "1      549e992a42         sooo sad i will miss you here in san diego   \n",
       "2      088c60f138                             my boss is bullying me   \n",
       "3      9642c003ef                      what interview leave me alone   \n",
       "4      358bd9e861  sons of  why couldnt they put them on the rele...   \n",
       "...           ...                                                ...   \n",
       "27476  4eac33d1c0  wish we could come see u on denver husband los...   \n",
       "27477  4f4c4fc327  ive wondered about rake to the client has made...   \n",
       "27478  f67aae2310  yay good for both of you enjoy the break  you ...   \n",
       "27479  ed167662a5                                but it was worth it   \n",
       "27480  6f7127d9d7  all this flirting going on  the atg smiles yay...   \n",
       "\n",
       "                                           selected_text sentiment  \n",
       "0                      id have responded if i were going   neutral  \n",
       "1                                               sooo sad  negative  \n",
       "2                                            bullying me  negative  \n",
       "3                                         leave me alone  negative  \n",
       "4                                                sons of  negative  \n",
       "...                                                  ...       ...  \n",
       "27476                                             d lost  negative  \n",
       "27477                                         dont force  negative  \n",
       "27478                           yay good for both of you  positive  \n",
       "27479                                but it was worth it  positive  \n",
       "27480  all this flirting going on  the atg smiles yay...   neutral  \n",
       "\n",
       "[27480 rows x 4 columns]"
      ]
     },
     "execution_count": 17,
     "metadata": {},
     "output_type": "execute_result"
    }
   ],
   "source": [
    "df_train"
   ]
  },
  {
   "cell_type": "markdown",
   "id": "217f347f",
   "metadata": {
    "papermill": {
     "duration": 0.029075,
     "end_time": "2022-12-19T11:23:33.039981",
     "exception": false,
     "start_time": "2022-12-19T11:23:33.010906",
     "status": "completed"
    },
    "tags": []
   },
   "source": [
    "# Models"
   ]
  },
  {
   "cell_type": "code",
   "execution_count": 18,
   "id": "93d1ba9e",
   "metadata": {
    "execution": {
     "iopub.execute_input": "2022-12-19T11:23:33.103420Z",
     "iopub.status.busy": "2022-12-19T11:23:33.102610Z",
     "iopub.status.idle": "2022-12-19T11:23:39.694853Z",
     "shell.execute_reply": "2022-12-19T11:23:39.694161Z",
     "shell.execute_reply.started": "2022-12-15T13:17:00.797325Z"
    },
    "papermill": {
     "duration": 6.626756,
     "end_time": "2022-12-19T11:23:39.695051",
     "exception": false,
     "start_time": "2022-12-19T11:23:33.068295",
     "status": "completed"
    },
    "tags": []
   },
   "outputs": [
    {
     "name": "stderr",
     "output_type": "stream",
     "text": [
      "2022-12-19 11:23:34.106351: W tensorflow/stream_executor/platform/default/dso_loader.cc:60] Could not load dynamic library 'libcudart.so.11.0'; dlerror: libcudart.so.11.0: cannot open shared object file: No such file or directory; LD_LIBRARY_PATH: /opt/conda/lib\n",
      "2022-12-19 11:23:34.106499: I tensorflow/stream_executor/cuda/cudart_stub.cc:29] Ignore above cudart dlerror if you do not have a GPU set up on your machine.\n"
     ]
    }
   ],
   "source": [
    "import gensim\n",
    "from gensim.models.word2vec import Word2Vec\n",
    "import gensim.downloader as api\n",
    "from tensorflow.keras.utils import to_categorical\n",
    "import tensorflow.keras as keras\n",
    "from time import time\n",
    "from tensorflow.keras.preprocessing.text import Tokenizer\n",
    "from tensorflow.keras.preprocessing.sequence import pad_sequences"
   ]
  },
  {
   "cell_type": "code",
   "execution_count": 19,
   "id": "7fcba492",
   "metadata": {
    "execution": {
     "iopub.execute_input": "2022-12-19T11:23:39.768488Z",
     "iopub.status.busy": "2022-12-19T11:23:39.767219Z",
     "iopub.status.idle": "2022-12-19T11:23:39.776671Z",
     "shell.execute_reply": "2022-12-19T11:23:39.775485Z",
     "shell.execute_reply.started": "2022-12-15T13:17:00.809093Z"
    },
    "papermill": {
     "duration": 0.046846,
     "end_time": "2022-12-19T11:23:39.776975",
     "exception": false,
     "start_time": "2022-12-19T11:23:39.730129",
     "status": "completed"
    },
    "tags": []
   },
   "outputs": [],
   "source": [
    "from tensorflow.keras.models import Sequential\n",
    "from tensorflow.keras import regularizers\n",
    "from tensorflow.keras.layers import Dense, Dropout, Flatten\n",
    "from tensorflow.keras.layers import Conv1D\n",
    "from tensorflow.keras import layers\n",
    "from sklearn.metrics import accuracy_score, f1_score\n",
    "from tensorflow.keras.layers import Dense, Embedding, LSTM, SpatialDropout1D"
   ]
  },
  {
   "cell_type": "code",
   "execution_count": 20,
   "id": "4b6f5641",
   "metadata": {
    "execution": {
     "iopub.execute_input": "2022-12-19T11:23:39.851845Z",
     "iopub.status.busy": "2022-12-19T11:23:39.850838Z",
     "iopub.status.idle": "2022-12-19T11:23:39.881656Z",
     "shell.execute_reply": "2022-12-19T11:23:39.880461Z",
     "shell.execute_reply.started": "2022-12-15T13:17:00.823147Z"
    },
    "papermill": {
     "duration": 0.072021,
     "end_time": "2022-12-19T11:23:39.881896",
     "exception": false,
     "start_time": "2022-12-19T11:23:39.809875",
     "status": "completed"
    },
    "tags": []
   },
   "outputs": [],
   "source": [
    "# Text\n",
    "df = df_train\n",
    "df['text'] = df['text'].map(lambda x:str(x))\n",
    "df['sentiment'] = df_train['sentiment'].astype(\"category\")\n",
    "df['sentiment'] = df_train['sentiment'].cat.codes\n",
    "# df"
   ]
  },
  {
   "cell_type": "code",
   "execution_count": 21,
   "id": "7e23d34b",
   "metadata": {
    "execution": {
     "iopub.execute_input": "2022-12-19T11:23:39.970874Z",
     "iopub.status.busy": "2022-12-19T11:23:39.960712Z",
     "iopub.status.idle": "2022-12-19T11:23:39.976027Z",
     "shell.execute_reply": "2022-12-19T11:23:39.976979Z",
     "shell.execute_reply.started": "2022-12-15T13:17:00.853003Z"
    },
    "papermill": {
     "duration": 0.060315,
     "end_time": "2022-12-19T11:23:39.977286",
     "exception": false,
     "start_time": "2022-12-19T11:23:39.916971",
     "status": "completed"
    },
    "tags": []
   },
   "outputs": [
    {
     "data": {
      "text/html": [
       "<div>\n",
       "<style scoped>\n",
       "    .dataframe tbody tr th:only-of-type {\n",
       "        vertical-align: middle;\n",
       "    }\n",
       "\n",
       "    .dataframe tbody tr th {\n",
       "        vertical-align: top;\n",
       "    }\n",
       "\n",
       "    .dataframe thead th {\n",
       "        text-align: right;\n",
       "    }\n",
       "</style>\n",
       "<table border=\"1\" class=\"dataframe\">\n",
       "  <thead>\n",
       "    <tr style=\"text-align: right;\">\n",
       "      <th></th>\n",
       "      <th>textID</th>\n",
       "      <th>text</th>\n",
       "      <th>sentiment</th>\n",
       "    </tr>\n",
       "  </thead>\n",
       "  <tbody>\n",
       "    <tr>\n",
       "      <th>0</th>\n",
       "      <td>f87dea47db</td>\n",
       "      <td>Last session of the day  http://twitpic.com/67ezh</td>\n",
       "      <td>neutral</td>\n",
       "    </tr>\n",
       "    <tr>\n",
       "      <th>1</th>\n",
       "      <td>96d74cb729</td>\n",
       "      <td>Shanghai is also really exciting (precisely -...</td>\n",
       "      <td>positive</td>\n",
       "    </tr>\n",
       "    <tr>\n",
       "      <th>2</th>\n",
       "      <td>eee518ae67</td>\n",
       "      <td>Recession hit Veronique Branquinho, she has to...</td>\n",
       "      <td>negative</td>\n",
       "    </tr>\n",
       "    <tr>\n",
       "      <th>3</th>\n",
       "      <td>01082688c6</td>\n",
       "      <td>happy bday!</td>\n",
       "      <td>positive</td>\n",
       "    </tr>\n",
       "    <tr>\n",
       "      <th>4</th>\n",
       "      <td>33987a8ee5</td>\n",
       "      <td>http://twitpic.com/4w75p - I like it!!</td>\n",
       "      <td>positive</td>\n",
       "    </tr>\n",
       "    <tr>\n",
       "      <th>...</th>\n",
       "      <td>...</td>\n",
       "      <td>...</td>\n",
       "      <td>...</td>\n",
       "    </tr>\n",
       "    <tr>\n",
       "      <th>3529</th>\n",
       "      <td>e5f0e6ef4b</td>\n",
       "      <td>its at 3 am, im very tired but i can`t sleep  ...</td>\n",
       "      <td>negative</td>\n",
       "    </tr>\n",
       "    <tr>\n",
       "      <th>3530</th>\n",
       "      <td>416863ce47</td>\n",
       "      <td>All alone in this old house again.  Thanks for...</td>\n",
       "      <td>positive</td>\n",
       "    </tr>\n",
       "    <tr>\n",
       "      <th>3531</th>\n",
       "      <td>6332da480c</td>\n",
       "      <td>I know what you mean. My little dog is sinkin...</td>\n",
       "      <td>negative</td>\n",
       "    </tr>\n",
       "    <tr>\n",
       "      <th>3532</th>\n",
       "      <td>df1baec676</td>\n",
       "      <td>_sutra what is your next youtube video gonna b...</td>\n",
       "      <td>positive</td>\n",
       "    </tr>\n",
       "    <tr>\n",
       "      <th>3533</th>\n",
       "      <td>469e15c5a8</td>\n",
       "      <td>http://twitpic.com/4woj2 - omgssh  ang cute n...</td>\n",
       "      <td>positive</td>\n",
       "    </tr>\n",
       "  </tbody>\n",
       "</table>\n",
       "<p>3534 rows × 3 columns</p>\n",
       "</div>"
      ],
      "text/plain": [
       "          textID                                               text sentiment\n",
       "0     f87dea47db  Last session of the day  http://twitpic.com/67ezh   neutral\n",
       "1     96d74cb729   Shanghai is also really exciting (precisely -...  positive\n",
       "2     eee518ae67  Recession hit Veronique Branquinho, she has to...  negative\n",
       "3     01082688c6                                        happy bday!  positive\n",
       "4     33987a8ee5             http://twitpic.com/4w75p - I like it!!  positive\n",
       "...          ...                                                ...       ...\n",
       "3529  e5f0e6ef4b  its at 3 am, im very tired but i can`t sleep  ...  negative\n",
       "3530  416863ce47  All alone in this old house again.  Thanks for...  positive\n",
       "3531  6332da480c   I know what you mean. My little dog is sinkin...  negative\n",
       "3532  df1baec676  _sutra what is your next youtube video gonna b...  positive\n",
       "3533  469e15c5a8   http://twitpic.com/4woj2 - omgssh  ang cute n...  positive\n",
       "\n",
       "[3534 rows x 3 columns]"
      ]
     },
     "execution_count": 21,
     "metadata": {},
     "output_type": "execute_result"
    }
   ],
   "source": [
    "df_test"
   ]
  },
  {
   "cell_type": "code",
   "execution_count": 22,
   "id": "e5a8b0eb",
   "metadata": {
    "execution": {
     "iopub.execute_input": "2022-12-19T11:23:40.060033Z",
     "iopub.status.busy": "2022-12-19T11:23:40.059084Z",
     "iopub.status.idle": "2022-12-19T11:23:40.085641Z",
     "shell.execute_reply": "2022-12-19T11:23:40.085037Z",
     "shell.execute_reply.started": "2022-12-15T13:17:00.867792Z"
    },
    "papermill": {
     "duration": 0.073641,
     "end_time": "2022-12-19T11:23:40.085837",
     "exception": false,
     "start_time": "2022-12-19T11:23:40.012196",
     "status": "completed"
    },
    "tags": []
   },
   "outputs": [
    {
     "name": "stdout",
     "output_type": "stream",
     "text": [
      "X_train shape: (19236,)\n",
      "y_train shape: (19236, 3)\n",
      "X_test shape : (4122,)\n",
      "y_test shape : (4122,)\n",
      "X_val shape  : (4122,)\n",
      "y val shape  : (4122, 3)\n"
     ]
    }
   ],
   "source": [
    "x_train, x_test, y_train, y_test = train_test_split(df['text'].values, df['sentiment'].values,stratify=df['sentiment'].values, test_size=0.3,random_state=1)\n",
    "y_train = to_categorical(y_train)\n",
    "\n",
    "# x_test, x_val , y_test, y_val = train_test_split(x_test, y_test,stratify=y_test, test_size=0.5,random_state=1)\n",
    "x_val = x_test[0:4122]\n",
    "y_val = to_categorical(y_test[0:4122])\n",
    "x_test = x_test[4122:]\n",
    "y_test = y_test[4122:]\n",
    "\n",
    "print(\"X_train shape: {}\".format(x_train.shape))\n",
    "print(\"y_train shape: {}\".format(y_train.shape))\n",
    "print(\"X_test shape : {}\".format(x_test.shape))\n",
    "print(\"y_test shape : {}\".format(y_test.shape))\n",
    "print(\"X_val shape  : {}\".format(x_val.shape))\n",
    "print(\"y val shape  : {}\".format(y_val.shape))\n"
   ]
  },
  {
   "cell_type": "markdown",
   "id": "206803ad",
   "metadata": {
    "papermill": {
     "duration": 0.033997,
     "end_time": "2022-12-19T11:23:40.154947",
     "exception": false,
     "start_time": "2022-12-19T11:23:40.120950",
     "status": "completed"
    },
    "tags": []
   },
   "source": [
    "### Tokenized data\n",
    "Our input data is text and we can't feed it directly to our models. So, we'll define a Tokenizer to convert our text input data into token indices. This means that every token (we can decide what a token is char, word, sub-word, etc.) is mapped to a unique index which allows us to represent our text as an array of indices."
   ]
  },
  {
   "cell_type": "code",
   "execution_count": 23,
   "id": "40492c82",
   "metadata": {
    "execution": {
     "iopub.execute_input": "2022-12-19T11:23:40.225203Z",
     "iopub.status.busy": "2022-12-19T11:23:40.223872Z",
     "iopub.status.idle": "2022-12-19T11:23:41.689029Z",
     "shell.execute_reply": "2022-12-19T11:23:41.688374Z",
     "shell.execute_reply.started": "2022-12-15T13:17:00.896325Z"
    },
    "papermill": {
     "duration": 1.500881,
     "end_time": "2022-12-19T11:23:41.689196",
     "exception": false,
     "start_time": "2022-12-19T11:23:40.188315",
     "status": "completed"
    },
    "tags": []
   },
   "outputs": [],
   "source": [
    "tokenizer = Tokenizer(num_words=5000)\n",
    "tokenizer.fit_on_texts(df.text.values)\n",
    "\n",
    "X_train = tokenizer.texts_to_sequences(x_train)\n",
    "X_val = tokenizer.texts_to_sequences(x_val)\n",
    "X_test = tokenizer.texts_to_sequences(x_test)\n",
    "\n",
    "vocab_size = len(tokenizer.word_index) + 1\n",
    "\n",
    "maxlen = 100\n",
    "\n",
    "#  All sequences in a list have the same length no more than 100\n",
    "X_train = pad_sequences(X_train, padding='pre', maxlen=maxlen) \n",
    "X_val = pad_sequences(X_val, padding='pre', maxlen=maxlen)\n",
    "X_test = pad_sequences(X_test, padding='pre', maxlen=maxlen)\n",
    "\n",
    "word_index = tokenizer.word_index"
   ]
  },
  {
   "cell_type": "code",
   "execution_count": 24,
   "id": "d94824a4",
   "metadata": {
    "execution": {
     "iopub.execute_input": "2022-12-19T11:23:41.756090Z",
     "iopub.status.busy": "2022-12-19T11:23:41.755124Z",
     "iopub.status.idle": "2022-12-19T11:23:41.757761Z",
     "shell.execute_reply": "2022-12-19T11:23:41.757236Z",
     "shell.execute_reply.started": "2022-12-15T13:17:02.305808Z"
    },
    "papermill": {
     "duration": 0.038465,
     "end_time": "2022-12-19T11:23:41.757917",
     "exception": false,
     "start_time": "2022-12-19T11:23:41.719452",
     "status": "completed"
    },
    "tags": []
   },
   "outputs": [],
   "source": [
    "activation = [ \"tanh\",\"relu\", \"sigmoid\", \"elu\"]\n",
    "optimizer = [\"adam\", \"SGD\", \"RMSprop\"]\n",
    "epochs = [5,10,15,20]\n",
    "batchsize = [8,16,32,64,128]"
   ]
  },
  {
   "cell_type": "code",
   "execution_count": 25,
   "id": "3d82c0f6",
   "metadata": {
    "execution": {
     "iopub.execute_input": "2022-12-19T11:23:41.827832Z",
     "iopub.status.busy": "2022-12-19T11:23:41.826706Z",
     "iopub.status.idle": "2022-12-19T11:23:41.828860Z",
     "shell.execute_reply": "2022-12-19T11:23:41.829356Z",
     "shell.execute_reply.started": "2022-12-15T13:17:02.312094Z"
    },
    "papermill": {
     "duration": 0.040196,
     "end_time": "2022-12-19T11:23:41.829536",
     "exception": false,
     "start_time": "2022-12-19T11:23:41.789340",
     "status": "completed"
    },
    "tags": []
   },
   "outputs": [],
   "source": [
    "def lstm_keras(activation,optimizer,epochs,batchsize):\n",
    "    embedding_dim = 100\n",
    "\n",
    "    model = Sequential()\n",
    "    model.add(layers.Embedding(input_dim=vocab_size, output_dim=embedding_dim, input_length=maxlen))\n",
    "    model.add(SpatialDropout1D(0.3))\n",
    "    model.add(LSTM(128, activation=activation))\n",
    "    model.add(Dense(3,activation='softmax'))\n",
    "    model.compile(optimizer=optimizer, loss='categorical_crossentropy', metrics=['accuracy'])\n",
    "    history = model.fit(X_train, y_train, epochs=epochs, verbose=0, validation_data=(X_val, y_val), batch_size=batchsize)\n",
    "  \n",
    "    return history, model\n",
    "     "
   ]
  },
  {
   "cell_type": "code",
   "execution_count": 26,
   "id": "01a973e5",
   "metadata": {
    "execution": {
     "iopub.execute_input": "2022-12-19T11:23:41.911741Z",
     "iopub.status.busy": "2022-12-19T11:23:41.898227Z",
     "iopub.status.idle": "2022-12-19T15:36:46.299106Z",
     "shell.execute_reply": "2022-12-19T15:36:46.297105Z"
    },
    "papermill": {
     "duration": 15184.439911,
     "end_time": "2022-12-19T15:36:46.299293",
     "exception": false,
     "start_time": "2022-12-19T11:23:41.859382",
     "status": "completed"
    },
    "tags": []
   },
   "outputs": [
    {
     "name": "stderr",
     "output_type": "stream",
     "text": [
      "2022-12-19 11:23:41.924212: I tensorflow/compiler/jit/xla_cpu_device.cc:41] Not creating XLA devices, tf_xla_enable_xla_devices not set\n",
      "2022-12-19 11:23:41.927154: W tensorflow/stream_executor/platform/default/dso_loader.cc:60] Could not load dynamic library 'libcuda.so.1'; dlerror: libcuda.so.1: cannot open shared object file: No such file or directory; LD_LIBRARY_PATH: /opt/conda/lib\n",
      "2022-12-19 11:23:41.927196: W tensorflow/stream_executor/cuda/cuda_driver.cc:326] failed call to cuInit: UNKNOWN ERROR (303)\n",
      "2022-12-19 11:23:41.927225: I tensorflow/stream_executor/cuda/cuda_diagnostics.cc:156] kernel driver does not appear to be running on this host (2a016c2c3913): /proc/driver/nvidia/version does not exist\n",
      "2022-12-19 11:23:41.928293: I tensorflow/core/platform/cpu_feature_guard.cc:142] This TensorFlow binary is optimized with oneAPI Deep Neural Network Library (oneDNN) to use the following CPU instructions in performance-critical operations:  AVX2 FMA\n",
      "To enable them in other operations, rebuild TensorFlow with the appropriate compiler flags.\n",
      "2022-12-19 11:23:41.928929: I tensorflow/compiler/jit/xla_gpu_device.cc:99] Not creating XLA devices, tf_xla_enable_xla_devices not set\n",
      "2022-12-19 11:23:42.459774: I tensorflow/compiler/mlir/mlir_graph_optimization_pass.cc:116] None of the MLIR optimization passes are enabled (registered 2)\n",
      "2022-12-19 11:23:42.472874: I tensorflow/core/platform/profile_utils/cpu_utils.cc:112] CPU Frequency: 2199995000 Hz\n"
     ]
    },
    {
     "name": "stdout",
     "output_type": "stream",
     "text": [
      "129/129 [==============================] - 6s 49ms/step - loss: 0.7456 - accuracy: 0.7082\n",
      "129/129 [==============================] - 6s 48ms/step - loss: 0.7773 - accuracy: 0.7062\n",
      "129/129 [==============================] - 6s 46ms/step - loss: 0.7503 - accuracy: 0.6946\n",
      "129/129 [==============================] - 8s 60ms/step - loss: 0.8349 - accuracy: 0.6448\n",
      "best activation function is  tanh\n",
      "129/129 [==============================] - 7s 53ms/step - loss: 0.7493 - accuracy: 0.6989\n",
      "129/129 [==============================] - 7s 53ms/step - loss: 1.0703 - accuracy: 0.4129\n",
      "129/129 [==============================] - 7s 54ms/step - loss: 0.6852 - accuracy: 0.7246\n",
      "best optimizer is  RMSprop\n",
      "602/602 [==============================] - 32s 54ms/step - loss: 0.5439 - accuracy: 0.7832\n",
      "129/129 [==============================] - 7s 54ms/step - loss: 0.6804 - accuracy: 0.7191\n",
      "602/602 [==============================] - 35s 58ms/step - loss: 0.4287 - accuracy: 0.8375\n",
      "129/129 [==============================] - 7s 54ms/step - loss: 0.7297 - accuracy: 0.7084\n",
      "602/602 [==============================] - 34s 57ms/step - loss: 0.3134 - accuracy: 0.8865\n",
      "129/129 [==============================] - 7s 53ms/step - loss: 0.7851 - accuracy: 0.7004\n",
      "602/602 [==============================] - 35s 58ms/step - loss: 0.2344 - accuracy: 0.9177\n",
      "129/129 [==============================] - 7s 53ms/step - loss: 0.9432 - accuracy: 0.6803\n",
      "best epoch is  5\n",
      "602/602 [==============================] - 33s 55ms/step - loss: 0.5371 - accuracy: 0.7899\n",
      "129/129 [==============================] - 7s 56ms/step - loss: 0.6716 - accuracy: 0.7227\n",
      "602/602 [==============================] - 34s 57ms/step - loss: 0.5572 - accuracy: 0.7776\n",
      "129/129 [==============================] - 7s 54ms/step - loss: 0.6824 - accuracy: 0.7171\n",
      "602/602 [==============================] - 36s 60ms/step - loss: 0.5284 - accuracy: 0.7938\n",
      "129/129 [==============================] - 7s 57ms/step - loss: 0.6706 - accuracy: 0.7244\n",
      "602/602 [==============================] - 35s 59ms/step - loss: 0.5335 - accuracy: 0.7900\n",
      "129/129 [==============================] - 7s 57ms/step - loss: 0.6871 - accuracy: 0.7254\n",
      "602/602 [==============================] - 38s 62ms/step - loss: 0.5508 - accuracy: 0.7777\n",
      "129/129 [==============================] - 8s 59ms/step - loss: 0.7405 - accuracy: 0.7033\n",
      "best batchsize is  64\n",
      "test accuracy score =  0.7139737991266376\n",
      "time taken is  345.84131360054016\n"
     ]
    },
    {
     "data": {
      "image/png": "[encoded data removed]",
      "text/plain": [
       "<Figure size 432x288 with 1 Axes>"
      ]
     },
     "metadata": {
      "needs_background": "light"
     },
     "output_type": "display_data"
    },
    {
     "data": {
      "image/png": "[encoded data removed]",
      "text/plain": [
       "<Figure size 432x288 with 1 Axes>"
      ]
     },
     "metadata": {
      "needs_background": "light"
     },
     "output_type": "display_data"
    }
   ],
   "source": [
    "def select_hyperparameters():\n",
    "    \"\"\"\n",
    "    function to select the best activation function, optimizer, epochs, and batch size\n",
    "    \"\"\"\n",
    "    # dictionary to store the validation accuracy of different activation functions\n",
    "    sel_activation = {}\n",
    "    # iterate over different activation functions\n",
    "    for i in activation:\n",
    "        # build and train the model with current activation function\n",
    "        history, model = lstm(i, \"adam\", 5, 16)\n",
    "        # evaluate the model on the validation data\n",
    "        val_acc = {i:model.evaluate(X_val,y_val)[1]}\n",
    "        sel_activation.update(val_acc )\n",
    "        keras.backend.clear_session()\n",
    "    # select the best activation function \n",
    "    sel_activation_final = max(sel_activation, key=sel_activation.get)\n",
    "    print(\"best activation function is \",sel_activation_final)\n",
    "    # dictionary to store the validation accuracy of different optimizers\n",
    "    sel_optimizer = {}\n",
    "    for i in optimizer:# iterate over different optimizers\n",
    "        # build and train the model with the current optimizer\n",
    "        history, model = lstm(sel_activation_final,i,5,16)\n",
    "        # evaluate the model on the validation data\n",
    "        val_acc  = {i:model.evaluate(X_val,y_val)[1]}\n",
    "        sel_optimizer.update(val_acc)\n",
    "        keras.backend.clear_session()\n",
    "    # select the best optimizer\n",
    "    sel_optimizer_final = max(sel_optimizer, key=sel_optimizer.get)\n",
    "    print(\"best optimizer is \",sel_optimizer_final)\n",
    "\n",
    "    acc_train_epoch = {}\n",
    "    acc_val_epoch = {}\n",
    "    for i in epochs:# iterate over different number of epochs\n",
    "        history, model = lstm(sel_activation_final,sel_optimizer_final,i,16)\n",
    "        temp_train = {i:model.evaluate(X_train,y_train)[1]}\n",
    "        temp_val = {i:model.evaluate(X_val,y_val)[1]}\n",
    "        acc_train_epoch.update(temp_train)\n",
    "        acc_val_epoch.update(temp_val)\n",
    "        keras.backend.clear_session()\n",
    "    # select the best number of epochs\n",
    "    sel_epoch_final = max(acc_val_epoch, key=acc_val_epoch.get)\n",
    "    print(\"best epoch is \",sel_epoch_final)\n",
    "\n",
    "    acc_train_batch = {}\n",
    "    acc_val_batch = {}\n",
    "    for i in batchsize:\n",
    "        history, model = lstm(sel_activation_final,sel_optimizer_final,sel_epoch_final,i)\n",
    "        temp_train = {i:model.evaluate(X_train,y_train)[1]}\n",
    "        temp_val = {i:model.evaluate(X_val,y_val)[1]}\n",
    "        acc_train_batch.update(temp_train)\n",
    "        acc_val_batch.update(temp_val)\n",
    "        keras.backend.clear_session()\n",
    "    # select the best batch size\n",
    "    sel_batch_final = max(acc_val_batch, key=acc_val_batch.get)\n",
    "    print(\"best batchsize is \",sel_batch_final)\n",
    "\n",
    "    df_batch_train = pd.DataFrame(list(acc_train_batch.items()), columns=['Batchsize', 'Accuracy score'])\n",
    "    df_batch_val = pd.DataFrame(list(acc_val_batch.items()), columns=['Batchsize', 'Accuracy score'])\n",
    "\n",
    "    df_batch_val.Batchsize = df_batch_val.Batchsize.map(lambda x:str(x))\n",
    "    df_batch_train.Batchsize = df_batch_train.Batchsize.map(lambda x:str(x))\n",
    "\n",
    "    plt.figure()\n",
    "    plt.plot(df_batch_train.iloc[:,0],df_batch_train.iloc[:,1],label=\"train\", marker='o')\n",
    "    plt.plot(df_batch_val.iloc[:,0],df_batch_val.iloc[:,1],label = \"val\", marker='o')\n",
    "    plt.title(\"Accuracy score vs Batch size\")\n",
    "    plt.ylabel(\"Accuracy score\")\n",
    "    plt.xlabel(\"Batch size\")\n",
    "    plt.legend()\n",
    "\n",
    "    #final model\n",
    "    final_model, final_history = lstm(sel_activation_final,sel_optimizer_final,sel_epoch_final,sel_batch_final)\n",
    "\n",
    "\n",
    "\n",
    "# 5. best model\n",
    "t0 = time()\n",
    "select_hyperparameters()\n",
    "pred = np.argmax(model.predict(X_test), axis=-1)\n",
    "print(\"test accuracy score = \",accuracy_score(y_pred=pred, y_true=y_test))\n",
    "t1 = time()\n",
    "print(\"time taken is \", t1-t0)"
   ]
  },
  {
   "cell_type": "code",
   "execution_count": 27,
   "id": "71061746",
   "metadata": {
    "execution": {
     "iopub.execute_input": "2022-12-19T15:36:50.821303Z",
     "iopub.status.busy": "2022-12-19T15:36:50.803132Z",
     "iopub.status.idle": "2022-12-19T15:36:50.831091Z",
     "shell.execute_reply": "2022-12-19T15:36:50.829980Z"
    },
    "papermill": {
     "duration": 2.313932,
     "end_time": "2022-12-19T15:36:50.831458",
     "exception": false,
     "start_time": "2022-12-19T15:36:48.517526",
     "status": "completed"
    },
    "tags": []
   },
   "outputs": [],
   "source": [
    "# Text\n",
    "df = df_train\n",
    "df['text'] = df['selected_text'].map(lambda x:str(x))\n",
    "df['sentiment'] = df_train['sentiment'].astype(\"category\")\n",
    "df['sentiment'] = df_train['sentiment'].cat.codes\n",
    "# df"
   ]
  },
  {
   "cell_type": "code",
   "execution_count": 28,
   "id": "08a906a6",
   "metadata": {
    "execution": {
     "iopub.execute_input": "2022-12-19T15:36:55.509594Z",
     "iopub.status.busy": "2022-12-19T15:36:55.508887Z",
     "iopub.status.idle": "2022-12-19T15:36:55.518925Z",
     "shell.execute_reply": "2022-12-19T15:36:55.519430Z"
    },
    "papermill": {
     "duration": 2.33769,
     "end_time": "2022-12-19T15:36:55.519669",
     "exception": false,
     "start_time": "2022-12-19T15:36:53.181979",
     "status": "completed"
    },
    "tags": []
   },
   "outputs": [],
   "source": [
    "def lstm_keras(activation,optimizer,epochs,batchsize):\n",
    "    embedding_dim = 100\n",
    "\n",
    "    model = Sequential()\n",
    "    model.add(layers.Embedding(input_dim=vocab_size, output_dim=embedding_dim, input_length=maxlen))\n",
    "    model.add(SpatialDropout1D(0.3))\n",
    "    model.add(LSTM(128, activation=activation))\n",
    "    model.add(Dense(3,activation='softmax'))\n",
    "    model.compile(optimizer=optimizer, loss='categorical_crossentropy', metrics=['accuracy'])\n",
    "    history = model.fit(X_train, y_train, epochs=epochs, verbose=0, validation_data=(X_val, y_val), batch_size=batchsize)\n",
    "  \n",
    "    return history, model\n",
    "     "
   ]
  },
  {
   "cell_type": "code",
   "execution_count": 29,
   "id": "e1c10c28",
   "metadata": {
    "execution": {
     "iopub.execute_input": "2022-12-19T15:37:00.191297Z",
     "iopub.status.busy": "2022-12-19T15:37:00.190332Z",
     "iopub.status.idle": "2022-12-19T19:04:57.226848Z",
     "shell.execute_reply": "2022-12-19T19:04:57.222995Z"
    },
    "papermill": {
     "duration": 12479.397288,
     "end_time": "2022-12-19T19:04:57.227367",
     "exception": false,
     "start_time": "2022-12-19T15:36:57.830079",
     "status": "completed"
    },
    "tags": []
   },
   "outputs": [
    {
     "name": "stdout",
     "output_type": "stream",
     "text": [
      "129/129 [==============================] - 3s 22ms/step - loss: 0.7506 - accuracy: 0.7023\n",
      "129/129 [==============================] - 3s 23ms/step - loss: 0.7837 - accuracy: 0.6929\n",
      "129/129 [==============================] - 3s 22ms/step - loss: 0.7395 - accuracy: 0.6975\n",
      "129/129 [==============================] - 3s 26ms/step - loss: 0.7894 - accuracy: 0.6902\n",
      "best activation function is  tanh\n",
      "129/129 [==============================] - 3s 22ms/step - loss: 0.7638 - accuracy: 0.7057\n",
      "129/129 [==============================] - 3s 24ms/step - loss: 1.0636 - accuracy: 0.4425\n",
      "129/129 [==============================] - 3s 24ms/step - loss: 0.6776 - accuracy: 0.7205\n",
      "best optimizer is  RMSprop\n",
      "602/602 [==============================] - 13s 21ms/step - loss: 0.5450 - accuracy: 0.7860\n",
      "129/129 [==============================] - 3s 20ms/step - loss: 0.6845 - accuracy: 0.7198\n",
      "602/602 [==============================] - 13s 21ms/step - loss: 0.4426 - accuracy: 0.8342\n",
      "129/129 [==============================] - 3s 21ms/step - loss: 0.7192 - accuracy: 0.7230\n",
      "602/602 [==============================] - 11s 18ms/step - loss: 0.3501 - accuracy: 0.8749\n",
      "129/129 [==============================] - 2s 17ms/step - loss: 0.7669 - accuracy: 0.7006\n",
      "602/602 [==============================] - 12s 20ms/step - loss: 0.2825 - accuracy: 0.9006\n",
      "129/129 [==============================] - 2s 18ms/step - loss: 0.8611 - accuracy: 0.6955\n",
      "best epoch is  10\n",
      "602/602 [==============================] - 13s 21ms/step - loss: 0.4501 - accuracy: 0.8295\n",
      "129/129 [==============================] - 3s 20ms/step - loss: 0.7067 - accuracy: 0.7174\n",
      "602/602 [==============================] - 13s 22ms/step - loss: 0.4497 - accuracy: 0.8275\n",
      "129/129 [==============================] - 3s 21ms/step - loss: 0.7245 - accuracy: 0.7186\n",
      "602/602 [==============================] - 13s 22ms/step - loss: 0.4500 - accuracy: 0.8300\n",
      "129/129 [==============================] - 3s 20ms/step - loss: 0.7038 - accuracy: 0.7045\n",
      "602/602 [==============================] - 13s 21ms/step - loss: 0.4402 - accuracy: 0.8365\n",
      "129/129 [==============================] - 3s 19ms/step - loss: 0.7066 - accuracy: 0.7166\n",
      "602/602 [==============================] - 13s 22ms/step - loss: 0.4728 - accuracy: 0.8192\n",
      "129/129 [==============================] - 3s 22ms/step - loss: 0.7807 - accuracy: 0.6987\n",
      "best batchsize is  16\n",
      "test accuracy score =  0.7130033964095099\n",
      "time taken is  929.5397024154663\n"
     ]
    },
    {
     "data": {
      "image/png": "[encoded data removed]",
      "text/plain": [
       "<Figure size 432x288 with 1 Axes>"
      ]
     },
     "metadata": {
      "needs_background": "light"
     },
     "output_type": "display_data"
    },
    {
     "data": {
      "image/png": "[encoded data removed]",
      "text/plain": [
       "<Figure size 432x288 with 1 Axes>"
      ]
     },
     "metadata": {
      "needs_background": "light"
     },
     "output_type": "display_data"
    }
   ],
   "source": [
    "def select_hyperparameters():\n",
    "    \"\"\"\n",
    "    function to select the best activation function, optimizer, epochs, and batch size\n",
    "    \"\"\"\n",
    "    # dictionary to store the validation accuracy of different activation functions\n",
    "    sel_activation = {}\n",
    "    # iterate over different activation functions\n",
    "    for i in activation:\n",
    "        # build and train the model with current activation function\n",
    "        history, model = lstm(i, \"adam\", 5, 16)\n",
    "        # evaluate the model on the validation data\n",
    "        val_acc = {i:model.evaluate(X_val,y_val)[1]}\n",
    "        sel_activation.update(val_acc )\n",
    "        keras.backend.clear_session()\n",
    "    # select the best activation function \n",
    "    sel_activation_final = max(sel_activation, key=sel_activation.get)\n",
    "    print(\"best activation function is \",sel_activation_final)\n",
    "    # dictionary to store the validation accuracy of different optimizers\n",
    "    sel_optimizer = {}\n",
    "    for i in optimizer:# iterate over different optimizers\n",
    "        # build and train the model with the current optimizer\n",
    "        history, model = lstm(sel_activation_final,i,5,16)\n",
    "        # evaluate the model on the validation data\n",
    "        val_acc  = {i:model.evaluate(X_val,y_val)[1]}\n",
    "        sel_optimizer.update(val_acc)\n",
    "        keras.backend.clear_session()\n",
    "    # select the best optimizer\n",
    "    sel_optimizer_final = max(sel_optimizer, key=sel_optimizer.get)\n",
    "    print(\"best optimizer is \",sel_optimizer_final)\n",
    "\n",
    "    acc_train_epoch = {}\n",
    "    acc_val_epoch = {}\n",
    "    for i in epochs:# iterate over different number of epochs\n",
    "        history, model = lstm(sel_activation_final,sel_optimizer_final,i,16)\n",
    "        temp_train = {i:model.evaluate(X_train,y_train)[1]}\n",
    "        temp_val = {i:model.evaluate(X_val,y_val)[1]}\n",
    "        acc_train_epoch.update(temp_train)\n",
    "        acc_val_epoch.update(temp_val)\n",
    "        keras.backend.clear_session()\n",
    "    # select the best number of epochs\n",
    "    sel_epoch_final = max(acc_val_epoch, key=acc_val_epoch.get)\n",
    "    print(\"best epoch is \",sel_epoch_final)\n",
    "\n",
    "    acc_train_batch = {}\n",
    "    acc_val_batch = {}\n",
    "    for i in batchsize:\n",
    "        history, model = lstm(sel_activation_final,sel_optimizer_final,sel_epoch_final,i)\n",
    "        temp_train = {i:model.evaluate(X_train,y_train)[1]}\n",
    "        temp_val = {i:model.evaluate(X_val,y_val)[1]}\n",
    "        acc_train_batch.update(temp_train)\n",
    "        acc_val_batch.update(temp_val)\n",
    "        keras.backend.clear_session()\n",
    "    # select the best batch size\n",
    "    sel_batch_final = max(acc_val_batch, key=acc_val_batch.get)\n",
    "    print(\"best batchsize is \",sel_batch_final)\n",
    "\n",
    "    df_batch_train = pd.DataFrame(list(acc_train_batch.items()), columns=['Batchsize', 'Accuracy score'])\n",
    "    df_batch_val = pd.DataFrame(list(acc_val_batch.items()), columns=['Batchsize', 'Accuracy score'])\n",
    "\n",
    "    df_batch_val.Batchsize = df_batch_val.Batchsize.map(lambda x:str(x))\n",
    "    df_batch_train.Batchsize = df_batch_train.Batchsize.map(lambda x:str(x))\n",
    "\n",
    "    plt.figure()\n",
    "    plt.plot(df_batch_train.iloc[:,0],df_batch_train.iloc[:,1],label=\"train\", marker='o')\n",
    "    plt.plot(df_batch_val.iloc[:,0],df_batch_val.iloc[:,1],label = \"val\", marker='o')\n",
    "    plt.title(\"Accuracy score vs Batch size\")\n",
    "    plt.ylabel(\"Accuracy score\")\n",
    "    plt.xlabel(\"Batch size\")\n",
    "    plt.legend()\n",
    "\n",
    "    #final model\n",
    "    final_model, final_history = lstm(sel_activation_final,sel_optimizer_final,sel_epoch_final,sel_batch_final)\n",
    "\n",
    "\n",
    "\n",
    "# 5. best model\n",
    "t0 = time()\n",
    "select_hyperparameters()\n",
    "pred = np.argmax(model.predict(X_test), axis=-1)\n",
    "print(\"test accuracy score = \",accuracy_score(y_pred=pred, y_true=y_test))\n",
    "t1 = time()\n",
    "print(\"time taken is \", t1-t0)"
   ]
  },
  {
   "cell_type": "code",
   "execution_count": null,
   "id": "3c644946",
   "metadata": {
    "papermill": {
     "duration": 3.140588,
     "end_time": "2022-12-19T19:05:03.666548",
     "exception": false,
     "start_time": "2022-12-19T19:05:00.525960",
     "status": "completed"
    },
    "tags": []
   },
   "outputs": [],
   "source": []
  }
 ],
 "metadata": {
  "kernelspec": {
   "display_name": "Python 3",
   "language": "python",
   "name": "python3"
  },
  "language_info": {
   "codemirror_mode": {
    "name": "ipython",
    "version": 3
   },
   "file_extension": ".py",
   "mimetype": "text/x-python",
   "name": "python",
   "nbconvert_exporter": "python",
   "pygments_lexer": "ipython3",
   "version": "3.6.5"
  },
  "papermill": {
   "default_parameters": {},
   "duration": 27715.592151,
   "end_time": "2022-12-19T19:05:09.927575",
   "environment_variables": {},
   "exception": null,
   "input_path": "__notebook__.ipynb",
   "output_path": "__notebook__.ipynb",
   "parameters": {},
   "start_time": "2022-12-19T11:23:14.335424",
   "version": "2.3.3"
  }
 },
 "nbformat": 4,
 "nbformat_minor": 5
}
