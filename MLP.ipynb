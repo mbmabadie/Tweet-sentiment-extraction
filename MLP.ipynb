{
 "cells": [
  {
   "cell_type": "code",
   "execution_count": 1,
   "id": "cf5cb27a",
   "metadata": {},
   "outputs": [],
   "source": [
    "import seaborn as sns\n",
    "import pandas as pd\n",
    "import numpy as np\n",
    "import matplotlib.pyplot as plt\n",
    "import seaborn as sns\n",
    "import os\n",
    "from sklearn.model_selection import train_test_split\n"
   ]
  },
  {
   "cell_type": "code",
   "execution_count": 2,
   "id": "994869cf",
   "metadata": {},
   "outputs": [],
   "source": [
    "import plotly.figure_factory as ff\n",
    "import re\n",
    "import string\n",
    "from collections import Counter\n",
    "import plotly.express as px\n",
    "import spacy"
   ]
  },
  {
   "cell_type": "code",
   "execution_count": 3,
   "id": "4d8130eb",
   "metadata": {},
   "outputs": [],
   "source": [
    "import nltk\n",
    "from nltk.tokenize import RegexpTokenizer\n",
    "from nltk.stem import WordNetLemmatizer\n",
    "from nltk.corpus import stopwords\n",
    "import string\n",
    "import re"
   ]
  },
  {
   "cell_type": "code",
   "execution_count": 4,
   "id": "1350497d",
   "metadata": {},
   "outputs": [
    {
     "name": "stdout",
     "output_type": "stream",
     "text": [
      "(27481, 4)\n",
      "(3534, 3)\n"
     ]
    }
   ],
   "source": [
    "df_train = pd.read_csv('data/train.csv')\n",
    "df_test = pd.read_csv('data/test.csv')\n",
    "print(df_train.shape)\n",
    "print(df_test.shape)"
   ]
  },
  {
   "cell_type": "code",
   "execution_count": 5,
   "id": "3185564d",
   "metadata": {},
   "outputs": [
    {
     "name": "stdout",
     "output_type": "stream",
     "text": [
      "<class 'pandas.core.frame.DataFrame'>\n",
      "Int64Index: 27480 entries, 0 to 27480\n",
      "Data columns (total 4 columns):\n",
      " #   Column         Non-Null Count  Dtype \n",
      "---  ------         --------------  ----- \n",
      " 0   textID         27480 non-null  object\n",
      " 1   text           27480 non-null  object\n",
      " 2   selected_text  27480 non-null  object\n",
      " 3   sentiment      27480 non-null  object\n",
      "dtypes: object(4)\n",
      "memory usage: 1.0+ MB\n"
     ]
    }
   ],
   "source": [
    "df_train.dropna(inplace=True)\n",
    "df_train.info()"
   ]
  },
  {
   "cell_type": "code",
   "execution_count": 6,
   "id": "e1757f64",
   "metadata": {},
   "outputs": [
    {
     "name": "stdout",
     "output_type": "stream",
     "text": [
      "<class 'pandas.core.frame.DataFrame'>\n",
      "RangeIndex: 3534 entries, 0 to 3533\n",
      "Data columns (total 3 columns):\n",
      " #   Column     Non-Null Count  Dtype \n",
      "---  ------     --------------  ----- \n",
      " 0   textID     3534 non-null   object\n",
      " 1   text       3534 non-null   object\n",
      " 2   sentiment  3534 non-null   object\n",
      "dtypes: object(3)\n",
      "memory usage: 83.0+ KB\n"
     ]
    }
   ],
   "source": [
    "df_test.info()"
   ]
  },
  {
   "cell_type": "markdown",
   "id": "c4e236b3",
   "metadata": {},
   "source": [
    "# Data processing"
   ]
  },
  {
   "cell_type": "code",
   "execution_count": 7,
   "id": "4f026244",
   "metadata": {
    "scrolled": true
   },
   "outputs": [
    {
     "data": {
      "text/html": [
       "<div>\n",
       "<style scoped>\n",
       "    .dataframe tbody tr th:only-of-type {\n",
       "        vertical-align: middle;\n",
       "    }\n",
       "\n",
       "    .dataframe tbody tr th {\n",
       "        vertical-align: top;\n",
       "    }\n",
       "\n",
       "    .dataframe thead th {\n",
       "        text-align: right;\n",
       "    }\n",
       "</style>\n",
       "<table border=\"1\" class=\"dataframe\">\n",
       "  <thead>\n",
       "    <tr style=\"text-align: right;\">\n",
       "      <th></th>\n",
       "      <th>textID</th>\n",
       "      <th>text</th>\n",
       "      <th>selected_text</th>\n",
       "      <th>sentiment</th>\n",
       "    </tr>\n",
       "  </thead>\n",
       "  <tbody>\n",
       "    <tr>\n",
       "      <th>0</th>\n",
       "      <td>cb774db0d1</td>\n",
       "      <td>I`d have responded, if I were going</td>\n",
       "      <td>I`d have responded, if I were going</td>\n",
       "      <td>neutral</td>\n",
       "    </tr>\n",
       "    <tr>\n",
       "      <th>1</th>\n",
       "      <td>549e992a42</td>\n",
       "      <td>Sooo SAD I will miss you here in San Diego!!!</td>\n",
       "      <td>Sooo SAD</td>\n",
       "      <td>negative</td>\n",
       "    </tr>\n",
       "    <tr>\n",
       "      <th>2</th>\n",
       "      <td>088c60f138</td>\n",
       "      <td>my boss is bullying me...</td>\n",
       "      <td>bullying me</td>\n",
       "      <td>negative</td>\n",
       "    </tr>\n",
       "    <tr>\n",
       "      <th>3</th>\n",
       "      <td>9642c003ef</td>\n",
       "      <td>what interview! leave me alone</td>\n",
       "      <td>leave me alone</td>\n",
       "      <td>negative</td>\n",
       "    </tr>\n",
       "    <tr>\n",
       "      <th>4</th>\n",
       "      <td>358bd9e861</td>\n",
       "      <td>Sons of ****, why couldn`t they put them on t...</td>\n",
       "      <td>Sons of ****,</td>\n",
       "      <td>negative</td>\n",
       "    </tr>\n",
       "    <tr>\n",
       "      <th>...</th>\n",
       "      <td>...</td>\n",
       "      <td>...</td>\n",
       "      <td>...</td>\n",
       "      <td>...</td>\n",
       "    </tr>\n",
       "    <tr>\n",
       "      <th>27476</th>\n",
       "      <td>4eac33d1c0</td>\n",
       "      <td>wish we could come see u on Denver  husband l...</td>\n",
       "      <td>d lost</td>\n",
       "      <td>negative</td>\n",
       "    </tr>\n",
       "    <tr>\n",
       "      <th>27477</th>\n",
       "      <td>4f4c4fc327</td>\n",
       "      <td>I`ve wondered about rake to.  The client has ...</td>\n",
       "      <td>, don`t force</td>\n",
       "      <td>negative</td>\n",
       "    </tr>\n",
       "    <tr>\n",
       "      <th>27478</th>\n",
       "      <td>f67aae2310</td>\n",
       "      <td>Yay good for both of you. Enjoy the break - y...</td>\n",
       "      <td>Yay good for both of you.</td>\n",
       "      <td>positive</td>\n",
       "    </tr>\n",
       "    <tr>\n",
       "      <th>27479</th>\n",
       "      <td>ed167662a5</td>\n",
       "      <td>But it was worth it  ****.</td>\n",
       "      <td>But it was worth it  ****.</td>\n",
       "      <td>positive</td>\n",
       "    </tr>\n",
       "    <tr>\n",
       "      <th>27480</th>\n",
       "      <td>6f7127d9d7</td>\n",
       "      <td>All this flirting going on - The ATG smiles...</td>\n",
       "      <td>All this flirting going on - The ATG smiles. Y...</td>\n",
       "      <td>neutral</td>\n",
       "    </tr>\n",
       "  </tbody>\n",
       "</table>\n",
       "<p>27480 rows × 4 columns</p>\n",
       "</div>"
      ],
      "text/plain": [
       "           textID                                               text  \\\n",
       "0      cb774db0d1                I`d have responded, if I were going   \n",
       "1      549e992a42      Sooo SAD I will miss you here in San Diego!!!   \n",
       "2      088c60f138                          my boss is bullying me...   \n",
       "3      9642c003ef                     what interview! leave me alone   \n",
       "4      358bd9e861   Sons of ****, why couldn`t they put them on t...   \n",
       "...           ...                                                ...   \n",
       "27476  4eac33d1c0   wish we could come see u on Denver  husband l...   \n",
       "27477  4f4c4fc327   I`ve wondered about rake to.  The client has ...   \n",
       "27478  f67aae2310   Yay good for both of you. Enjoy the break - y...   \n",
       "27479  ed167662a5                         But it was worth it  ****.   \n",
       "27480  6f7127d9d7     All this flirting going on - The ATG smiles...   \n",
       "\n",
       "                                           selected_text sentiment  \n",
       "0                    I`d have responded, if I were going   neutral  \n",
       "1                                               Sooo SAD  negative  \n",
       "2                                            bullying me  negative  \n",
       "3                                         leave me alone  negative  \n",
       "4                                          Sons of ****,  negative  \n",
       "...                                                  ...       ...  \n",
       "27476                                             d lost  negative  \n",
       "27477                                      , don`t force  negative  \n",
       "27478                          Yay good for both of you.  positive  \n",
       "27479                         But it was worth it  ****.  positive  \n",
       "27480  All this flirting going on - The ATG smiles. Y...   neutral  \n",
       "\n",
       "[27480 rows x 4 columns]"
      ]
     },
     "execution_count": 7,
     "metadata": {},
     "output_type": "execute_result"
    }
   ],
   "source": [
    "df_train"
   ]
  },
  {
   "cell_type": "markdown",
   "id": "b773847d",
   "metadata": {},
   "source": [
    "## Text"
   ]
  },
  {
   "cell_type": "code",
   "execution_count": 8,
   "id": "97fd6772",
   "metadata": {},
   "outputs": [],
   "source": [
    "df_train['text']=df_train['text'].str.lower()"
   ]
  },
  {
   "cell_type": "code",
   "execution_count": 9,
   "id": "dafaeaab",
   "metadata": {},
   "outputs": [],
   "source": [
    "# Remove all urls\n",
    "urls = r'''(?i)\\b((?:https?://|www\\d{0,3}[.]|[a-z0-9.\\-]+[.][a-z]{2,4}/)(?:[^\\s()<>]+|\\(([^\\s()<>]+|(\\([^\\s()<>]+\\)))*\\))+(?:\\(([^\\s()<>]+|(\\([^\\s()<>]+\\)))*\\)|[^\\s`!()\\[\\]{};:'\".,<>?«»“”‘’]))'''\n",
    "df_train['text']=df_train['text'].map(lambda char:re.sub(urls, \"\", char))"
   ]
  },
  {
   "cell_type": "code",
   "execution_count": 10,
   "id": "9d2accfc",
   "metadata": {},
   "outputs": [],
   "source": [
    "# Remove all numbers\n",
    "df_train['text']=df_train['text'].map(lambda s:''.join([i for i in s if not i.isdigit()]))"
   ]
  },
  {
   "cell_type": "code",
   "execution_count": 11,
   "id": "da5519e0",
   "metadata": {},
   "outputs": [],
   "source": [
    "df_train['text']=df_train['text'].map(lambda char:re.sub(r'^\\s*|\\s\\s*', ' ', char).strip())"
   ]
  },
  {
   "cell_type": "code",
   "execution_count": 12,
   "id": "ee930137",
   "metadata": {},
   "outputs": [],
   "source": [
    "# Remove all Punc.\n",
    "df_train['text']=df_train['text'].str.replace(r'[^\\w\\s]+', '')"
   ]
  },
  {
   "cell_type": "code",
   "execution_count": 13,
   "id": "e19c2038",
   "metadata": {},
   "outputs": [],
   "source": [
    "# Remove special char\n",
    "df_train['text']= df_train['text'].str.replace(r\"[^a-zA-Z ]+\", \" \").str.strip()"
   ]
  },
  {
   "cell_type": "code",
   "execution_count": 14,
   "id": "1f938dd9",
   "metadata": {},
   "outputs": [],
   "source": [
    "import unicodedata\n",
    "df_train['text']= df_train['text'].map(lambda char:unicodedata.normalize('NFKD', char).encode('ascii', 'ignore').decode('utf-8', 'ignore'))"
   ]
  },
  {
   "cell_type": "markdown",
   "id": "ac9fd501",
   "metadata": {},
   "source": [
    "## Selected Text"
   ]
  },
  {
   "cell_type": "code",
   "execution_count": 15,
   "id": "ba69eb83",
   "metadata": {},
   "outputs": [],
   "source": [
    "df_train['selected_text']=df_train['selected_text'].str.lower()\n",
    "# Remove all urls\n",
    "urls = r'''(?i)\\b((?:https?://|www\\d{0,3}[.]|[a-z0-9.\\-]+[.][a-z]{2,4}/)(?:[^\\s()<>]+|\\(([^\\s()<>]+|(\\([^\\s()<>]+\\)))*\\))+(?:\\(([^\\s()<>]+|(\\([^\\s()<>]+\\)))*\\)|[^\\s`!()\\[\\]{};:'\".,<>?«»“”‘’]))'''\n",
    "df_train['selected_text']=df_train['selected_text'].map(lambda char:re.sub(urls, \"\", char))\n",
    "# Remove all numbers\n",
    "df_train['selected_text']=df_train['selected_text'].map(lambda s:''.join([i for i in s if not i.isdigit()]))\n",
    "df_train['selected_text']=df_train['selected_text'].map(lambda char:re.sub(r'^\\s*|\\s\\s*', ' ', char).strip())\n",
    "# Remove all Punc.\n",
    "df_train['selected_text']=df_train['selected_text'].str.replace(r'[^\\w\\s]+', '')\n",
    "# Remove special char\n",
    "df_train['selected_text']= df_train['selected_text'].str.replace(r\"[^a-zA-Z ]+\", \" \").str.strip()\n",
    "df_train['selected_text']= df_train['selected_text'].map(lambda char:unicodedata.normalize('NFKD', char).encode('ascii', 'ignore').decode('utf-8', 'ignore'))"
   ]
  },
  {
   "cell_type": "code",
   "execution_count": 16,
   "id": "52aa90de",
   "metadata": {},
   "outputs": [
    {
     "data": {
      "text/plain": [
       "'from autocorrect import Speller\\nspell = Speller(lang=\"en\")\\ntokenizer = RegexpTokenizer(r\\'\\\\w+\\')\\n\\ndf_train.text = df_train.text.map(lambda x:tokenizer.tokenize(x))  #remove punctuation and tokenize\\ndf_train.text = df_train.text.map(lambda x:[spell(i) for i in x])  #spell check'"
      ]
     },
     "execution_count": 16,
     "metadata": {},
     "output_type": "execute_result"
    }
   ],
   "source": [
    "'''from autocorrect import Speller\n",
    "spell = Speller(lang=\"en\")\n",
    "tokenizer = RegexpTokenizer(r'\\w+')\n",
    "\n",
    "df_train.text = df_train.text.map(lambda x:tokenizer.tokenize(x))  #remove punctuation and tokenize\n",
    "df_train.text = df_train.text.map(lambda x:[spell(i) for i in x])  #spell check'''"
   ]
  },
  {
   "cell_type": "code",
   "execution_count": 17,
   "id": "5502a6b3",
   "metadata": {
    "scrolled": true
   },
   "outputs": [
    {
     "data": {
      "text/html": [
       "<div>\n",
       "<style scoped>\n",
       "    .dataframe tbody tr th:only-of-type {\n",
       "        vertical-align: middle;\n",
       "    }\n",
       "\n",
       "    .dataframe tbody tr th {\n",
       "        vertical-align: top;\n",
       "    }\n",
       "\n",
       "    .dataframe thead th {\n",
       "        text-align: right;\n",
       "    }\n",
       "</style>\n",
       "<table border=\"1\" class=\"dataframe\">\n",
       "  <thead>\n",
       "    <tr style=\"text-align: right;\">\n",
       "      <th></th>\n",
       "      <th>textID</th>\n",
       "      <th>text</th>\n",
       "      <th>selected_text</th>\n",
       "      <th>sentiment</th>\n",
       "    </tr>\n",
       "  </thead>\n",
       "  <tbody>\n",
       "    <tr>\n",
       "      <th>0</th>\n",
       "      <td>cb774db0d1</td>\n",
       "      <td>id have responded if i were going</td>\n",
       "      <td>id have responded if i were going</td>\n",
       "      <td>neutral</td>\n",
       "    </tr>\n",
       "    <tr>\n",
       "      <th>1</th>\n",
       "      <td>549e992a42</td>\n",
       "      <td>sooo sad i will miss you here in san diego</td>\n",
       "      <td>sooo sad</td>\n",
       "      <td>negative</td>\n",
       "    </tr>\n",
       "    <tr>\n",
       "      <th>2</th>\n",
       "      <td>088c60f138</td>\n",
       "      <td>my boss is bullying me</td>\n",
       "      <td>bullying me</td>\n",
       "      <td>negative</td>\n",
       "    </tr>\n",
       "    <tr>\n",
       "      <th>3</th>\n",
       "      <td>9642c003ef</td>\n",
       "      <td>what interview leave me alone</td>\n",
       "      <td>leave me alone</td>\n",
       "      <td>negative</td>\n",
       "    </tr>\n",
       "    <tr>\n",
       "      <th>4</th>\n",
       "      <td>358bd9e861</td>\n",
       "      <td>sons of  why couldnt they put them on the rele...</td>\n",
       "      <td>sons of</td>\n",
       "      <td>negative</td>\n",
       "    </tr>\n",
       "    <tr>\n",
       "      <th>...</th>\n",
       "      <td>...</td>\n",
       "      <td>...</td>\n",
       "      <td>...</td>\n",
       "      <td>...</td>\n",
       "    </tr>\n",
       "    <tr>\n",
       "      <th>27476</th>\n",
       "      <td>4eac33d1c0</td>\n",
       "      <td>wish we could come see u on denver husband los...</td>\n",
       "      <td>d lost</td>\n",
       "      <td>negative</td>\n",
       "    </tr>\n",
       "    <tr>\n",
       "      <th>27477</th>\n",
       "      <td>4f4c4fc327</td>\n",
       "      <td>ive wondered about rake to the client has made...</td>\n",
       "      <td>dont force</td>\n",
       "      <td>negative</td>\n",
       "    </tr>\n",
       "    <tr>\n",
       "      <th>27478</th>\n",
       "      <td>f67aae2310</td>\n",
       "      <td>yay good for both of you enjoy the break  you ...</td>\n",
       "      <td>yay good for both of you</td>\n",
       "      <td>positive</td>\n",
       "    </tr>\n",
       "    <tr>\n",
       "      <th>27479</th>\n",
       "      <td>ed167662a5</td>\n",
       "      <td>but it was worth it</td>\n",
       "      <td>but it was worth it</td>\n",
       "      <td>positive</td>\n",
       "    </tr>\n",
       "    <tr>\n",
       "      <th>27480</th>\n",
       "      <td>6f7127d9d7</td>\n",
       "      <td>all this flirting going on  the atg smiles yay...</td>\n",
       "      <td>all this flirting going on  the atg smiles yay...</td>\n",
       "      <td>neutral</td>\n",
       "    </tr>\n",
       "  </tbody>\n",
       "</table>\n",
       "<p>27480 rows × 4 columns</p>\n",
       "</div>"
      ],
      "text/plain": [
       "           textID                                               text  \\\n",
       "0      cb774db0d1                  id have responded if i were going   \n",
       "1      549e992a42         sooo sad i will miss you here in san diego   \n",
       "2      088c60f138                             my boss is bullying me   \n",
       "3      9642c003ef                      what interview leave me alone   \n",
       "4      358bd9e861  sons of  why couldnt they put them on the rele...   \n",
       "...           ...                                                ...   \n",
       "27476  4eac33d1c0  wish we could come see u on denver husband los...   \n",
       "27477  4f4c4fc327  ive wondered about rake to the client has made...   \n",
       "27478  f67aae2310  yay good for both of you enjoy the break  you ...   \n",
       "27479  ed167662a5                                but it was worth it   \n",
       "27480  6f7127d9d7  all this flirting going on  the atg smiles yay...   \n",
       "\n",
       "                                           selected_text sentiment  \n",
       "0                      id have responded if i were going   neutral  \n",
       "1                                               sooo sad  negative  \n",
       "2                                            bullying me  negative  \n",
       "3                                         leave me alone  negative  \n",
       "4                                                sons of  negative  \n",
       "...                                                  ...       ...  \n",
       "27476                                             d lost  negative  \n",
       "27477                                         dont force  negative  \n",
       "27478                           yay good for both of you  positive  \n",
       "27479                                but it was worth it  positive  \n",
       "27480  all this flirting going on  the atg smiles yay...   neutral  \n",
       "\n",
       "[27480 rows x 4 columns]"
      ]
     },
     "execution_count": 17,
     "metadata": {},
     "output_type": "execute_result"
    }
   ],
   "source": [
    "df_train"
   ]
  },
  {
   "cell_type": "markdown",
   "id": "cbdeba7a",
   "metadata": {},
   "source": [
    "# Models"
   ]
  },
  {
   "cell_type": "code",
   "execution_count": 18,
   "id": "c443990a",
   "metadata": {},
   "outputs": [],
   "source": [
    "import gensim\n",
    "from gensim.models.word2vec import Word2Vec\n",
    "import gensim.downloader as api\n",
    "from tensorflow.keras.utils import to_categorical\n",
    "import keras\n",
    "from time import time\n",
    "from keras.preprocessing.text import Tokenizer\n",
    "from keras.preprocessing.sequence import pad_sequences"
   ]
  },
  {
   "cell_type": "code",
   "execution_count": 19,
   "id": "9d271946",
   "metadata": {},
   "outputs": [],
   "source": [
    "from keras.models import Sequential\n",
    "from keras import regularizers\n",
    "from keras.layers.core import Dense, Dropout, Flatten\n",
    "from keras.layers.convolutional import Conv1D\n",
    "from keras import layers\n",
    "from sklearn.metrics import accuracy_score, f1_score\n"
   ]
  },
  {
   "cell_type": "code",
   "execution_count": 20,
   "id": "5e1a1ade",
   "metadata": {},
   "outputs": [],
   "source": [
    "# Text\n",
    "df = df_train\n",
    "df['text'] = df['text'].map(lambda x:str(x))\n",
    "df['sentiment'] = df_train['sentiment'].astype(\"category\")\n",
    "df['sentiment'] = df_train['sentiment'].cat.codes\n",
    "# df"
   ]
  },
  {
   "cell_type": "code",
   "execution_count": 21,
   "id": "495bce42",
   "metadata": {},
   "outputs": [
    {
     "data": {
      "text/html": [
       "<div>\n",
       "<style scoped>\n",
       "    .dataframe tbody tr th:only-of-type {\n",
       "        vertical-align: middle;\n",
       "    }\n",
       "\n",
       "    .dataframe tbody tr th {\n",
       "        vertical-align: top;\n",
       "    }\n",
       "\n",
       "    .dataframe thead th {\n",
       "        text-align: right;\n",
       "    }\n",
       "</style>\n",
       "<table border=\"1\" class=\"dataframe\">\n",
       "  <thead>\n",
       "    <tr style=\"text-align: right;\">\n",
       "      <th></th>\n",
       "      <th>textID</th>\n",
       "      <th>text</th>\n",
       "      <th>sentiment</th>\n",
       "    </tr>\n",
       "  </thead>\n",
       "  <tbody>\n",
       "    <tr>\n",
       "      <th>0</th>\n",
       "      <td>f87dea47db</td>\n",
       "      <td>Last session of the day  http://twitpic.com/67ezh</td>\n",
       "      <td>neutral</td>\n",
       "    </tr>\n",
       "    <tr>\n",
       "      <th>1</th>\n",
       "      <td>96d74cb729</td>\n",
       "      <td>Shanghai is also really exciting (precisely -...</td>\n",
       "      <td>positive</td>\n",
       "    </tr>\n",
       "    <tr>\n",
       "      <th>2</th>\n",
       "      <td>eee518ae67</td>\n",
       "      <td>Recession hit Veronique Branquinho, she has to...</td>\n",
       "      <td>negative</td>\n",
       "    </tr>\n",
       "    <tr>\n",
       "      <th>3</th>\n",
       "      <td>01082688c6</td>\n",
       "      <td>happy bday!</td>\n",
       "      <td>positive</td>\n",
       "    </tr>\n",
       "    <tr>\n",
       "      <th>4</th>\n",
       "      <td>33987a8ee5</td>\n",
       "      <td>http://twitpic.com/4w75p - I like it!!</td>\n",
       "      <td>positive</td>\n",
       "    </tr>\n",
       "    <tr>\n",
       "      <th>...</th>\n",
       "      <td>...</td>\n",
       "      <td>...</td>\n",
       "      <td>...</td>\n",
       "    </tr>\n",
       "    <tr>\n",
       "      <th>3529</th>\n",
       "      <td>e5f0e6ef4b</td>\n",
       "      <td>its at 3 am, im very tired but i can`t sleep  ...</td>\n",
       "      <td>negative</td>\n",
       "    </tr>\n",
       "    <tr>\n",
       "      <th>3530</th>\n",
       "      <td>416863ce47</td>\n",
       "      <td>All alone in this old house again.  Thanks for...</td>\n",
       "      <td>positive</td>\n",
       "    </tr>\n",
       "    <tr>\n",
       "      <th>3531</th>\n",
       "      <td>6332da480c</td>\n",
       "      <td>I know what you mean. My little dog is sinkin...</td>\n",
       "      <td>negative</td>\n",
       "    </tr>\n",
       "    <tr>\n",
       "      <th>3532</th>\n",
       "      <td>df1baec676</td>\n",
       "      <td>_sutra what is your next youtube video gonna b...</td>\n",
       "      <td>positive</td>\n",
       "    </tr>\n",
       "    <tr>\n",
       "      <th>3533</th>\n",
       "      <td>469e15c5a8</td>\n",
       "      <td>http://twitpic.com/4woj2 - omgssh  ang cute n...</td>\n",
       "      <td>positive</td>\n",
       "    </tr>\n",
       "  </tbody>\n",
       "</table>\n",
       "<p>3534 rows × 3 columns</p>\n",
       "</div>"
      ],
      "text/plain": [
       "          textID                                               text sentiment\n",
       "0     f87dea47db  Last session of the day  http://twitpic.com/67ezh   neutral\n",
       "1     96d74cb729   Shanghai is also really exciting (precisely -...  positive\n",
       "2     eee518ae67  Recession hit Veronique Branquinho, she has to...  negative\n",
       "3     01082688c6                                        happy bday!  positive\n",
       "4     33987a8ee5             http://twitpic.com/4w75p - I like it!!  positive\n",
       "...          ...                                                ...       ...\n",
       "3529  e5f0e6ef4b  its at 3 am, im very tired but i can`t sleep  ...  negative\n",
       "3530  416863ce47  All alone in this old house again.  Thanks for...  positive\n",
       "3531  6332da480c   I know what you mean. My little dog is sinkin...  negative\n",
       "3532  df1baec676  _sutra what is your next youtube video gonna b...  positive\n",
       "3533  469e15c5a8   http://twitpic.com/4woj2 - omgssh  ang cute n...  positive\n",
       "\n",
       "[3534 rows x 3 columns]"
      ]
     },
     "execution_count": 21,
     "metadata": {},
     "output_type": "execute_result"
    }
   ],
   "source": [
    "df_test"
   ]
  },
  {
   "cell_type": "code",
   "execution_count": 22,
   "id": "0ad0e5bf",
   "metadata": {},
   "outputs": [
    {
     "name": "stdout",
     "output_type": "stream",
     "text": [
      "X_train shape: (19236,)\n",
      "y_train shape: (19236, 3)\n",
      "X_test shape : (4122,)\n",
      "y_test shape : (4122,)\n",
      "X_val shape  : (4122,)\n",
      "y val shape  : (4122, 3)\n"
     ]
    }
   ],
   "source": [
    "x_train, x_test, y_train, y_test = train_test_split(df['text'].values, df['sentiment'].values,stratify=df['sentiment'].values, test_size=0.3,random_state=1)\n",
    "y_train = to_categorical(y_train)\n",
    "\n",
    "# x_test, x_val , y_test, y_val = train_test_split(x_test, y_test,stratify=y_test, test_size=0.5,random_state=1)\n",
    "x_val = x_test[0:4122]\n",
    "y_val = to_categorical(y_test[0:4122])\n",
    "x_test = x_test[4122:]\n",
    "y_test = y_test[4122:]\n",
    "\n",
    "print(\"X_train shape: {}\".format(x_train.shape))\n",
    "print(\"y_train shape: {}\".format(y_train.shape))\n",
    "print(\"X_test shape : {}\".format(x_test.shape))\n",
    "print(\"y_test shape : {}\".format(y_test.shape))\n",
    "print(\"X_val shape  : {}\".format(x_val.shape))\n",
    "print(\"y val shape  : {}\".format(y_val.shape))\n"
   ]
  },
  {
   "cell_type": "markdown",
   "id": "f569bdd2",
   "metadata": {},
   "source": [
    "### Tokenized data\n",
    "Our input data is text and we can't feed it directly to our models. So, we'll define a Tokenizer to convert our text input data into token indices. This means that every token (we can decide what a token is char, word, sub-word, etc.) is mapped to a unique index which allows us to represent our text as an array of indices."
   ]
  },
  {
   "cell_type": "code",
   "execution_count": 23,
   "id": "3df017b3",
   "metadata": {},
   "outputs": [],
   "source": [
    "tokenizer = Tokenizer(num_words=5000)\n",
    "tokenizer.fit_on_texts(df.text.values)\n",
    "\n",
    "X_train = tokenizer.texts_to_sequences(x_train)\n",
    "X_val = tokenizer.texts_to_sequences(x_val)\n",
    "X_test = tokenizer.texts_to_sequences(x_test)\n",
    "\n",
    "vocab_size = len(tokenizer.word_index) + 1\n",
    "\n",
    "maxlen = 100\n",
    "\n",
    "#  All sequences in a list have the same length no more than 100\n",
    "X_train = pad_sequences(X_train, padding='post', maxlen=maxlen) \n",
    "X_val = pad_sequences(X_val, padding='post', maxlen=maxlen)\n",
    "X_test = pad_sequences(X_test, padding='post', maxlen=maxlen)\n",
    "\n",
    "word_index = tokenizer.word_index"
   ]
  },
  {
   "cell_type": "code",
   "execution_count": 24,
   "id": "ebc33abb",
   "metadata": {},
   "outputs": [],
   "source": [
    "activation = [ \"relu\", \"tanh\", \"sigmoid\", \"elu\"]\n",
    "optimizer = [\"adam\", \"SGD\", \"RMSprop\"]\n",
    "epochs = [5,10,15,20]\n",
    "batchsize = [8,16,32,64,128]"
   ]
  },
  {
   "cell_type": "code",
   "execution_count": 25,
   "id": "88c2f086",
   "metadata": {},
   "outputs": [],
   "source": [
    "def mlp(activation,optimizer,epochs,batchsize):\n",
    "  embedding_dim = 100\n",
    "\n",
    "  model = Sequential()\n",
    "  model.add(layers.Embedding(input_dim=vocab_size, \n",
    "                            output_dim=embedding_dim,\n",
    "                            input_length=maxlen))\n",
    "  model.add(layers.GlobalMaxPool1D())\n",
    "  model.add(layers.Dense(30, activation=activation))\n",
    "  model.add(layers.BatchNormalization())\n",
    "  model.add(layers.Dropout(0.2))\n",
    "  model.add(layers.Dense(10, activation=activation))\n",
    "  model.add(layers.BatchNormalization())\n",
    "  model.add(layers.Dropout(0.2))\n",
    "  model.add(layers.Dense(3, activation='softmax'))\n",
    "  model.compile(optimizer=optimizer,\n",
    "                loss='categorical_crossentropy',\n",
    "                metrics=['accuracy'])\n",
    "  history = model.fit(X_train, y_train,\n",
    "                    epochs=epochs,\n",
    "                    verbose=0,\n",
    "                    validation_data=(X_val, y_val),\n",
    "                    batch_size=batchsize)\n",
    "  \n",
    "  return history, model"
   ]
  },
  {
   "cell_type": "code",
   "execution_count": 26,
   "id": "42af544d",
   "metadata": {},
   "outputs": [
    {
     "name": "stdout",
     "output_type": "stream",
     "text": [
      "129/129 [==============================] - 1s 4ms/step - loss: 0.7656 - accuracy: 0.6807\n",
      "129/129 [==============================] - 1s 4ms/step - loss: 0.7693 - accuracy: 0.6861: 0s - loss: 0.8105 - accuracy\n",
      "129/129 [==============================] - 1s 4ms/step - loss: 0.8373 - accuracy: 0.6713\n",
      "129/129 [==============================] - 1s 4ms/step - loss: 0.7940 - accuracy: 0.6844\n",
      "best activation function is  tanh\n",
      "129/129 [==============================] - 1s 4ms/step - loss: 0.7824 - accuracy: 0.6667\n",
      "129/129 [==============================] - 1s 4ms/step - loss: 0.7537 - accuracy: 0.6929\n",
      "129/129 [==============================] - 1s 4ms/step - loss: 0.7009 - accuracy: 0.7060\n",
      "best optimizer is  RMSprop\n",
      "602/602 [==============================] - 3s 4ms/step - loss: 0.5051 - accuracy: 0.8078\n",
      "129/129 [==============================] - 1s 4ms/step - loss: 0.7345 - accuracy: 0.7137\n",
      "602/602 [==============================] - 3s 4ms/step - loss: 0.3596 - accuracy: 0.8701\n",
      "129/129 [==============================] - 1s 4ms/step - loss: 0.8692 - accuracy: 0.6565\n",
      "602/602 [==============================] - 3s 5ms/step - loss: 0.2875 - accuracy: 0.8945: 0s - loss: 0.2875 - ac\n",
      "129/129 [==============================] - 1s 5ms/step - loss: 1.1270 - accuracy: 0.6249\n",
      "602/602 [==============================] - 2s 4ms/step - loss: 0.2522 - accuracy: 0.9080\n",
      "129/129 [==============================] - 1s 4ms/step - loss: 1.3638 - accuracy: 0.6087\n",
      "best epoch is  5\n",
      "602/602 [==============================] - 2s 4ms/step - loss: 0.5368 - accuracy: 0.7900\n",
      "129/129 [==============================] - 1s 4ms/step - loss: 0.7465 - accuracy: 0.6997\n",
      "602/602 [==============================] - 2s 4ms/step - loss: 0.5137 - accuracy: 0.7980\n",
      "129/129 [==============================] - 1s 4ms/step - loss: 0.7441 - accuracy: 0.7050\n",
      "602/602 [==============================] - 3s 4ms/step - loss: 0.4533 - accuracy: 0.8322\n",
      "129/129 [==============================] - 1s 4ms/step - loss: 0.7422 - accuracy: 0.7038\n",
      "602/602 [==============================] - 2s 4ms/step - loss: 0.4930 - accuracy: 0.8072: 0s - l\n",
      "129/129 [==============================] - 1s 4ms/step - loss: 0.8413 - accuracy: 0.6572\n",
      "602/602 [==============================] - 2s 4ms/step - loss: 0.4494 - accuracy: 0.8256\n",
      "129/129 [==============================] - 1s 4ms/step - loss: 0.8568 - accuracy: 0.6434\n",
      "best batchsize is  16\n",
      "test accuracy score =  0.6734594856865599\n",
      "test f1 score =  0.672205365642047\n",
      "time taken is  136.9917769432068\n"
     ]
    },
    {
     "data": {
      "image/png": "[encoded data removed]",
      "text/plain": [
       "<Figure size 432x288 with 1 Axes>"
      ]
     },
     "metadata": {
      "needs_background": "light"
     },
     "output_type": "display_data"
    },
    {
     "data": {
      "image/png": "[encoded data removed]",
      "text/plain": [
       "<Figure size 432x288 with 1 Axes>"
      ]
     },
     "metadata": {
      "needs_background": "light"
     },
     "output_type": "display_data"
    }
   ],
   "source": [
    "def select_hyperparameters():\n",
    "    \"\"\"\n",
    "    function to select the best activation function, optimizer, epochs, and batch size\n",
    "    \"\"\"\n",
    "    sel_activation = {}\n",
    "    for i in activation:\n",
    "        history, model = mlp(i, \"adam\", 5, 16)\n",
    "        temp = {i:model.evaluate(X_val,y_val)[1]}\n",
    "        sel_activation.update(temp)\n",
    "        keras.backend.clear_session()\n",
    "\n",
    "    sel_activation_final = max(sel_activation, key=sel_activation.get)\n",
    "    print(\"best activation function is \",sel_activation_final)\n",
    "\n",
    "    sel_optimizer = {}\n",
    "    for i in optimizer:\n",
    "        history, model = mlp(sel_activation_final,i,5,16)\n",
    "        temp = {i:model.evaluate(X_val,y_val)[1]}\n",
    "        sel_optimizer.update(temp)\n",
    "        keras.backend.clear_session()\n",
    "\n",
    "    sel_optimizer_final = max(sel_optimizer, key=sel_optimizer.get)\n",
    "    print(\"best optimizer is \",sel_optimizer_final)\n",
    "\n",
    "    acc_train_epoch = {}\n",
    "    acc_val_epoch = {}\n",
    "    for i in epochs:\n",
    "        history, model = mlp(sel_activation_final,sel_optimizer_final,i,16)\n",
    "        temp_train = {i:model.evaluate(X_train,y_train)[1]}\n",
    "        temp_val = {i:model.evaluate(X_val,y_val)[1]}\n",
    "        acc_train_epoch.update(temp_train)\n",
    "        acc_val_epoch.update(temp_val)\n",
    "        keras.backend.clear_session()\n",
    "\n",
    "    sel_epoch_final = max(acc_val_epoch, key=acc_val_epoch.get)\n",
    "    print(\"best epoch is \",sel_epoch_final)\n",
    "\n",
    "    acc_train_batch = {}\n",
    "    acc_val_batch = {}\n",
    "    for i in batchsize:\n",
    "        history, model = mlp(sel_activation_final,sel_optimizer_final,sel_epoch_final,i)\n",
    "        temp_train = {i:model.evaluate(X_train,y_train)[1]}\n",
    "        temp_val = {i:model.evaluate(X_val,y_val)[1]}\n",
    "        acc_train_batch.update(temp_train)\n",
    "        acc_val_batch.update(temp_val)\n",
    "        keras.backend.clear_session()\n",
    "\n",
    "    sel_batch_final = max(acc_val_batch, key=acc_val_batch.get)\n",
    "    print(\"best batchsize is \",sel_batch_final)\n",
    "\n",
    "    df_batch_train = pd.DataFrame(list(acc_train_batch.items()), columns=['Batchsize', 'Accuracy score'])\n",
    "    df_batch_val = pd.DataFrame(list(acc_val_batch.items()), columns=['Batchsize', 'Accuracy score'])\n",
    "\n",
    "    df_batch_val.Batchsize = df_batch_val.Batchsize.map(lambda x:str(x))\n",
    "    df_batch_train.Batchsize = df_batch_train.Batchsize.map(lambda x:str(x))\n",
    "\n",
    "    plt.figure()\n",
    "    plt.plot(df_batch_train.iloc[:,0],df_batch_train.iloc[:,1],label=\"train\", marker='o')\n",
    "    plt.plot(df_batch_val.iloc[:,0],df_batch_val.iloc[:,1],label = \"val\", marker='o')\n",
    "    plt.title(\"Accuracy score vs Batch size\")\n",
    "    plt.ylabel(\"Accuracy score\")\n",
    "    plt.xlabel(\"Batch size\")\n",
    "    plt.legend()\n",
    "\n",
    "    #final model\n",
    "    final_model, final_history = mlp(sel_activation_final,sel_optimizer_final,sel_epoch_final,sel_batch_final)\n",
    "\n",
    "\n",
    "\n",
    "# 5. best model\n",
    "t0 = time()\n",
    "select_hyperparameters()\n",
    "pred = np.argmax(model.predict(X_test), axis=-1)\n",
    "print(\"test accuracy score = \",accuracy_score(y_pred=pred, y_true=y_test))\n",
    "t1 = time()\n",
    "print(\"time taken is \", t1-t0)"
   ]
  },
  {
   "cell_type": "code",
   "execution_count": 27,
   "id": "33fb7f5a",
   "metadata": {},
   "outputs": [],
   "source": [
    "# Text\n",
    "df = df_train\n",
    "df['text'] = df['selected_text'].map(lambda x:str(x))\n",
    "df['sentiment'] = df_train['sentiment'].astype(\"category\")\n",
    "df['sentiment'] = df_train['sentiment'].cat.codes\n",
    "# df"
   ]
  },
  {
   "cell_type": "code",
   "execution_count": 28,
   "id": "1bcdccfe",
   "metadata": {},
   "outputs": [],
   "source": [
    "def mlp(activation,optimizer,epochs,batchsize):\n",
    "  embedding_dim = 100\n",
    "\n",
    "  model = Sequential()\n",
    "  model.add(layers.Embedding(input_dim=vocab_size, \n",
    "                            output_dim=embedding_dim,\n",
    "                            input_length=maxlen))\n",
    "  model.add(layers.GlobalMaxPool1D())\n",
    "  model.add(layers.Dense(30, activation=activation))\n",
    "  model.add(layers.BatchNormalization())\n",
    "  model.add(layers.Dropout(0.2))\n",
    "  model.add(layers.Dense(10, activation=activation))\n",
    "  model.add(layers.BatchNormalization())\n",
    "  model.add(layers.Dropout(0.2))\n",
    "  model.add(layers.Dense(3, activation='softmax'))\n",
    "  model.compile(optimizer=optimizer,\n",
    "                loss='categorical_crossentropy',\n",
    "                metrics=['accuracy'])\n",
    "  history = model.fit(X_train, y_train,\n",
    "                    epochs=epochs,\n",
    "                    verbose=0,\n",
    "                    validation_data=(X_val, y_val),\n",
    "                    batch_size=batchsize)\n",
    "  \n",
    "  return history, model"
   ]
  },
  {
   "cell_type": "code",
   "execution_count": 29,
   "id": "2178f01b",
   "metadata": {},
   "outputs": [
    {
     "name": "stdout",
     "output_type": "stream",
     "text": [
      "129/129 [==============================] - 1s 4ms/step - loss: 0.8075 - accuracy: 0.6853\n",
      "129/129 [==============================] - 1s 4ms/step - loss: 0.7695 - accuracy: 0.6846\n",
      "129/129 [==============================] - 1s 4ms/step - loss: 0.8457 - accuracy: 0.6640\n",
      "129/129 [==============================] - 1s 4ms/step - loss: 0.7910 - accuracy: 0.6713\n",
      "best activation function is  relu\n",
      "129/129 [==============================] - 1s 4ms/step - loss: 0.7731 - accuracy: 0.6917\n",
      "129/129 [==============================] - 1s 4ms/step - loss: 0.7256 - accuracy: 0.7067\n",
      "129/129 [==============================] - 1s 4ms/step - loss: 0.7119 - accuracy: 0.7101\n",
      "best optimizer is  RMSprop\n",
      "602/602 [==============================] - 3s 5ms/step - loss: 0.4726 - accuracy: 0.8204\n",
      "129/129 [==============================] - 1s 5ms/step - loss: 0.7252 - accuracy: 0.7023\n",
      "602/602 [==============================] - 3s 5ms/step - loss: 0.3016 - accuracy: 0.8986\n",
      "129/129 [==============================] - 1s 5ms/step - loss: 0.8328 - accuracy: 0.6912\n",
      "602/602 [==============================] - 2s 4ms/step - loss: 0.2186 - accuracy: 0.9252\n",
      "129/129 [==============================] - 1s 4ms/step - loss: 1.0567 - accuracy: 0.6628\n",
      "602/602 [==============================] - 3s 4ms/step - loss: 0.1561 - accuracy: 0.9531\n",
      "129/129 [==============================] - 1s 4ms/step - loss: 1.2068 - accuracy: 0.6625\n",
      "best epoch is  5\n",
      "602/602 [==============================] - 3s 4ms/step - loss: 0.5277 - accuracy: 0.7975\n",
      "129/129 [==============================] - 1s 4ms/step - loss: 0.7152 - accuracy: 0.7001\n",
      "602/602 [==============================] - 3s 4ms/step - loss: 0.4787 - accuracy: 0.8210\n",
      "129/129 [==============================] - 1s 4ms/step - loss: 0.7020 - accuracy: 0.7132\n",
      "602/602 [==============================] - 3s 4ms/step - loss: 0.4679 - accuracy: 0.8261\n",
      "129/129 [==============================] - 1s 4ms/step - loss: 0.7132 - accuracy: 0.7120\n",
      "602/602 [==============================] - 3s 4ms/step - loss: 0.4401 - accuracy: 0.8355\n",
      "129/129 [==============================] - 1s 4ms/step - loss: 0.7440 - accuracy: 0.6917\n",
      "602/602 [==============================] - 3s 5ms/step - loss: 0.4719 - accuracy: 0.8156\n",
      "129/129 [==============================] - 1s 4ms/step - loss: 0.7999 - accuracy: 0.6589\n",
      "best batchsize is  16\n",
      "test accuracy score =  0.7183406113537117\n",
      "test f1 score =  0.7192069748583159\n",
      "time taken is  142.58632826805115\n"
     ]
    },
    {
     "data": {
      "image/png": "[encoded data removed]",
      "text/plain": [
       "<Figure size 432x288 with 1 Axes>"
      ]
     },
     "metadata": {
      "needs_background": "light"
     },
     "output_type": "display_data"
    },
    {
     "data": {
      "image/png": "[encoded data removed]",
      "text/plain": [
       "<Figure size 432x288 with 1 Axes>"
      ]
     },
     "metadata": {
      "needs_background": "light"
     },
     "output_type": "display_data"
    }
   ],
   "source": [
    "def select_hyperparameters():\n",
    "    \"\"\"\n",
    "    function to select the best activation function, optimizer, epochs, and batch size\n",
    "    \"\"\"\n",
    "    sel_activation = {}\n",
    "    for i in activation:\n",
    "        history, model = mlp(i, \"adam\", 5, 16)\n",
    "        temp = {i:model.evaluate(X_val,y_val)[1]}\n",
    "        sel_activation.update(temp)\n",
    "        keras.backend.clear_session()\n",
    "\n",
    "    sel_activation_final = max(sel_activation, key=sel_activation.get)\n",
    "    print(\"best activation function is \",sel_activation_final)\n",
    "\n",
    "    sel_optimizer = {}\n",
    "    for i in optimizer:\n",
    "        history, model = mlp(sel_activation_final,i,5,16)\n",
    "        temp = {i:model.evaluate(X_val,y_val)[1]}\n",
    "        sel_optimizer.update(temp)\n",
    "        keras.backend.clear_session()\n",
    "\n",
    "    sel_optimizer_final = max(sel_optimizer, key=sel_optimizer.get)\n",
    "    print(\"best optimizer is \",sel_optimizer_final)\n",
    "\n",
    "    acc_train_epoch = {}\n",
    "    acc_val_epoch = {}\n",
    "    for i in epochs:\n",
    "        history, model = mlp(sel_activation_final,sel_optimizer_final,i,16)\n",
    "        temp_train = {i:model.evaluate(X_train,y_train)[1]}\n",
    "        temp_val = {i:model.evaluate(X_val,y_val)[1]}\n",
    "        acc_train_epoch.update(temp_train)\n",
    "        acc_val_epoch.update(temp_val)\n",
    "        keras.backend.clear_session()\n",
    "\n",
    "    sel_epoch_final = max(acc_val_epoch, key=acc_val_epoch.get)\n",
    "    print(\"best epoch is \",sel_epoch_final)\n",
    "\n",
    "    acc_train_batch = {}\n",
    "    acc_val_batch = {}\n",
    "    for i in batchsize:\n",
    "        history, model = mlp(sel_activation_final,sel_optimizer_final,sel_epoch_final,i)\n",
    "        temp_train = {i:model.evaluate(X_train,y_train)[1]}\n",
    "        temp_val = {i:model.evaluate(X_val,y_val)[1]}\n",
    "        acc_train_batch.update(temp_train)\n",
    "        acc_val_batch.update(temp_val)\n",
    "        keras.backend.clear_session()\n",
    "\n",
    "    sel_batch_final = max(acc_val_batch, key=acc_val_batch.get)\n",
    "    print(\"best batchsize is \",sel_batch_final)\n",
    "\n",
    "    df_batch_train = pd.DataFrame(list(acc_train_batch.items()), columns=['Batchsize', 'Accuracy score'])\n",
    "    df_batch_val = pd.DataFrame(list(acc_val_batch.items()), columns=['Batchsize', 'Accuracy score'])\n",
    "\n",
    "    df_batch_val.Batchsize = df_batch_val.Batchsize.map(lambda x:str(x))\n",
    "    df_batch_train.Batchsize = df_batch_train.Batchsize.map(lambda x:str(x))\n",
    "\n",
    "    plt.figure()\n",
    "    plt.plot(df_batch_train.iloc[:,0],df_batch_train.iloc[:,1],label=\"train\", marker='o')\n",
    "    plt.plot(df_batch_val.iloc[:,0],df_batch_val.iloc[:,1],label = \"val\", marker='o')\n",
    "    plt.title(\"Accuracy score vs Batch size\")\n",
    "    plt.ylabel(\"Accuracy score\")\n",
    "    plt.xlabel(\"Batch size\")\n",
    "    plt.legend()\n",
    "\n",
    "    #final model\n",
    "    final_model, final_history = mlp(sel_activation_final,sel_optimizer_final,sel_epoch_final,sel_batch_final)\n",
    "\n",
    "\n",
    "\n",
    "# 5. best model\n",
    "t0 = time()\n",
    "select_hyperparameters()\n",
    "pred = np.argmax(model.predict(X_test), axis=-1)\n",
    "print(\"test accuracy score = \",accuracy_score(y_pred=pred, y_true=y_test))\n",
    "t1 = time()\n",
    "print(\"time taken is \", t1-t0)"
   ]
  },
  {
   "cell_type": "code",
   "execution_count": null,
   "id": "1515312d",
   "metadata": {},
   "outputs": [],
   "source": []
  }
 ],
 "metadata": {
  "kernelspec": {
   "display_name": "Python 3",
   "language": "python",
   "name": "python3"
  },
  "language_info": {
   "codemirror_mode": {
    "name": "ipython",
    "version": 3
   },
   "file_extension": ".py",
   "mimetype": "text/x-python",
   "name": "python",
   "nbconvert_exporter": "python",
   "pygments_lexer": "ipython3",
   "version": "3.6.5"
  }
 },
 "nbformat": 4,
 "nbformat_minor": 5
}
