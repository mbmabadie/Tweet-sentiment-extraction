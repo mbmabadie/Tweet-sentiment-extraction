{
 "cells": [
  {
   "cell_type": "code",
   "execution_count": 1,
   "id": "dc72244a",
   "metadata": {
    "execution": {
     "iopub.execute_input": "2022-12-25T16:58:29.360130Z",
     "iopub.status.busy": "2022-12-25T16:58:29.359690Z",
     "iopub.status.idle": "2022-12-25T16:58:30.394458Z",
     "shell.execute_reply": "2022-12-25T16:58:30.393498Z"
    },
    "papermill": {
     "duration": 1.045085,
     "end_time": "2022-12-25T16:58:30.396948",
     "exception": false,
     "start_time": "2022-12-25T16:58:29.351863",
     "status": "completed"
    },
    "tags": []
   },
   "outputs": [],
   "source": [
    "import seaborn as sns\n",
    "import pandas as pd\n",
    "import numpy as np\n",
    "import matplotlib.pyplot as plt\n",
    "import seaborn as sns\n",
    "import os\n",
    "from sklearn.model_selection import train_test_split\n"
   ]
  },
  {
   "cell_type": "code",
   "execution_count": 2,
   "id": "c13fee05",
   "metadata": {
    "execution": {
     "iopub.execute_input": "2022-12-25T16:58:30.409738Z",
     "iopub.status.busy": "2022-12-25T16:58:30.409448Z",
     "iopub.status.idle": "2022-12-25T16:58:42.265958Z",
     "shell.execute_reply": "2022-12-25T16:58:42.264976Z"
    },
    "papermill": {
     "duration": 11.865218,
     "end_time": "2022-12-25T16:58:42.268350",
     "exception": false,
     "start_time": "2022-12-25T16:58:30.403132",
     "status": "completed"
    },
    "tags": []
   },
   "outputs": [
    {
     "name": "stderr",
     "output_type": "stream",
     "text": [
      "/opt/conda/lib/python3.7/site-packages/geopandas/_compat.py:115: UserWarning: The Shapely GEOS version (3.9.1-CAPI-1.14.2) is incompatible with the GEOS version PyGEOS was compiled with (3.10.3-CAPI-1.16.1). Conversions between both will be slow.\n",
      "  shapely_geos_version, geos_capi_version_string\n"
     ]
    }
   ],
   "source": [
    "import plotly.figure_factory as ff\n",
    "import re\n",
    "import string\n",
    "from collections import Counter\n",
    "import plotly.express as px\n",
    "import spacy"
   ]
  },
  {
   "cell_type": "code",
   "execution_count": 3,
   "id": "55b33a24",
   "metadata": {
    "execution": {
     "iopub.execute_input": "2022-12-25T16:58:42.282535Z",
     "iopub.status.busy": "2022-12-25T16:58:42.280813Z",
     "iopub.status.idle": "2022-12-25T16:58:42.707018Z",
     "shell.execute_reply": "2022-12-25T16:58:42.706108Z"
    },
    "papermill": {
     "duration": 0.435319,
     "end_time": "2022-12-25T16:58:42.709523",
     "exception": false,
     "start_time": "2022-12-25T16:58:42.274204",
     "status": "completed"
    },
    "tags": []
   },
   "outputs": [],
   "source": [
    "import nltk\n",
    "from nltk.tokenize import RegexpTokenizer\n",
    "from nltk.stem import WordNetLemmatizer\n",
    "from nltk.corpus import stopwords\n",
    "import string\n",
    "import re"
   ]
  },
  {
   "cell_type": "code",
   "execution_count": 4,
   "id": "1cc0bb1a",
   "metadata": {
    "execution": {
     "iopub.execute_input": "2022-12-25T16:58:42.722434Z",
     "iopub.status.busy": "2022-12-25T16:58:42.721877Z",
     "iopub.status.idle": "2022-12-25T16:58:42.862368Z",
     "shell.execute_reply": "2022-12-25T16:58:42.861326Z"
    },
    "papermill": {
     "duration": 0.149682,
     "end_time": "2022-12-25T16:58:42.865049",
     "exception": false,
     "start_time": "2022-12-25T16:58:42.715367",
     "status": "completed"
    },
    "tags": []
   },
   "outputs": [
    {
     "name": "stdout",
     "output_type": "stream",
     "text": [
      "(27481, 4)\n",
      "(3534, 3)\n"
     ]
    }
   ],
   "source": [
    "df_train = pd.read_csv('/kaggle/input/data-cnn/train.csv')\n",
    "df_test = pd.read_csv('/kaggle/input/data-cnn/test.csv')\n",
    "print(df_train.shape)\n",
    "print(df_test.shape)"
   ]
  },
  {
   "cell_type": "code",
   "execution_count": 5,
   "id": "3137c08c",
   "metadata": {
    "execution": {
     "iopub.execute_input": "2022-12-25T16:58:42.879488Z",
     "iopub.status.busy": "2022-12-25T16:58:42.878456Z",
     "iopub.status.idle": "2022-12-25T16:58:42.911761Z",
     "shell.execute_reply": "2022-12-25T16:58:42.910376Z"
    },
    "papermill": {
     "duration": 0.042443,
     "end_time": "2022-12-25T16:58:42.913843",
     "exception": false,
     "start_time": "2022-12-25T16:58:42.871400",
     "status": "completed"
    },
    "tags": []
   },
   "outputs": [
    {
     "name": "stdout",
     "output_type": "stream",
     "text": [
      "<class 'pandas.core.frame.DataFrame'>\n",
      "Int64Index: 27480 entries, 0 to 27480\n",
      "Data columns (total 4 columns):\n",
      " #   Column         Non-Null Count  Dtype \n",
      "---  ------         --------------  ----- \n",
      " 0   textID         27480 non-null  object\n",
      " 1   text           27480 non-null  object\n",
      " 2   selected_text  27480 non-null  object\n",
      " 3   sentiment      27480 non-null  object\n",
      "dtypes: object(4)\n",
      "memory usage: 1.0+ MB\n"
     ]
    }
   ],
   "source": [
    "df_train.dropna(inplace=True)\n",
    "df_train.info()"
   ]
  },
  {
   "cell_type": "code",
   "execution_count": 6,
   "id": "e6e78b43",
   "metadata": {
    "execution": {
     "iopub.execute_input": "2022-12-25T16:58:42.927906Z",
     "iopub.status.busy": "2022-12-25T16:58:42.927641Z",
     "iopub.status.idle": "2022-12-25T16:58:42.940539Z",
     "shell.execute_reply": "2022-12-25T16:58:42.939256Z"
    },
    "papermill": {
     "duration": 0.023498,
     "end_time": "2022-12-25T16:58:42.943255",
     "exception": false,
     "start_time": "2022-12-25T16:58:42.919757",
     "status": "completed"
    },
    "tags": []
   },
   "outputs": [
    {
     "name": "stdout",
     "output_type": "stream",
     "text": [
      "<class 'pandas.core.frame.DataFrame'>\n",
      "RangeIndex: 3534 entries, 0 to 3533\n",
      "Data columns (total 3 columns):\n",
      " #   Column     Non-Null Count  Dtype \n",
      "---  ------     --------------  ----- \n",
      " 0   textID     3534 non-null   object\n",
      " 1   text       3534 non-null   object\n",
      " 2   sentiment  3534 non-null   object\n",
      "dtypes: object(3)\n",
      "memory usage: 83.0+ KB\n"
     ]
    }
   ],
   "source": [
    "df_test.info()"
   ]
  },
  {
   "cell_type": "markdown",
   "id": "3e3187e8",
   "metadata": {
    "papermill": {
     "duration": 0.005743,
     "end_time": "2022-12-25T16:58:42.954955",
     "exception": false,
     "start_time": "2022-12-25T16:58:42.949212",
     "status": "completed"
    },
    "tags": []
   },
   "source": [
    "# Data processing"
   ]
  },
  {
   "cell_type": "code",
   "execution_count": 7,
   "id": "06868dd8",
   "metadata": {
    "execution": {
     "iopub.execute_input": "2022-12-25T16:58:42.967875Z",
     "iopub.status.busy": "2022-12-25T16:58:42.967615Z",
     "iopub.status.idle": "2022-12-25T16:58:42.984938Z",
     "shell.execute_reply": "2022-12-25T16:58:42.983139Z"
    },
    "papermill": {
     "duration": 0.026301,
     "end_time": "2022-12-25T16:58:42.986881",
     "exception": false,
     "start_time": "2022-12-25T16:58:42.960580",
     "status": "completed"
    },
    "scrolled": true,
    "tags": []
   },
   "outputs": [
    {
     "data": {
      "text/html": [
       "<div>\n",
       "<style scoped>\n",
       "    .dataframe tbody tr th:only-of-type {\n",
       "        vertical-align: middle;\n",
       "    }\n",
       "\n",
       "    .dataframe tbody tr th {\n",
       "        vertical-align: top;\n",
       "    }\n",
       "\n",
       "    .dataframe thead th {\n",
       "        text-align: right;\n",
       "    }\n",
       "</style>\n",
       "<table border=\"1\" class=\"dataframe\">\n",
       "  <thead>\n",
       "    <tr style=\"text-align: right;\">\n",
       "      <th></th>\n",
       "      <th>textID</th>\n",
       "      <th>text</th>\n",
       "      <th>selected_text</th>\n",
       "      <th>sentiment</th>\n",
       "    </tr>\n",
       "  </thead>\n",
       "  <tbody>\n",
       "    <tr>\n",
       "      <th>0</th>\n",
       "      <td>cb774db0d1</td>\n",
       "      <td>I`d have responded, if I were going</td>\n",
       "      <td>I`d have responded, if I were going</td>\n",
       "      <td>neutral</td>\n",
       "    </tr>\n",
       "    <tr>\n",
       "      <th>1</th>\n",
       "      <td>549e992a42</td>\n",
       "      <td>Sooo SAD I will miss you here in San Diego!!!</td>\n",
       "      <td>Sooo SAD</td>\n",
       "      <td>negative</td>\n",
       "    </tr>\n",
       "    <tr>\n",
       "      <th>2</th>\n",
       "      <td>088c60f138</td>\n",
       "      <td>my boss is bullying me...</td>\n",
       "      <td>bullying me</td>\n",
       "      <td>negative</td>\n",
       "    </tr>\n",
       "    <tr>\n",
       "      <th>3</th>\n",
       "      <td>9642c003ef</td>\n",
       "      <td>what interview! leave me alone</td>\n",
       "      <td>leave me alone</td>\n",
       "      <td>negative</td>\n",
       "    </tr>\n",
       "    <tr>\n",
       "      <th>4</th>\n",
       "      <td>358bd9e861</td>\n",
       "      <td>Sons of ****, why couldn`t they put them on t...</td>\n",
       "      <td>Sons of ****,</td>\n",
       "      <td>negative</td>\n",
       "    </tr>\n",
       "    <tr>\n",
       "      <th>...</th>\n",
       "      <td>...</td>\n",
       "      <td>...</td>\n",
       "      <td>...</td>\n",
       "      <td>...</td>\n",
       "    </tr>\n",
       "    <tr>\n",
       "      <th>27476</th>\n",
       "      <td>4eac33d1c0</td>\n",
       "      <td>wish we could come see u on Denver  husband l...</td>\n",
       "      <td>d lost</td>\n",
       "      <td>negative</td>\n",
       "    </tr>\n",
       "    <tr>\n",
       "      <th>27477</th>\n",
       "      <td>4f4c4fc327</td>\n",
       "      <td>I`ve wondered about rake to.  The client has ...</td>\n",
       "      <td>, don`t force</td>\n",
       "      <td>negative</td>\n",
       "    </tr>\n",
       "    <tr>\n",
       "      <th>27478</th>\n",
       "      <td>f67aae2310</td>\n",
       "      <td>Yay good for both of you. Enjoy the break - y...</td>\n",
       "      <td>Yay good for both of you.</td>\n",
       "      <td>positive</td>\n",
       "    </tr>\n",
       "    <tr>\n",
       "      <th>27479</th>\n",
       "      <td>ed167662a5</td>\n",
       "      <td>But it was worth it  ****.</td>\n",
       "      <td>But it was worth it  ****.</td>\n",
       "      <td>positive</td>\n",
       "    </tr>\n",
       "    <tr>\n",
       "      <th>27480</th>\n",
       "      <td>6f7127d9d7</td>\n",
       "      <td>All this flirting going on - The ATG smiles...</td>\n",
       "      <td>All this flirting going on - The ATG smiles. Y...</td>\n",
       "      <td>neutral</td>\n",
       "    </tr>\n",
       "  </tbody>\n",
       "</table>\n",
       "<p>27480 rows × 4 columns</p>\n",
       "</div>"
      ],
      "text/plain": [
       "           textID                                               text  \\\n",
       "0      cb774db0d1                I`d have responded, if I were going   \n",
       "1      549e992a42      Sooo SAD I will miss you here in San Diego!!!   \n",
       "2      088c60f138                          my boss is bullying me...   \n",
       "3      9642c003ef                     what interview! leave me alone   \n",
       "4      358bd9e861   Sons of ****, why couldn`t they put them on t...   \n",
       "...           ...                                                ...   \n",
       "27476  4eac33d1c0   wish we could come see u on Denver  husband l...   \n",
       "27477  4f4c4fc327   I`ve wondered about rake to.  The client has ...   \n",
       "27478  f67aae2310   Yay good for both of you. Enjoy the break - y...   \n",
       "27479  ed167662a5                         But it was worth it  ****.   \n",
       "27480  6f7127d9d7     All this flirting going on - The ATG smiles...   \n",
       "\n",
       "                                           selected_text sentiment  \n",
       "0                    I`d have responded, if I were going   neutral  \n",
       "1                                               Sooo SAD  negative  \n",
       "2                                            bullying me  negative  \n",
       "3                                         leave me alone  negative  \n",
       "4                                          Sons of ****,  negative  \n",
       "...                                                  ...       ...  \n",
       "27476                                             d lost  negative  \n",
       "27477                                      , don`t force  negative  \n",
       "27478                          Yay good for both of you.  positive  \n",
       "27479                         But it was worth it  ****.  positive  \n",
       "27480  All this flirting going on - The ATG smiles. Y...   neutral  \n",
       "\n",
       "[27480 rows x 4 columns]"
      ]
     },
     "execution_count": 7,
     "metadata": {},
     "output_type": "execute_result"
    }
   ],
   "source": [
    "df_train"
   ]
  },
  {
   "cell_type": "markdown",
   "id": "c9d4e91a",
   "metadata": {
    "papermill": {
     "duration": 0.005816,
     "end_time": "2022-12-25T16:58:42.998586",
     "exception": false,
     "start_time": "2022-12-25T16:58:42.992770",
     "status": "completed"
    },
    "tags": []
   },
   "source": [
    "## Text"
   ]
  },
  {
   "cell_type": "code",
   "execution_count": 8,
   "id": "9444a78a",
   "metadata": {
    "execution": {
     "iopub.execute_input": "2022-12-25T16:58:43.012262Z",
     "iopub.status.busy": "2022-12-25T16:58:43.011444Z",
     "iopub.status.idle": "2022-12-25T16:58:43.026935Z",
     "shell.execute_reply": "2022-12-25T16:58:43.026135Z"
    },
    "papermill": {
     "duration": 0.024437,
     "end_time": "2022-12-25T16:58:43.029001",
     "exception": false,
     "start_time": "2022-12-25T16:58:43.004564",
     "status": "completed"
    },
    "tags": []
   },
   "outputs": [],
   "source": [
    "df_train['text']=df_train['text'].str.lower()"
   ]
  },
  {
   "cell_type": "code",
   "execution_count": 9,
   "id": "e014f61b",
   "metadata": {
    "execution": {
     "iopub.execute_input": "2022-12-25T16:58:43.042456Z",
     "iopub.status.busy": "2022-12-25T16:58:43.042200Z",
     "iopub.status.idle": "2022-12-25T16:58:43.193933Z",
     "shell.execute_reply": "2022-12-25T16:58:43.192962Z"
    },
    "papermill": {
     "duration": 0.161009,
     "end_time": "2022-12-25T16:58:43.196382",
     "exception": false,
     "start_time": "2022-12-25T16:58:43.035373",
     "status": "completed"
    },
    "tags": []
   },
   "outputs": [],
   "source": [
    "# Remove all urls\n",
    "urls = r'''(?i)\\b((?:https?://|www\\d{0,3}[.]|[a-z0-9.\\-]+[.][a-z]{2,4}/)(?:[^\\s()<>]+|\\(([^\\s()<>]+|(\\([^\\s()<>]+\\)))*\\))+(?:\\(([^\\s()<>]+|(\\([^\\s()<>]+\\)))*\\)|[^\\s`!()\\[\\]{};:'\".,<>?«»“”‘’]))'''\n",
    "df_train['text']=df_train['text'].map(lambda char:re.sub(urls, \"\", char))"
   ]
  },
  {
   "cell_type": "code",
   "execution_count": 10,
   "id": "c8e4d234",
   "metadata": {
    "execution": {
     "iopub.execute_input": "2022-12-25T16:58:43.210123Z",
     "iopub.status.busy": "2022-12-25T16:58:43.209817Z",
     "iopub.status.idle": "2022-12-25T16:58:43.452504Z",
     "shell.execute_reply": "2022-12-25T16:58:43.451638Z"
    },
    "papermill": {
     "duration": 0.251928,
     "end_time": "2022-12-25T16:58:43.454587",
     "exception": false,
     "start_time": "2022-12-25T16:58:43.202659",
     "status": "completed"
    },
    "tags": []
   },
   "outputs": [],
   "source": [
    "# Remove all numbers\n",
    "df_train['text']=df_train['text'].map(lambda s:''.join([i for i in s if not i.isdigit()]))"
   ]
  },
  {
   "cell_type": "code",
   "execution_count": 11,
   "id": "14109b33",
   "metadata": {
    "execution": {
     "iopub.execute_input": "2022-12-25T16:58:43.468122Z",
     "iopub.status.busy": "2022-12-25T16:58:43.467822Z",
     "iopub.status.idle": "2022-12-25T16:58:43.632473Z",
     "shell.execute_reply": "2022-12-25T16:58:43.631647Z"
    },
    "papermill": {
     "duration": 0.173655,
     "end_time": "2022-12-25T16:58:43.634508",
     "exception": false,
     "start_time": "2022-12-25T16:58:43.460853",
     "status": "completed"
    },
    "tags": []
   },
   "outputs": [],
   "source": [
    "df_train['text']=df_train['text'].map(lambda char:re.sub(r'^\\s*|\\s\\s*', ' ', char).strip())"
   ]
  },
  {
   "cell_type": "code",
   "execution_count": 12,
   "id": "8b18e1bc",
   "metadata": {
    "execution": {
     "iopub.execute_input": "2022-12-25T16:58:43.648306Z",
     "iopub.status.busy": "2022-12-25T16:58:43.647553Z",
     "iopub.status.idle": "2022-12-25T16:58:43.723005Z",
     "shell.execute_reply": "2022-12-25T16:58:43.721981Z"
    },
    "papermill": {
     "duration": 0.084397,
     "end_time": "2022-12-25T16:58:43.725046",
     "exception": false,
     "start_time": "2022-12-25T16:58:43.640649",
     "status": "completed"
    },
    "tags": []
   },
   "outputs": [
    {
     "name": "stderr",
     "output_type": "stream",
     "text": [
      "/opt/conda/lib/python3.7/site-packages/ipykernel_launcher.py:2: FutureWarning: The default value of regex will change from True to False in a future version.\n",
      "  \n"
     ]
    }
   ],
   "source": [
    "# Remove all Punc.\n",
    "df_train['text']=df_train['text'].str.replace(r'[^\\w\\s]+', '')"
   ]
  },
  {
   "cell_type": "code",
   "execution_count": 13,
   "id": "bb3ce1f2",
   "metadata": {
    "execution": {
     "iopub.execute_input": "2022-12-25T16:58:43.739423Z",
     "iopub.status.busy": "2022-12-25T16:58:43.738584Z",
     "iopub.status.idle": "2022-12-25T16:58:43.795345Z",
     "shell.execute_reply": "2022-12-25T16:58:43.794227Z"
    },
    "papermill": {
     "duration": 0.066639,
     "end_time": "2022-12-25T16:58:43.798027",
     "exception": false,
     "start_time": "2022-12-25T16:58:43.731388",
     "status": "completed"
    },
    "tags": []
   },
   "outputs": [
    {
     "name": "stderr",
     "output_type": "stream",
     "text": [
      "/opt/conda/lib/python3.7/site-packages/ipykernel_launcher.py:2: FutureWarning: The default value of regex will change from True to False in a future version.\n",
      "  \n"
     ]
    }
   ],
   "source": [
    "# Remove special char\n",
    "df_train['text']= df_train['text'].str.replace(r\"[^a-zA-Z ]+\", \" \").str.strip()"
   ]
  },
  {
   "cell_type": "code",
   "execution_count": 14,
   "id": "582b0350",
   "metadata": {
    "execution": {
     "iopub.execute_input": "2022-12-25T16:58:43.811739Z",
     "iopub.status.busy": "2022-12-25T16:58:43.811479Z",
     "iopub.status.idle": "2022-12-25T16:58:43.837623Z",
     "shell.execute_reply": "2022-12-25T16:58:43.836792Z"
    },
    "papermill": {
     "duration": 0.035297,
     "end_time": "2022-12-25T16:58:43.839573",
     "exception": false,
     "start_time": "2022-12-25T16:58:43.804276",
     "status": "completed"
    },
    "tags": []
   },
   "outputs": [],
   "source": [
    "import unicodedata\n",
    "df_train['text']= df_train['text'].map(lambda char:unicodedata.normalize('NFKD', char).encode('ascii', 'ignore').decode('utf-8', 'ignore'))"
   ]
  },
  {
   "cell_type": "markdown",
   "id": "ebbe59e7",
   "metadata": {
    "papermill": {
     "duration": 0.006103,
     "end_time": "2022-12-25T16:58:43.852031",
     "exception": false,
     "start_time": "2022-12-25T16:58:43.845928",
     "status": "completed"
    },
    "tags": []
   },
   "source": [
    "## Selected Text"
   ]
  },
  {
   "cell_type": "code",
   "execution_count": 15,
   "id": "4735c429",
   "metadata": {
    "execution": {
     "iopub.execute_input": "2022-12-25T16:58:43.866273Z",
     "iopub.status.busy": "2022-12-25T16:58:43.865629Z",
     "iopub.status.idle": "2022-12-25T16:58:44.308066Z",
     "shell.execute_reply": "2022-12-25T16:58:44.306801Z"
    },
    "papermill": {
     "duration": 0.453262,
     "end_time": "2022-12-25T16:58:44.311734",
     "exception": false,
     "start_time": "2022-12-25T16:58:43.858472",
     "status": "completed"
    },
    "tags": []
   },
   "outputs": [
    {
     "name": "stderr",
     "output_type": "stream",
     "text": [
      "/opt/conda/lib/python3.7/site-packages/ipykernel_launcher.py:9: FutureWarning: The default value of regex will change from True to False in a future version.\n",
      "  if __name__ == \"__main__\":\n",
      "/opt/conda/lib/python3.7/site-packages/ipykernel_launcher.py:11: FutureWarning: The default value of regex will change from True to False in a future version.\n",
      "  # This is added back by InteractiveShellApp.init_path()\n"
     ]
    }
   ],
   "source": [
    "df_train['selected_text']=df_train['selected_text'].str.lower()\n",
    "# Remove all urls\n",
    "urls = r'''(?i)\\b((?:https?://|www\\d{0,3}[.]|[a-z0-9.\\-]+[.][a-z]{2,4}/)(?:[^\\s()<>]+|\\(([^\\s()<>]+|(\\([^\\s()<>]+\\)))*\\))+(?:\\(([^\\s()<>]+|(\\([^\\s()<>]+\\)))*\\)|[^\\s`!()\\[\\]{};:'\".,<>?«»“”‘’]))'''\n",
    "df_train['selected_text']=df_train['selected_text'].map(lambda char:re.sub(urls, \"\", char))\n",
    "# Remove all numbers\n",
    "df_train['selected_text']=df_train['selected_text'].map(lambda s:''.join([i for i in s if not i.isdigit()]))\n",
    "df_train['selected_text']=df_train['selected_text'].map(lambda char:re.sub(r'^\\s*|\\s\\s*', ' ', char).strip())\n",
    "# Remove all Punc.\n",
    "df_train['selected_text']=df_train['selected_text'].str.replace(r'[^\\w\\s]+', '')\n",
    "# Remove special char\n",
    "df_train['selected_text']= df_train['selected_text'].str.replace(r\"[^a-zA-Z ]+\", \" \").str.strip()\n",
    "df_train['selected_text']= df_train['selected_text'].map(lambda char:unicodedata.normalize('NFKD', char).encode('ascii', 'ignore').decode('utf-8', 'ignore'))"
   ]
  },
  {
   "cell_type": "code",
   "execution_count": 16,
   "id": "bd781e67",
   "metadata": {
    "execution": {
     "iopub.execute_input": "2022-12-25T16:58:44.328375Z",
     "iopub.status.busy": "2022-12-25T16:58:44.326934Z",
     "iopub.status.idle": "2022-12-25T16:58:44.333727Z",
     "shell.execute_reply": "2022-12-25T16:58:44.332668Z"
    },
    "papermill": {
     "duration": 0.016742,
     "end_time": "2022-12-25T16:58:44.336040",
     "exception": false,
     "start_time": "2022-12-25T16:58:44.319298",
     "status": "completed"
    },
    "tags": []
   },
   "outputs": [
    {
     "data": {
      "text/plain": [
       "'from autocorrect import Speller\\nspell = Speller(lang=\"en\")\\ntokenizer = RegexpTokenizer(r\\'\\\\w+\\')\\n\\ndf_train.text = df_train.text.map(lambda x:tokenizer.tokenize(x))  #remove punctuation and tokenize\\ndf_train.text = df_train.text.map(lambda x:[spell(i) for i in x])  #spell check'"
      ]
     },
     "execution_count": 16,
     "metadata": {},
     "output_type": "execute_result"
    }
   ],
   "source": [
    "'''from autocorrect import Speller\n",
    "spell = Speller(lang=\"en\")\n",
    "tokenizer = RegexpTokenizer(r'\\w+')\n",
    "\n",
    "df_train.text = df_train.text.map(lambda x:tokenizer.tokenize(x))  #remove punctuation and tokenize\n",
    "df_train.text = df_train.text.map(lambda x:[spell(i) for i in x])  #spell check'''"
   ]
  },
  {
   "cell_type": "code",
   "execution_count": 17,
   "id": "49dbc7c7",
   "metadata": {
    "execution": {
     "iopub.execute_input": "2022-12-25T16:58:44.351260Z",
     "iopub.status.busy": "2022-12-25T16:58:44.350477Z",
     "iopub.status.idle": "2022-12-25T16:58:44.362439Z",
     "shell.execute_reply": "2022-12-25T16:58:44.361389Z"
    },
    "papermill": {
     "duration": 0.021919,
     "end_time": "2022-12-25T16:58:44.364767",
     "exception": false,
     "start_time": "2022-12-25T16:58:44.342848",
     "status": "completed"
    },
    "scrolled": true,
    "tags": []
   },
   "outputs": [
    {
     "data": {
      "text/html": [
       "<div>\n",
       "<style scoped>\n",
       "    .dataframe tbody tr th:only-of-type {\n",
       "        vertical-align: middle;\n",
       "    }\n",
       "\n",
       "    .dataframe tbody tr th {\n",
       "        vertical-align: top;\n",
       "    }\n",
       "\n",
       "    .dataframe thead th {\n",
       "        text-align: right;\n",
       "    }\n",
       "</style>\n",
       "<table border=\"1\" class=\"dataframe\">\n",
       "  <thead>\n",
       "    <tr style=\"text-align: right;\">\n",
       "      <th></th>\n",
       "      <th>textID</th>\n",
       "      <th>text</th>\n",
       "      <th>selected_text</th>\n",
       "      <th>sentiment</th>\n",
       "    </tr>\n",
       "  </thead>\n",
       "  <tbody>\n",
       "    <tr>\n",
       "      <th>0</th>\n",
       "      <td>cb774db0d1</td>\n",
       "      <td>id have responded if i were going</td>\n",
       "      <td>id have responded if i were going</td>\n",
       "      <td>neutral</td>\n",
       "    </tr>\n",
       "    <tr>\n",
       "      <th>1</th>\n",
       "      <td>549e992a42</td>\n",
       "      <td>sooo sad i will miss you here in san diego</td>\n",
       "      <td>sooo sad</td>\n",
       "      <td>negative</td>\n",
       "    </tr>\n",
       "    <tr>\n",
       "      <th>2</th>\n",
       "      <td>088c60f138</td>\n",
       "      <td>my boss is bullying me</td>\n",
       "      <td>bullying me</td>\n",
       "      <td>negative</td>\n",
       "    </tr>\n",
       "    <tr>\n",
       "      <th>3</th>\n",
       "      <td>9642c003ef</td>\n",
       "      <td>what interview leave me alone</td>\n",
       "      <td>leave me alone</td>\n",
       "      <td>negative</td>\n",
       "    </tr>\n",
       "    <tr>\n",
       "      <th>4</th>\n",
       "      <td>358bd9e861</td>\n",
       "      <td>sons of  why couldnt they put them on the rele...</td>\n",
       "      <td>sons of</td>\n",
       "      <td>negative</td>\n",
       "    </tr>\n",
       "    <tr>\n",
       "      <th>...</th>\n",
       "      <td>...</td>\n",
       "      <td>...</td>\n",
       "      <td>...</td>\n",
       "      <td>...</td>\n",
       "    </tr>\n",
       "    <tr>\n",
       "      <th>27476</th>\n",
       "      <td>4eac33d1c0</td>\n",
       "      <td>wish we could come see u on denver husband los...</td>\n",
       "      <td>d lost</td>\n",
       "      <td>negative</td>\n",
       "    </tr>\n",
       "    <tr>\n",
       "      <th>27477</th>\n",
       "      <td>4f4c4fc327</td>\n",
       "      <td>ive wondered about rake to the client has made...</td>\n",
       "      <td>dont force</td>\n",
       "      <td>negative</td>\n",
       "    </tr>\n",
       "    <tr>\n",
       "      <th>27478</th>\n",
       "      <td>f67aae2310</td>\n",
       "      <td>yay good for both of you enjoy the break  you ...</td>\n",
       "      <td>yay good for both of you</td>\n",
       "      <td>positive</td>\n",
       "    </tr>\n",
       "    <tr>\n",
       "      <th>27479</th>\n",
       "      <td>ed167662a5</td>\n",
       "      <td>but it was worth it</td>\n",
       "      <td>but it was worth it</td>\n",
       "      <td>positive</td>\n",
       "    </tr>\n",
       "    <tr>\n",
       "      <th>27480</th>\n",
       "      <td>6f7127d9d7</td>\n",
       "      <td>all this flirting going on  the atg smiles yay...</td>\n",
       "      <td>all this flirting going on  the atg smiles yay...</td>\n",
       "      <td>neutral</td>\n",
       "    </tr>\n",
       "  </tbody>\n",
       "</table>\n",
       "<p>27480 rows × 4 columns</p>\n",
       "</div>"
      ],
      "text/plain": [
       "           textID                                               text  \\\n",
       "0      cb774db0d1                  id have responded if i were going   \n",
       "1      549e992a42         sooo sad i will miss you here in san diego   \n",
       "2      088c60f138                             my boss is bullying me   \n",
       "3      9642c003ef                      what interview leave me alone   \n",
       "4      358bd9e861  sons of  why couldnt they put them on the rele...   \n",
       "...           ...                                                ...   \n",
       "27476  4eac33d1c0  wish we could come see u on denver husband los...   \n",
       "27477  4f4c4fc327  ive wondered about rake to the client has made...   \n",
       "27478  f67aae2310  yay good for both of you enjoy the break  you ...   \n",
       "27479  ed167662a5                                but it was worth it   \n",
       "27480  6f7127d9d7  all this flirting going on  the atg smiles yay...   \n",
       "\n",
       "                                           selected_text sentiment  \n",
       "0                      id have responded if i were going   neutral  \n",
       "1                                               sooo sad  negative  \n",
       "2                                            bullying me  negative  \n",
       "3                                         leave me alone  negative  \n",
       "4                                                sons of  negative  \n",
       "...                                                  ...       ...  \n",
       "27476                                             d lost  negative  \n",
       "27477                                         dont force  negative  \n",
       "27478                           yay good for both of you  positive  \n",
       "27479                                but it was worth it  positive  \n",
       "27480  all this flirting going on  the atg smiles yay...   neutral  \n",
       "\n",
       "[27480 rows x 4 columns]"
      ]
     },
     "execution_count": 17,
     "metadata": {},
     "output_type": "execute_result"
    }
   ],
   "source": [
    "df_train"
   ]
  },
  {
   "cell_type": "markdown",
   "id": "e7296a98",
   "metadata": {
    "papermill": {
     "duration": 0.006807,
     "end_time": "2022-12-25T16:58:44.378493",
     "exception": false,
     "start_time": "2022-12-25T16:58:44.371686",
     "status": "completed"
    },
    "tags": []
   },
   "source": [
    "# Models"
   ]
  },
  {
   "cell_type": "code",
   "execution_count": 18,
   "id": "e35cbfe8",
   "metadata": {
    "execution": {
     "iopub.execute_input": "2022-12-25T16:58:44.394029Z",
     "iopub.status.busy": "2022-12-25T16:58:44.393179Z",
     "iopub.status.idle": "2022-12-25T16:58:45.562151Z",
     "shell.execute_reply": "2022-12-25T16:58:45.561174Z"
    },
    "papermill": {
     "duration": 1.179098,
     "end_time": "2022-12-25T16:58:45.564520",
     "exception": false,
     "start_time": "2022-12-25T16:58:44.385422",
     "status": "completed"
    },
    "tags": []
   },
   "outputs": [],
   "source": [
    "import gensim\n",
    "from gensim.models.word2vec import Word2Vec\n",
    "import gensim.downloader as api\n",
    "from tensorflow.keras.utils import to_categorical\n",
    "import keras\n",
    "from time import time\n",
    "from keras.preprocessing.text import Tokenizer\n",
    "from keras.preprocessing.sequence import pad_sequences"
   ]
  },
  {
   "cell_type": "code",
   "execution_count": 19,
   "id": "37be361b",
   "metadata": {
    "execution": {
     "iopub.execute_input": "2022-12-25T16:58:45.580843Z",
     "iopub.status.busy": "2022-12-25T16:58:45.579999Z",
     "iopub.status.idle": "2022-12-25T16:58:45.585077Z",
     "shell.execute_reply": "2022-12-25T16:58:45.584123Z"
    },
    "papermill": {
     "duration": 0.015145,
     "end_time": "2022-12-25T16:58:45.587183",
     "exception": false,
     "start_time": "2022-12-25T16:58:45.572038",
     "status": "completed"
    },
    "tags": []
   },
   "outputs": [],
   "source": [
    "from keras.models import Sequential\n",
    "from keras import regularizers\n",
    "from keras.layers.core import Dense, Dropout, Flatten\n",
    "from keras.layers.convolutional import Conv1D\n",
    "from keras import layers\n",
    "from sklearn.metrics import accuracy_score, f1_score\n"
   ]
  },
  {
   "cell_type": "code",
   "execution_count": 20,
   "id": "2175efd0",
   "metadata": {
    "execution": {
     "iopub.execute_input": "2022-12-25T16:58:45.602615Z",
     "iopub.status.busy": "2022-12-25T16:58:45.601861Z",
     "iopub.status.idle": "2022-12-25T16:58:45.621124Z",
     "shell.execute_reply": "2022-12-25T16:58:45.620287Z"
    },
    "papermill": {
     "duration": 0.029141,
     "end_time": "2022-12-25T16:58:45.623231",
     "exception": false,
     "start_time": "2022-12-25T16:58:45.594090",
     "status": "completed"
    },
    "tags": []
   },
   "outputs": [],
   "source": [
    "# Text\n",
    "df = df_train\n",
    "df['text'] = df['text'].map(lambda x:str(x))\n",
    "df['sentiment'] = df_train['sentiment'].astype(\"category\")\n",
    "df['sentiment'] = df_train['sentiment'].cat.codes\n",
    "# df"
   ]
  },
  {
   "cell_type": "code",
   "execution_count": 21,
   "id": "685730a0",
   "metadata": {
    "execution": {
     "iopub.execute_input": "2022-12-25T16:58:45.638295Z",
     "iopub.status.busy": "2022-12-25T16:58:45.638017Z",
     "iopub.status.idle": "2022-12-25T16:58:45.650356Z",
     "shell.execute_reply": "2022-12-25T16:58:45.649386Z"
    },
    "papermill": {
     "duration": 0.022238,
     "end_time": "2022-12-25T16:58:45.652439",
     "exception": false,
     "start_time": "2022-12-25T16:58:45.630201",
     "status": "completed"
    },
    "tags": []
   },
   "outputs": [
    {
     "data": {
      "text/html": [
       "<div>\n",
       "<style scoped>\n",
       "    .dataframe tbody tr th:only-of-type {\n",
       "        vertical-align: middle;\n",
       "    }\n",
       "\n",
       "    .dataframe tbody tr th {\n",
       "        vertical-align: top;\n",
       "    }\n",
       "\n",
       "    .dataframe thead th {\n",
       "        text-align: right;\n",
       "    }\n",
       "</style>\n",
       "<table border=\"1\" class=\"dataframe\">\n",
       "  <thead>\n",
       "    <tr style=\"text-align: right;\">\n",
       "      <th></th>\n",
       "      <th>textID</th>\n",
       "      <th>text</th>\n",
       "      <th>sentiment</th>\n",
       "    </tr>\n",
       "  </thead>\n",
       "  <tbody>\n",
       "    <tr>\n",
       "      <th>0</th>\n",
       "      <td>f87dea47db</td>\n",
       "      <td>Last session of the day  http://twitpic.com/67ezh</td>\n",
       "      <td>neutral</td>\n",
       "    </tr>\n",
       "    <tr>\n",
       "      <th>1</th>\n",
       "      <td>96d74cb729</td>\n",
       "      <td>Shanghai is also really exciting (precisely -...</td>\n",
       "      <td>positive</td>\n",
       "    </tr>\n",
       "    <tr>\n",
       "      <th>2</th>\n",
       "      <td>eee518ae67</td>\n",
       "      <td>Recession hit Veronique Branquinho, she has to...</td>\n",
       "      <td>negative</td>\n",
       "    </tr>\n",
       "    <tr>\n",
       "      <th>3</th>\n",
       "      <td>01082688c6</td>\n",
       "      <td>happy bday!</td>\n",
       "      <td>positive</td>\n",
       "    </tr>\n",
       "    <tr>\n",
       "      <th>4</th>\n",
       "      <td>33987a8ee5</td>\n",
       "      <td>http://twitpic.com/4w75p - I like it!!</td>\n",
       "      <td>positive</td>\n",
       "    </tr>\n",
       "    <tr>\n",
       "      <th>...</th>\n",
       "      <td>...</td>\n",
       "      <td>...</td>\n",
       "      <td>...</td>\n",
       "    </tr>\n",
       "    <tr>\n",
       "      <th>3529</th>\n",
       "      <td>e5f0e6ef4b</td>\n",
       "      <td>its at 3 am, im very tired but i can`t sleep  ...</td>\n",
       "      <td>negative</td>\n",
       "    </tr>\n",
       "    <tr>\n",
       "      <th>3530</th>\n",
       "      <td>416863ce47</td>\n",
       "      <td>All alone in this old house again.  Thanks for...</td>\n",
       "      <td>positive</td>\n",
       "    </tr>\n",
       "    <tr>\n",
       "      <th>3531</th>\n",
       "      <td>6332da480c</td>\n",
       "      <td>I know what you mean. My little dog is sinkin...</td>\n",
       "      <td>negative</td>\n",
       "    </tr>\n",
       "    <tr>\n",
       "      <th>3532</th>\n",
       "      <td>df1baec676</td>\n",
       "      <td>_sutra what is your next youtube video gonna b...</td>\n",
       "      <td>positive</td>\n",
       "    </tr>\n",
       "    <tr>\n",
       "      <th>3533</th>\n",
       "      <td>469e15c5a8</td>\n",
       "      <td>http://twitpic.com/4woj2 - omgssh  ang cute n...</td>\n",
       "      <td>positive</td>\n",
       "    </tr>\n",
       "  </tbody>\n",
       "</table>\n",
       "<p>3534 rows × 3 columns</p>\n",
       "</div>"
      ],
      "text/plain": [
       "          textID                                               text sentiment\n",
       "0     f87dea47db  Last session of the day  http://twitpic.com/67ezh   neutral\n",
       "1     96d74cb729   Shanghai is also really exciting (precisely -...  positive\n",
       "2     eee518ae67  Recession hit Veronique Branquinho, she has to...  negative\n",
       "3     01082688c6                                        happy bday!  positive\n",
       "4     33987a8ee5             http://twitpic.com/4w75p - I like it!!  positive\n",
       "...          ...                                                ...       ...\n",
       "3529  e5f0e6ef4b  its at 3 am, im very tired but i can`t sleep  ...  negative\n",
       "3530  416863ce47  All alone in this old house again.  Thanks for...  positive\n",
       "3531  6332da480c   I know what you mean. My little dog is sinkin...  negative\n",
       "3532  df1baec676  _sutra what is your next youtube video gonna b...  positive\n",
       "3533  469e15c5a8   http://twitpic.com/4woj2 - omgssh  ang cute n...  positive\n",
       "\n",
       "[3534 rows x 3 columns]"
      ]
     },
     "execution_count": 21,
     "metadata": {},
     "output_type": "execute_result"
    }
   ],
   "source": [
    "df_test"
   ]
  },
  {
   "cell_type": "code",
   "execution_count": 22,
   "id": "46c30330",
   "metadata": {
    "execution": {
     "iopub.execute_input": "2022-12-25T16:58:45.668506Z",
     "iopub.status.busy": "2022-12-25T16:58:45.667730Z",
     "iopub.status.idle": "2022-12-25T16:58:45.685794Z",
     "shell.execute_reply": "2022-12-25T16:58:45.684700Z"
    },
    "papermill": {
     "duration": 0.027949,
     "end_time": "2022-12-25T16:58:45.687717",
     "exception": false,
     "start_time": "2022-12-25T16:58:45.659768",
     "status": "completed"
    },
    "tags": []
   },
   "outputs": [
    {
     "name": "stdout",
     "output_type": "stream",
     "text": [
      "X_train shape: (19236,)\n",
      "y_train shape: (19236, 3)\n",
      "X_test shape : (4122,)\n",
      "y_test shape : (4122,)\n",
      "X_val shape  : (4122,)\n",
      "y val shape  : (4122, 3)\n"
     ]
    }
   ],
   "source": [
    "x_train, x_test, y_train, y_test = train_test_split(df['text'].values, df['sentiment'].values,stratify=df['sentiment'].values, test_size=0.3,random_state=1)\n",
    "y_train = to_categorical(y_train)\n",
    "\n",
    "# x_test, x_val , y_test, y_val = train_test_split(x_test, y_test,stratify=y_test, test_size=0.5,random_state=1)\n",
    "x_val = x_test[0:4122]\n",
    "y_val = to_categorical(y_test[0:4122])\n",
    "x_test = x_test[4122:]\n",
    "y_test = y_test[4122:]\n",
    "\n",
    "print(\"X_train shape: {}\".format(x_train.shape))\n",
    "print(\"y_train shape: {}\".format(y_train.shape))\n",
    "print(\"X_test shape : {}\".format(x_test.shape))\n",
    "print(\"y_test shape : {}\".format(y_test.shape))\n",
    "print(\"X_val shape  : {}\".format(x_val.shape))\n",
    "print(\"y val shape  : {}\".format(y_val.shape))\n"
   ]
  },
  {
   "cell_type": "markdown",
   "id": "24d40fa4",
   "metadata": {
    "papermill": {
     "duration": 0.007223,
     "end_time": "2022-12-25T16:58:45.702168",
     "exception": false,
     "start_time": "2022-12-25T16:58:45.694945",
     "status": "completed"
    },
    "tags": []
   },
   "source": [
    "### Tokenized data\n",
    "Our input data is text and we can't feed it directly to our models. So, we'll define a Tokenizer to convert our text input data into token indices. This means that every token (we can decide what a token is char, word, sub-word, etc.) is mapped to a unique index which allows us to represent our text as an array of indices."
   ]
  },
  {
   "cell_type": "code",
   "execution_count": 23,
   "id": "48685af0",
   "metadata": {
    "execution": {
     "iopub.execute_input": "2022-12-25T16:58:45.718283Z",
     "iopub.status.busy": "2022-12-25T16:58:45.717551Z",
     "iopub.status.idle": "2022-12-25T16:58:46.609348Z",
     "shell.execute_reply": "2022-12-25T16:58:46.608385Z"
    },
    "papermill": {
     "duration": 0.902267,
     "end_time": "2022-12-25T16:58:46.611720",
     "exception": false,
     "start_time": "2022-12-25T16:58:45.709453",
     "status": "completed"
    },
    "tags": []
   },
   "outputs": [],
   "source": [
    "tokenizer = Tokenizer(num_words=5000)\n",
    "tokenizer.fit_on_texts(df.text.values)\n",
    "\n",
    "X_train = tokenizer.texts_to_sequences(x_train)\n",
    "X_val = tokenizer.texts_to_sequences(x_val)\n",
    "X_test = tokenizer.texts_to_sequences(x_test)\n",
    "\n",
    "vocab_size = len(tokenizer.word_index) + 1\n",
    "\n",
    "maxlen = 100\n",
    "\n",
    "#  All sequences in a list have the same length no more than 100\n",
    "X_train = pad_sequences(X_train, padding='pre', maxlen=maxlen) \n",
    "X_val = pad_sequences(X_val, padding='pre', maxlen=maxlen)\n",
    "X_test = pad_sequences(X_test, padding='pre', maxlen=maxlen)\n",
    "\n",
    "word_index = tokenizer.word_index"
   ]
  },
  {
   "cell_type": "code",
   "execution_count": 24,
   "id": "2f64f3ed",
   "metadata": {
    "execution": {
     "iopub.execute_input": "2022-12-25T16:58:46.628343Z",
     "iopub.status.busy": "2022-12-25T16:58:46.628026Z",
     "iopub.status.idle": "2022-12-25T16:58:46.633057Z",
     "shell.execute_reply": "2022-12-25T16:58:46.632027Z"
    },
    "papermill": {
     "duration": 0.01567,
     "end_time": "2022-12-25T16:58:46.635312",
     "exception": false,
     "start_time": "2022-12-25T16:58:46.619642",
     "status": "completed"
    },
    "tags": []
   },
   "outputs": [],
   "source": [
    "activation = [\"tanh\", \"selu\", \"elu\" ]\n",
    "optimizer = [\"adam\", \"SGD\", \"RMSprop\", \"Adadelta\"]\n",
    "epochs = [5,10,15,20]\n",
    "batchsize = [8,16,32,64,128]"
   ]
  },
  {
   "cell_type": "code",
   "execution_count": 25,
   "id": "5fc2581d",
   "metadata": {
    "execution": {
     "iopub.execute_input": "2022-12-25T16:58:46.651421Z",
     "iopub.status.busy": "2022-12-25T16:58:46.651158Z",
     "iopub.status.idle": "2022-12-25T16:58:46.657318Z",
     "shell.execute_reply": "2022-12-25T16:58:46.656437Z"
    },
    "papermill": {
     "duration": 0.016492,
     "end_time": "2022-12-25T16:58:46.659362",
     "exception": false,
     "start_time": "2022-12-25T16:58:46.642870",
     "status": "completed"
    },
    "tags": []
   },
   "outputs": [],
   "source": [
    "def rnn(activation,optimizer,epochs,batchsize):\n",
    "\n",
    "\n",
    "    model = Sequential()\n",
    "    model.add(Embedding(input_dim=vocab_size, output_dim=100, input_length=input_length))\n",
    "    model.add(layers.SimpleRNN(32)) ## 16, 32, 64, 128\n",
    "    model.add(Dense(3,activation='softmax'))\n",
    "    model.compile(optimizer=optimizer, loss='categorical_crossentropy', metrics=['accuracy'])\n",
    "    history = model.fit(X_train, y_train, epochs=epochs, verbose=0, validation_data=(X_val, y_val), batch_size=batchsize)\n",
    "  \n",
    "    return history, model\n",
    "     \n",
    "     "
   ]
  },
  {
   "cell_type": "code",
   "execution_count": 26,
   "id": "3ac5c81d",
   "metadata": {
    "execution": {
     "iopub.execute_input": "2022-12-25T16:58:46.675706Z",
     "iopub.status.busy": "2022-12-25T16:58:46.675048Z",
     "iopub.status.idle": "2022-12-25T21:11:37.678739Z",
     "shell.execute_reply": "2022-12-25T21:11:37.677902Z"
    },
    "papermill": {
     "duration": 15171.013928,
     "end_time": "2022-12-25T21:11:37.680728",
     "exception": false,
     "start_time": "2022-12-25T16:58:46.666800",
     "status": "completed"
    },
    "tags": []
   },
   "outputs": [
    {
     "name": "stderr",
     "output_type": "stream",
     "text": [
      "2022-12-25 16:58:46.714502: I tensorflow/stream_executor/cuda/cuda_gpu_executor.cc:937] successful NUMA node read from SysFS had negative value (-1), but there must be at least one NUMA node, so returning NUMA node zero\n",
      "2022-12-25 16:58:46.715818: I tensorflow/stream_executor/cuda/cuda_gpu_executor.cc:937] successful NUMA node read from SysFS had negative value (-1), but there must be at least one NUMA node, so returning NUMA node zero\n",
      "2022-12-25 16:58:46.716501: I tensorflow/stream_executor/cuda/cuda_gpu_executor.cc:937] successful NUMA node read from SysFS had negative value (-1), but there must be at least one NUMA node, so returning NUMA node zero\n",
      "2022-12-25 16:58:46.717306: I tensorflow/core/platform/cpu_feature_guard.cc:142] This TensorFlow binary is optimized with oneAPI Deep Neural Network Library (oneDNN) to use the following CPU instructions in performance-critical operations:  AVX2 AVX512F FMA\n",
      "To enable them in other operations, rebuild TensorFlow with the appropriate compiler flags.\n",
      "2022-12-25 16:58:46.717578: I tensorflow/stream_executor/cuda/cuda_gpu_executor.cc:937] successful NUMA node read from SysFS had negative value (-1), but there must be at least one NUMA node, so returning NUMA node zero\n",
      "2022-12-25 16:58:46.718282: I tensorflow/stream_executor/cuda/cuda_gpu_executor.cc:937] successful NUMA node read from SysFS had negative value (-1), but there must be at least one NUMA node, so returning NUMA node zero\n",
      "2022-12-25 16:58:46.718907: I tensorflow/stream_executor/cuda/cuda_gpu_executor.cc:937] successful NUMA node read from SysFS had negative value (-1), but there must be at least one NUMA node, so returning NUMA node zero\n",
      "2022-12-25 16:58:54.702717: I tensorflow/stream_executor/cuda/cuda_gpu_executor.cc:937] successful NUMA node read from SysFS had negative value (-1), but there must be at least one NUMA node, so returning NUMA node zero\n",
      "2022-12-25 16:58:54.703923: I tensorflow/stream_executor/cuda/cuda_gpu_executor.cc:937] successful NUMA node read from SysFS had negative value (-1), but there must be at least one NUMA node, so returning NUMA node zero\n",
      "2022-12-25 16:58:54.704863: I tensorflow/stream_executor/cuda/cuda_gpu_executor.cc:937] successful NUMA node read from SysFS had negative value (-1), but there must be at least one NUMA node, so returning NUMA node zero\n",
      "2022-12-25 16:58:54.705701: I tensorflow/core/common_runtime/gpu/gpu_device.cc:1510] Created device /job:localhost/replica:0/task:0/device:GPU:0 with 14651 MB memory:  -> device: 0, name: Tesla P100-PCIE-16GB, pci bus id: 0000:00:04.0, compute capability: 6.0\n",
      "2022-12-25 16:58:55.388663: I tensorflow/compiler/mlir/mlir_graph_optimization_pass.cc:185] None of the MLIR Optimization Passes are enabled (registered 2)\n"
     ]
    },
    {
     "name": "stdout",
     "output_type": "stream",
     "text": [
      "129/129 [==============================] - 1s 8ms/step - loss: 1.3717 - accuracy: 0.6206\n",
      "129/129 [==============================] - 1s 10ms/step - loss: 1.2828 - accuracy: 0.6359\n",
      "129/129 [==============================] - 1s 9ms/step - loss: 0.9195 - accuracy: 0.6674\n",
      "best activation function is  elu\n",
      "129/129 [==============================] - 1s 8ms/step - loss: 1.2713 - accuracy: 0.6291\n",
      "129/129 [==============================] - 1s 9ms/step - loss: 0.9546 - accuracy: 0.5539\n",
      "129/129 [==============================] - 1s 9ms/step - loss: 1.1307 - accuracy: 0.6143\n",
      "129/129 [==============================] - 1s 8ms/step - loss: 1.0834 - accuracy: 0.4037\n",
      "best optimizer is  adam\n",
      "602/602 [==============================] - 5s 9ms/step - loss: 0.1457 - accuracy: 0.9494\n",
      "129/129 [==============================] - 1s 8ms/step - loss: 1.4313 - accuracy: 0.6014\n",
      "602/602 [==============================] - 5s 8ms/step - loss: 0.1037 - accuracy: 0.9683\n",
      "129/129 [==============================] - 1s 8ms/step - loss: 1.6070 - accuracy: 0.6114\n",
      "602/602 [==============================] - 5s 9ms/step - loss: 0.0431 - accuracy: 0.9865\n",
      "129/129 [==============================] - 1s 8ms/step - loss: 2.2213 - accuracy: 0.5927\n",
      "602/602 [==============================] - 5s 8ms/step - loss: 0.0218 - accuracy: 0.9934\n",
      "129/129 [==============================] - 1s 8ms/step - loss: 2.4461 - accuracy: 0.6024\n",
      "best epoch is  10\n",
      "602/602 [==============================] - 5s 8ms/step - loss: 0.1099 - accuracy: 0.9648\n",
      "129/129 [==============================] - 1s 8ms/step - loss: 1.5729 - accuracy: 0.6206\n",
      "602/602 [==============================] - 5s 8ms/step - loss: 0.0462 - accuracy: 0.9863\n",
      "129/129 [==============================] - 1s 8ms/step - loss: 1.9002 - accuracy: 0.6223\n",
      "602/602 [==============================] - 5s 9ms/step - loss: 0.0452 - accuracy: 0.9861\n",
      "129/129 [==============================] - 1s 8ms/step - loss: 2.0969 - accuracy: 0.5934\n",
      "602/602 [==============================] - 5s 8ms/step - loss: 0.0336 - accuracy: 0.9906\n",
      "129/129 [==============================] - 1s 8ms/step - loss: 2.0557 - accuracy: 0.6067\n",
      "602/602 [==============================] - 5s 9ms/step - loss: 0.0279 - accuracy: 0.9936\n",
      "129/129 [==============================] - 1s 8ms/step - loss: 1.9680 - accuracy: 0.5983\n",
      "best batchsize is  16\n",
      "test accuracy score =  0.6132945172246482\n",
      "time taken is  1100.7057538032532\n"
     ]
    },
    {
     "data": {
      "image/png": "[encoded data removed]",
      "text/plain": [
       "<Figure size 432x288 with 1 Axes>"
      ]
     },
     "metadata": {
      "needs_background": "light"
     },
     "output_type": "display_data"
    },
    {
     "data": {
      "image/png": "[encoded data removed]",
      "text/plain": [
       "<Figure size 432x288 with 1 Axes>"
      ]
     },
     "metadata": {
      "needs_background": "light"
     },
     "output_type": "display_data"
    }
   ],
   "source": [
    "def select_hyperparameters():\n",
    "    \"\"\"\n",
    "    function to select the best activation function, optimizer, epochs, and batch size\n",
    "    \"\"\"\n",
    "    # dictionary to store the validation accuracy of different activation functions\n",
    "    sel_activation = {}\n",
    "    # iterate over different activation functions\n",
    "    for i in activation:\n",
    "        # build and train the model with current activation function\n",
    "        history, model = rnn(i, \"adam\", 5, 16)\n",
    "        # evaluate the model on the validation data\n",
    "        val_acc = {i:model.evaluate(X_val,y_val)[1]}\n",
    "        sel_activation.update(val_acc )\n",
    "        keras.backend.clear_session()\n",
    "    # select the best activation function \n",
    "    sel_activation_final = max(sel_activation, key=sel_activation.get)\n",
    "    print(\"best activation function is \",sel_activation_final)\n",
    "    # dictionary to store the validation accuracy of different optimizers\n",
    "    sel_optimizer = {}\n",
    "    for i in optimizer:# iterate over different optimizers\n",
    "        # build and train the model with the current optimizer\n",
    "        history, model = rnn(sel_activation_final,i,5,16)\n",
    "        # evaluate the model on the validation data\n",
    "        val_acc  = {i:model.evaluate(X_val,y_val)[1]}\n",
    "        sel_optimizer.update(val_acc)\n",
    "        keras.backend.clear_session()\n",
    "    # select the best optimizer\n",
    "    sel_optimizer_final = max(sel_optimizer, key=sel_optimizer.get)\n",
    "    print(\"best optimizer is \",sel_optimizer_final)\n",
    "\n",
    "    acc_train_epoch = {}\n",
    "    acc_val_epoch = {}\n",
    "    for i in epochs:# iterate over different number of epochs\n",
    "        history, model = rnn(sel_activation_final,sel_optimizer_final,i,16)\n",
    "        temp_train = {i:model.evaluate(X_train,y_train)[1]}\n",
    "        temp_val = {i:model.evaluate(X_val,y_val)[1]}\n",
    "        acc_train_epoch.update(temp_train)\n",
    "        acc_val_epoch.update(temp_val)\n",
    "        keras.backend.clear_session()\n",
    "    # select the best number of epochs\n",
    "    sel_epoch_final = max(acc_val_epoch, key=acc_val_epoch.get)\n",
    "    print(\"best epoch is \",sel_epoch_final)\n",
    "\n",
    "    acc_train_batch = {}\n",
    "    acc_val_batch = {}\n",
    "    for i in batchsize:\n",
    "        history, model = rnn(sel_activation_final,sel_optimizer_final,sel_epoch_final,i)\n",
    "        temp_train = {i:model.evaluate(X_train,y_train)[1]}\n",
    "        temp_val = {i:model.evaluate(X_val,y_val)[1]}\n",
    "        acc_train_batch.update(temp_train)\n",
    "        acc_val_batch.update(temp_val)\n",
    "        keras.backend.clear_session()\n",
    "    # select the best batch size\n",
    "    sel_batch_final = max(acc_val_batch, key=acc_val_batch.get)\n",
    "    print(\"best batchsize is \",sel_batch_final)\n",
    "\n",
    "    df_batch_train = pd.DataFrame(list(acc_train_batch.items()), columns=['Batchsize', 'Accuracy score'])\n",
    "    df_batch_val = pd.DataFrame(list(acc_val_batch.items()), columns=['Batchsize', 'Accuracy score'])\n",
    "\n",
    "    df_batch_val.Batchsize = df_batch_val.Batchsize.map(lambda x:str(x))\n",
    "    df_batch_train.Batchsize = df_batch_train.Batchsize.map(lambda x:str(x))\n",
    "\n",
    "    plt.figure()\n",
    "    plt.plot(df_batch_train.iloc[:,0],df_batch_train.iloc[:,1],label=\"train\", marker='o')\n",
    "    plt.plot(df_batch_val.iloc[:,0],df_batch_val.iloc[:,1],label = \"val\", marker='o')\n",
    "    plt.title(\"Accuracy score vs Batch size\")\n",
    "    plt.ylabel(\"Accuracy score\")\n",
    "    plt.xlabel(\"Batch size\")\n",
    "    plt.legend()\n",
    "\n",
    "    #final model\n",
    "    final_model, final_history = rnn(sel_activation_final,sel_optimizer_final,sel_epoch_final,sel_batch_final)\n",
    "\n",
    "\n",
    "\n",
    "# 5. best model\n",
    "t0 = time()\n",
    "select_hyperparameters()\n",
    "pred = np.argmax(model.predict(X_test), axis=-1)\n",
    "print(\"test accuracy score = \",accuracy_score(y_pred=pred, y_true=y_test))\n",
    "t1 = time()\n",
    "print(\"time taken is \", t1-t0)"
   ]
  },
  {
   "cell_type": "code",
   "execution_count": 27,
   "id": "d20d1e47",
   "metadata": {
    "execution": {
     "iopub.execute_input": "2022-12-25T21:11:37.820663Z",
     "iopub.status.busy": "2022-12-25T21:11:37.819988Z",
     "iopub.status.idle": "2022-12-25T21:11:37.837091Z",
     "shell.execute_reply": "2022-12-25T21:11:37.836238Z"
    },
    "papermill": {
     "duration": 0.088658,
     "end_time": "2022-12-25T21:11:37.839072",
     "exception": false,
     "start_time": "2022-12-25T21:11:37.750414",
     "status": "completed"
    },
    "tags": []
   },
   "outputs": [],
   "source": [
    "# selected_text\n",
    "df = df_train\n",
    "df['text'] = df['selected_text'].map(lambda x:str(x))\n",
    "df['sentiment'] = df_train['sentiment'].astype(\"category\")\n",
    "df['sentiment'] = df_train['sentiment'].cat.codes"
   ]
  },
  {
   "cell_type": "code",
   "execution_count": 28,
   "id": "ef736028",
   "metadata": {
    "execution": {
     "iopub.execute_input": "2022-12-25T21:11:37.981684Z",
     "iopub.status.busy": "2022-12-25T21:11:37.981299Z",
     "iopub.status.idle": "2022-12-26T00:45:15.512033Z",
     "shell.execute_reply": "2022-12-26T00:45:15.511156Z"
    },
    "papermill": {
     "duration": 12817.634357,
     "end_time": "2022-12-26T00:45:15.543818",
     "exception": false,
     "start_time": "2022-12-25T21:11:37.909461",
     "status": "completed"
    },
    "tags": []
   },
   "outputs": [
    {
     "name": "stdout",
     "output_type": "stream",
     "text": [
      "129/129 [==============================] - 1s 9ms/step - loss: 1.2674 - accuracy: 0.6376\n",
      "129/129 [==============================] - 1s 9ms/step - loss: 1.3223 - accuracy: 0.6230\n",
      "129/129 [==============================] - 1s 10ms/step - loss: 1.3101 - accuracy: 0.6349\n",
      "best activation function is  tanh\n",
      "129/129 [==============================] - 1s 9ms/step - loss: 1.2590 - accuracy: 0.6211\n",
      "129/129 [==============================] - 1s 9ms/step - loss: 0.9839 - accuracy: 0.4711\n",
      "129/129 [==============================] - 1s 9ms/step - loss: 0.9395 - accuracy: 0.6477\n",
      "129/129 [==============================] - 1s 9ms/step - loss: 1.0852 - accuracy: 0.3964\n",
      "best optimizer is  RMSprop\n",
      "602/602 [==============================] - 5s 9ms/step - loss: 0.3222 - accuracy: 0.8825\n",
      "129/129 [==============================] - 1s 8ms/step - loss: 0.9101 - accuracy: 0.6788\n",
      "602/602 [==============================] - 6s 10ms/step - loss: 0.1138 - accuracy: 0.9622\n",
      "129/129 [==============================] - 1s 9ms/step - loss: 1.4250 - accuracy: 0.6077\n",
      "602/602 [==============================] - 5s 9ms/step - loss: 0.0869 - accuracy: 0.9718\n",
      "129/129 [==============================] - 1s 8ms/step - loss: 1.7533 - accuracy: 0.5951\n",
      "602/602 [==============================] - 5s 9ms/step - loss: 0.0562 - accuracy: 0.9823\n",
      "129/129 [==============================] - 1s 11ms/step - loss: 2.0336 - accuracy: 0.5694\n",
      "best epoch is  5\n",
      "602/602 [==============================] - 5s 8ms/step - loss: 0.4654 - accuracy: 0.8250\n",
      "129/129 [==============================] - 1s 9ms/step - loss: 0.7813 - accuracy: 0.6880\n",
      "602/602 [==============================] - 5s 8ms/step - loss: 0.2768 - accuracy: 0.9051\n",
      "129/129 [==============================] - 1s 9ms/step - loss: 0.9660 - accuracy: 0.6417\n",
      "602/602 [==============================] - 5s 8ms/step - loss: 0.2419 - accuracy: 0.9224\n",
      "129/129 [==============================] - 1s 8ms/step - loss: 1.0488 - accuracy: 0.6181\n",
      "602/602 [==============================] - 5s 9ms/step - loss: 0.2323 - accuracy: 0.9205\n",
      "129/129 [==============================] - 1s 9ms/step - loss: 1.1452 - accuracy: 0.6063\n",
      "602/602 [==============================] - 5s 9ms/step - loss: 0.2025 - accuracy: 0.9391\n",
      "129/129 [==============================] - 1s 10ms/step - loss: 1.0685 - accuracy: 0.6184\n",
      "best batchsize is  8\n",
      "test accuracy score =  0.6579330422125182\n",
      "time taken is  1127.5404117107391\n"
     ]
    },
    {
     "data": {
      "image/png": "[encoded data removed]",
      "text/plain": [
       "<Figure size 432x288 with 1 Axes>"
      ]
     },
     "metadata": {
      "needs_background": "light"
     },
     "output_type": "display_data"
    },
    {
     "data": {
      "image/png": "[encoded data removed]",
      "text/plain": [
       "<Figure size 432x288 with 1 Axes>"
      ]
     },
     "metadata": {
      "needs_background": "light"
     },
     "output_type": "display_data"
    }
   ],
   "source": [
    "def select_hyperparameters():\n",
    "    \"\"\"\n",
    "    function to select the best activation function, optimizer, epochs, and batch size\n",
    "    \"\"\"\n",
    "    # dictionary to store the validation accuracy of different activation functions\n",
    "    sel_activation = {}\n",
    "    # iterate over different activation functions\n",
    "    for i in activation:\n",
    "        # build and train the model with current activation function\n",
    "        history, model = rnn(i, \"adam\", 5, 16)\n",
    "        # evaluate the model on the validation data\n",
    "        val_acc = {i:model.evaluate(X_val,y_val)[1]}\n",
    "        sel_activation.update(val_acc )\n",
    "        keras.backend.clear_session()\n",
    "    # select the best activation function \n",
    "    sel_activation_final = max(sel_activation, key=sel_activation.get)\n",
    "    print(\"best activation function is \",sel_activation_final)\n",
    "    # dictionary to store the validation accuracy of different optimizers\n",
    "    sel_optimizer = {}\n",
    "    for i in optimizer:# iterate over different optimizers\n",
    "        # build and train the model with the current optimizer\n",
    "        history, model = rnn(sel_activation_final,i,5,16)\n",
    "        # evaluate the model on the validation data\n",
    "        val_acc  = {i:model.evaluate(X_val,y_val)[1]}\n",
    "        sel_optimizer.update(val_acc)\n",
    "        keras.backend.clear_session()\n",
    "    # select the best optimizer\n",
    "    sel_optimizer_final = max(sel_optimizer, key=sel_optimizer.get)\n",
    "    print(\"best optimizer is \",sel_optimizer_final)\n",
    "\n",
    "    acc_train_epoch = {}\n",
    "    acc_val_epoch = {}\n",
    "    for i in epochs:# iterate over different number of epochs\n",
    "        history, model = rnn(sel_activation_final,sel_optimizer_final,i,16)\n",
    "        temp_train = {i:model.evaluate(X_train,y_train)[1]}\n",
    "        temp_val = {i:model.evaluate(X_val,y_val)[1]}\n",
    "        acc_train_epoch.update(temp_train)\n",
    "        acc_val_epoch.update(temp_val)\n",
    "        keras.backend.clear_session()\n",
    "    # select the best number of epochs\n",
    "    sel_epoch_final = max(acc_val_epoch, key=acc_val_epoch.get)\n",
    "    print(\"best epoch is \",sel_epoch_final)\n",
    "\n",
    "    acc_train_batch = {}\n",
    "    acc_val_batch = {}\n",
    "    for i in batchsize:\n",
    "        history, model = rnn(sel_activation_final,sel_optimizer_final,sel_epoch_final,i)\n",
    "        temp_train = {i:model.evaluate(X_train,y_train)[1]}\n",
    "        temp_val = {i:model.evaluate(X_val,y_val)[1]}\n",
    "        acc_train_batch.update(temp_train)\n",
    "        acc_val_batch.update(temp_val)\n",
    "        keras.backend.clear_session()\n",
    "    # select the best batch size\n",
    "    sel_batch_final = max(acc_val_batch, key=acc_val_batch.get)\n",
    "    print(\"best batchsize is \",sel_batch_final)\n",
    "\n",
    "    df_batch_train = pd.DataFrame(list(acc_train_batch.items()), columns=['Batchsize', 'Accuracy score'])\n",
    "    df_batch_val = pd.DataFrame(list(acc_val_batch.items()), columns=['Batchsize', 'Accuracy score'])\n",
    "\n",
    "    df_batch_val.Batchsize = df_batch_val.Batchsize.map(lambda x:str(x))\n",
    "    df_batch_train.Batchsize = df_batch_train.Batchsize.map(lambda x:str(x))\n",
    "\n",
    "    plt.figure()\n",
    "    plt.plot(df_batch_train.iloc[:,0],df_batch_train.iloc[:,1],label=\"train\", marker='o')\n",
    "    plt.plot(df_batch_val.iloc[:,0],df_batch_val.iloc[:,1],label = \"val\", marker='o')\n",
    "    plt.title(\"Accuracy score vs Batch size\")\n",
    "    plt.ylabel(\"Accuracy score\")\n",
    "    plt.xlabel(\"Batch size\")\n",
    "    plt.legend()\n",
    "\n",
    "    #final model\n",
    "    final_model, final_history = rnn(sel_activation_final,sel_optimizer_final,sel_epoch_final,sel_batch_final)\n",
    "\n",
    "\n",
    "\n",
    "# 5. best model\n",
    "t0 = time()\n",
    "select_hyperparameters()\n",
    "pred = np.argmax(model.predict(X_test), axis=-1)\n",
    "print(\"test accuracy score = \",accuracy_score(y_pred=pred, y_true=y_test))\n",
    "t1 = time()\n",
    "print(\"time taken is \", t1-t0)"
   ]
  },
  {
   "cell_type": "code",
   "execution_count": null,
   "id": "3dcc0f12",
   "metadata": {
    "papermill": {
     "duration": 0.130694,
     "end_time": "2022-12-26T00:45:15.807562",
     "exception": false,
     "start_time": "2022-12-26T00:45:15.676868",
     "status": "completed"
    },
    "tags": []
   },
   "outputs": [],
   "source": []
  }
 ],
 "metadata": {
  "kernelspec": {
   "display_name": "Python 3",
   "language": "python",
   "name": "python3"
  },
  "language_info": {
   "codemirror_mode": {
    "name": "ipython",
    "version": 3
   },
   "file_extension": ".py",
   "mimetype": "text/x-python",
   "name": "python",
   "nbconvert_exporter": "python",
   "pygments_lexer": "ipython3",
   "version": "3.6.5"
  },
  "papermill": {
   "default_parameters": {},
   "duration": 28018.9237,
   "end_time": "2022-12-26T00:45:20.038086",
   "environment_variables": {},
   "exception": null,
   "input_path": "__notebook__.ipynb",
   "output_path": "__notebook__.ipynb",
   "parameters": {},
   "start_time": "2022-12-25T16:58:21.114386",
   "version": "2.3.4"
  }
 },
 "nbformat": 4,
 "nbformat_minor": 5
}
