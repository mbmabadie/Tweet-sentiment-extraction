{
 "cells": [
  {
   "cell_type": "code",
   "execution_count": 1,
   "id": "155e824b",
   "metadata": {
    "execution": {
     "iopub.execute_input": "2023-01-02T21:45:57.423854Z",
     "iopub.status.busy": "2023-01-02T21:45:57.422982Z",
     "iopub.status.idle": "2023-01-02T21:45:58.641899Z",
     "shell.execute_reply": "2023-01-02T21:45:58.640937Z"
    },
    "papermill": {
     "duration": 1.233363,
     "end_time": "2023-01-02T21:45:58.644496",
     "exception": false,
     "start_time": "2023-01-02T21:45:57.411133",
     "status": "completed"
    },
    "tags": []
   },
   "outputs": [],
   "source": [
    "import seaborn as sns\n",
    "import pandas as pd\n",
    "import numpy as np\n",
    "import matplotlib.pyplot as plt\n",
    "import seaborn as sns\n",
    "import os\n",
    "from sklearn.model_selection import train_test_split\n"
   ]
  },
  {
   "cell_type": "code",
   "execution_count": 2,
   "id": "f7fcc3a6",
   "metadata": {
    "execution": {
     "iopub.execute_input": "2023-01-02T21:45:58.664123Z",
     "iopub.status.busy": "2023-01-02T21:45:58.663491Z",
     "iopub.status.idle": "2023-01-02T21:46:10.883918Z",
     "shell.execute_reply": "2023-01-02T21:46:10.882606Z"
    },
    "papermill": {
     "duration": 12.234106,
     "end_time": "2023-01-02T21:46:10.887383",
     "exception": false,
     "start_time": "2023-01-02T21:45:58.653277",
     "status": "completed"
    },
    "tags": []
   },
   "outputs": [
    {
     "name": "stderr",
     "output_type": "stream",
     "text": [
      "/opt/conda/lib/python3.7/site-packages/geopandas/_compat.py:115: UserWarning: The Shapely GEOS version (3.9.1-CAPI-1.14.2) is incompatible with the GEOS version PyGEOS was compiled with (3.10.3-CAPI-1.16.1). Conversions between both will be slow.\n",
      "  shapely_geos_version, geos_capi_version_string\n"
     ]
    }
   ],
   "source": [
    "import plotly.figure_factory as ff\n",
    "import re\n",
    "import string\n",
    "from collections import Counter\n",
    "import plotly.express as px\n",
    "import spacy"
   ]
  },
  {
   "cell_type": "code",
   "execution_count": 3,
   "id": "ffa7a4bb",
   "metadata": {
    "execution": {
     "iopub.execute_input": "2023-01-02T21:46:10.908150Z",
     "iopub.status.busy": "2023-01-02T21:46:10.907067Z",
     "iopub.status.idle": "2023-01-02T21:46:11.444510Z",
     "shell.execute_reply": "2023-01-02T21:46:11.443245Z"
    },
    "papermill": {
     "duration": 0.550587,
     "end_time": "2023-01-02T21:46:11.447378",
     "exception": false,
     "start_time": "2023-01-02T21:46:10.896791",
     "status": "completed"
    },
    "tags": []
   },
   "outputs": [],
   "source": [
    "import nltk\n",
    "from nltk.tokenize import RegexpTokenizer\n",
    "from nltk.stem import WordNetLemmatizer\n",
    "from nltk.corpus import stopwords\n",
    "import string\n",
    "import re"
   ]
  },
  {
   "cell_type": "code",
   "execution_count": 4,
   "id": "85cf2db2",
   "metadata": {
    "execution": {
     "iopub.execute_input": "2023-01-02T21:46:11.467441Z",
     "iopub.status.busy": "2023-01-02T21:46:11.467019Z",
     "iopub.status.idle": "2023-01-02T21:46:11.662446Z",
     "shell.execute_reply": "2023-01-02T21:46:11.660877Z"
    },
    "papermill": {
     "duration": 0.209046,
     "end_time": "2023-01-02T21:46:11.665148",
     "exception": false,
     "start_time": "2023-01-02T21:46:11.456102",
     "status": "completed"
    },
    "tags": []
   },
   "outputs": [
    {
     "name": "stdout",
     "output_type": "stream",
     "text": [
      "(27481, 4)\n",
      "(3534, 3)\n"
     ]
    }
   ],
   "source": [
    "df_train = pd.read_csv('/kaggle/input/data-cnn/train.csv')\n",
    "df_test = pd.read_csv('/kaggle/input/data-cnn/test.csv')\n",
    "print(df_train.shape)\n",
    "print(df_test.shape)"
   ]
  },
  {
   "cell_type": "code",
   "execution_count": 5,
   "id": "6d878f01",
   "metadata": {
    "execution": {
     "iopub.execute_input": "2023-01-02T21:46:11.688467Z",
     "iopub.status.busy": "2023-01-02T21:46:11.687332Z",
     "iopub.status.idle": "2023-01-02T21:46:11.729946Z",
     "shell.execute_reply": "2023-01-02T21:46:11.728385Z"
    },
    "papermill": {
     "duration": 0.056231,
     "end_time": "2023-01-02T21:46:11.732855",
     "exception": false,
     "start_time": "2023-01-02T21:46:11.676624",
     "status": "completed"
    },
    "tags": []
   },
   "outputs": [
    {
     "name": "stdout",
     "output_type": "stream",
     "text": [
      "<class 'pandas.core.frame.DataFrame'>\n",
      "Int64Index: 27480 entries, 0 to 27480\n",
      "Data columns (total 4 columns):\n",
      " #   Column         Non-Null Count  Dtype \n",
      "---  ------         --------------  ----- \n",
      " 0   textID         27480 non-null  object\n",
      " 1   text           27480 non-null  object\n",
      " 2   selected_text  27480 non-null  object\n",
      " 3   sentiment      27480 non-null  object\n",
      "dtypes: object(4)\n",
      "memory usage: 1.0+ MB\n"
     ]
    }
   ],
   "source": [
    "df_train.dropna(inplace=True)\n",
    "df_train.info()"
   ]
  },
  {
   "cell_type": "code",
   "execution_count": 6,
   "id": "49c0227d",
   "metadata": {
    "execution": {
     "iopub.execute_input": "2023-01-02T21:46:11.752471Z",
     "iopub.status.busy": "2023-01-02T21:46:11.752053Z",
     "iopub.status.idle": "2023-01-02T21:46:11.766346Z",
     "shell.execute_reply": "2023-01-02T21:46:11.764901Z"
    },
    "papermill": {
     "duration": 0.027519,
     "end_time": "2023-01-02T21:46:11.769322",
     "exception": false,
     "start_time": "2023-01-02T21:46:11.741803",
     "status": "completed"
    },
    "tags": []
   },
   "outputs": [
    {
     "name": "stdout",
     "output_type": "stream",
     "text": [
      "<class 'pandas.core.frame.DataFrame'>\n",
      "RangeIndex: 3534 entries, 0 to 3533\n",
      "Data columns (total 3 columns):\n",
      " #   Column     Non-Null Count  Dtype \n",
      "---  ------     --------------  ----- \n",
      " 0   textID     3534 non-null   object\n",
      " 1   text       3534 non-null   object\n",
      " 2   sentiment  3534 non-null   object\n",
      "dtypes: object(3)\n",
      "memory usage: 83.0+ KB\n"
     ]
    }
   ],
   "source": [
    "df_test.info()"
   ]
  },
  {
   "cell_type": "markdown",
   "id": "752a5823",
   "metadata": {
    "papermill": {
     "duration": 0.008792,
     "end_time": "2023-01-02T21:46:11.787437",
     "exception": false,
     "start_time": "2023-01-02T21:46:11.778645",
     "status": "completed"
    },
    "tags": []
   },
   "source": [
    "# Data processing"
   ]
  },
  {
   "cell_type": "code",
   "execution_count": 7,
   "id": "8a749a28",
   "metadata": {
    "execution": {
     "iopub.execute_input": "2023-01-02T21:46:11.808480Z",
     "iopub.status.busy": "2023-01-02T21:46:11.807356Z",
     "iopub.status.idle": "2023-01-02T21:46:11.830205Z",
     "shell.execute_reply": "2023-01-02T21:46:11.828748Z"
    },
    "papermill": {
     "duration": 0.036262,
     "end_time": "2023-01-02T21:46:11.832982",
     "exception": false,
     "start_time": "2023-01-02T21:46:11.796720",
     "status": "completed"
    },
    "scrolled": true,
    "tags": []
   },
   "outputs": [
    {
     "data": {
      "text/html": [
       "<div>\n",
       "<style scoped>\n",
       "    .dataframe tbody tr th:only-of-type {\n",
       "        vertical-align: middle;\n",
       "    }\n",
       "\n",
       "    .dataframe tbody tr th {\n",
       "        vertical-align: top;\n",
       "    }\n",
       "\n",
       "    .dataframe thead th {\n",
       "        text-align: right;\n",
       "    }\n",
       "</style>\n",
       "<table border=\"1\" class=\"dataframe\">\n",
       "  <thead>\n",
       "    <tr style=\"text-align: right;\">\n",
       "      <th></th>\n",
       "      <th>textID</th>\n",
       "      <th>text</th>\n",
       "      <th>selected_text</th>\n",
       "      <th>sentiment</th>\n",
       "    </tr>\n",
       "  </thead>\n",
       "  <tbody>\n",
       "    <tr>\n",
       "      <th>0</th>\n",
       "      <td>cb774db0d1</td>\n",
       "      <td>I`d have responded, if I were going</td>\n",
       "      <td>I`d have responded, if I were going</td>\n",
       "      <td>neutral</td>\n",
       "    </tr>\n",
       "    <tr>\n",
       "      <th>1</th>\n",
       "      <td>549e992a42</td>\n",
       "      <td>Sooo SAD I will miss you here in San Diego!!!</td>\n",
       "      <td>Sooo SAD</td>\n",
       "      <td>negative</td>\n",
       "    </tr>\n",
       "    <tr>\n",
       "      <th>2</th>\n",
       "      <td>088c60f138</td>\n",
       "      <td>my boss is bullying me...</td>\n",
       "      <td>bullying me</td>\n",
       "      <td>negative</td>\n",
       "    </tr>\n",
       "    <tr>\n",
       "      <th>3</th>\n",
       "      <td>9642c003ef</td>\n",
       "      <td>what interview! leave me alone</td>\n",
       "      <td>leave me alone</td>\n",
       "      <td>negative</td>\n",
       "    </tr>\n",
       "    <tr>\n",
       "      <th>4</th>\n",
       "      <td>358bd9e861</td>\n",
       "      <td>Sons of ****, why couldn`t they put them on t...</td>\n",
       "      <td>Sons of ****,</td>\n",
       "      <td>negative</td>\n",
       "    </tr>\n",
       "    <tr>\n",
       "      <th>...</th>\n",
       "      <td>...</td>\n",
       "      <td>...</td>\n",
       "      <td>...</td>\n",
       "      <td>...</td>\n",
       "    </tr>\n",
       "    <tr>\n",
       "      <th>27476</th>\n",
       "      <td>4eac33d1c0</td>\n",
       "      <td>wish we could come see u on Denver  husband l...</td>\n",
       "      <td>d lost</td>\n",
       "      <td>negative</td>\n",
       "    </tr>\n",
       "    <tr>\n",
       "      <th>27477</th>\n",
       "      <td>4f4c4fc327</td>\n",
       "      <td>I`ve wondered about rake to.  The client has ...</td>\n",
       "      <td>, don`t force</td>\n",
       "      <td>negative</td>\n",
       "    </tr>\n",
       "    <tr>\n",
       "      <th>27478</th>\n",
       "      <td>f67aae2310</td>\n",
       "      <td>Yay good for both of you. Enjoy the break - y...</td>\n",
       "      <td>Yay good for both of you.</td>\n",
       "      <td>positive</td>\n",
       "    </tr>\n",
       "    <tr>\n",
       "      <th>27479</th>\n",
       "      <td>ed167662a5</td>\n",
       "      <td>But it was worth it  ****.</td>\n",
       "      <td>But it was worth it  ****.</td>\n",
       "      <td>positive</td>\n",
       "    </tr>\n",
       "    <tr>\n",
       "      <th>27480</th>\n",
       "      <td>6f7127d9d7</td>\n",
       "      <td>All this flirting going on - The ATG smiles...</td>\n",
       "      <td>All this flirting going on - The ATG smiles. Y...</td>\n",
       "      <td>neutral</td>\n",
       "    </tr>\n",
       "  </tbody>\n",
       "</table>\n",
       "<p>27480 rows × 4 columns</p>\n",
       "</div>"
      ],
      "text/plain": [
       "           textID                                               text  \\\n",
       "0      cb774db0d1                I`d have responded, if I were going   \n",
       "1      549e992a42      Sooo SAD I will miss you here in San Diego!!!   \n",
       "2      088c60f138                          my boss is bullying me...   \n",
       "3      9642c003ef                     what interview! leave me alone   \n",
       "4      358bd9e861   Sons of ****, why couldn`t they put them on t...   \n",
       "...           ...                                                ...   \n",
       "27476  4eac33d1c0   wish we could come see u on Denver  husband l...   \n",
       "27477  4f4c4fc327   I`ve wondered about rake to.  The client has ...   \n",
       "27478  f67aae2310   Yay good for both of you. Enjoy the break - y...   \n",
       "27479  ed167662a5                         But it was worth it  ****.   \n",
       "27480  6f7127d9d7     All this flirting going on - The ATG smiles...   \n",
       "\n",
       "                                           selected_text sentiment  \n",
       "0                    I`d have responded, if I were going   neutral  \n",
       "1                                               Sooo SAD  negative  \n",
       "2                                            bullying me  negative  \n",
       "3                                         leave me alone  negative  \n",
       "4                                          Sons of ****,  negative  \n",
       "...                                                  ...       ...  \n",
       "27476                                             d lost  negative  \n",
       "27477                                      , don`t force  negative  \n",
       "27478                          Yay good for both of you.  positive  \n",
       "27479                         But it was worth it  ****.  positive  \n",
       "27480  All this flirting going on - The ATG smiles. Y...   neutral  \n",
       "\n",
       "[27480 rows x 4 columns]"
      ]
     },
     "execution_count": 7,
     "metadata": {},
     "output_type": "execute_result"
    }
   ],
   "source": [
    "df_train"
   ]
  },
  {
   "cell_type": "markdown",
   "id": "8627a67a",
   "metadata": {
    "papermill": {
     "duration": 0.009194,
     "end_time": "2023-01-02T21:46:11.852081",
     "exception": false,
     "start_time": "2023-01-02T21:46:11.842887",
     "status": "completed"
    },
    "tags": []
   },
   "source": [
    "## Text"
   ]
  },
  {
   "cell_type": "code",
   "execution_count": 8,
   "id": "eadf6550",
   "metadata": {
    "execution": {
     "iopub.execute_input": "2023-01-02T21:46:11.872608Z",
     "iopub.status.busy": "2023-01-02T21:46:11.872162Z",
     "iopub.status.idle": "2023-01-02T21:46:11.892768Z",
     "shell.execute_reply": "2023-01-02T21:46:11.891636Z"
    },
    "papermill": {
     "duration": 0.033917,
     "end_time": "2023-01-02T21:46:11.895341",
     "exception": false,
     "start_time": "2023-01-02T21:46:11.861424",
     "status": "completed"
    },
    "tags": []
   },
   "outputs": [],
   "source": [
    "df_train['text']=df_train['text'].str.lower()"
   ]
  },
  {
   "cell_type": "code",
   "execution_count": 9,
   "id": "b810f86e",
   "metadata": {
    "execution": {
     "iopub.execute_input": "2023-01-02T21:46:11.916467Z",
     "iopub.status.busy": "2023-01-02T21:46:11.916042Z",
     "iopub.status.idle": "2023-01-02T21:46:12.101591Z",
     "shell.execute_reply": "2023-01-02T21:46:12.100370Z"
    },
    "papermill": {
     "duration": 0.199285,
     "end_time": "2023-01-02T21:46:12.104475",
     "exception": false,
     "start_time": "2023-01-02T21:46:11.905190",
     "status": "completed"
    },
    "tags": []
   },
   "outputs": [],
   "source": [
    "# Remove all urls\n",
    "urls = r'''(?i)\\b((?:https?://|www\\d{0,3}[.]|[a-z0-9.\\-]+[.][a-z]{2,4}/)(?:[^\\s()<>]+|\\(([^\\s()<>]+|(\\([^\\s()<>]+\\)))*\\))+(?:\\(([^\\s()<>]+|(\\([^\\s()<>]+\\)))*\\)|[^\\s`!()\\[\\]{};:'\".,<>?«»“”‘’]))'''\n",
    "df_train['text']=df_train['text'].map(lambda char:re.sub(urls, \"\", char))"
   ]
  },
  {
   "cell_type": "code",
   "execution_count": 10,
   "id": "cedf9ba9",
   "metadata": {
    "execution": {
     "iopub.execute_input": "2023-01-02T21:46:12.125048Z",
     "iopub.status.busy": "2023-01-02T21:46:12.124645Z",
     "iopub.status.idle": "2023-01-02T21:46:12.401354Z",
     "shell.execute_reply": "2023-01-02T21:46:12.400095Z"
    },
    "papermill": {
     "duration": 0.290359,
     "end_time": "2023-01-02T21:46:12.404195",
     "exception": false,
     "start_time": "2023-01-02T21:46:12.113836",
     "status": "completed"
    },
    "tags": []
   },
   "outputs": [],
   "source": [
    "# Remove all numbers\n",
    "df_train['text']=df_train['text'].map(lambda s:''.join([i for i in s if not i.isdigit()]))"
   ]
  },
  {
   "cell_type": "code",
   "execution_count": 11,
   "id": "59966075",
   "metadata": {
    "execution": {
     "iopub.execute_input": "2023-01-02T21:46:12.425080Z",
     "iopub.status.busy": "2023-01-02T21:46:12.424662Z",
     "iopub.status.idle": "2023-01-02T21:46:12.611226Z",
     "shell.execute_reply": "2023-01-02T21:46:12.609995Z"
    },
    "papermill": {
     "duration": 0.200397,
     "end_time": "2023-01-02T21:46:12.614128",
     "exception": false,
     "start_time": "2023-01-02T21:46:12.413731",
     "status": "completed"
    },
    "tags": []
   },
   "outputs": [],
   "source": [
    "df_train['text']=df_train['text'].map(lambda char:re.sub(r'^\\s*|\\s\\s*', ' ', char).strip())"
   ]
  },
  {
   "cell_type": "code",
   "execution_count": 12,
   "id": "95f9f9dd",
   "metadata": {
    "execution": {
     "iopub.execute_input": "2023-01-02T21:46:12.635883Z",
     "iopub.status.busy": "2023-01-02T21:46:12.635413Z",
     "iopub.status.idle": "2023-01-02T21:46:12.731993Z",
     "shell.execute_reply": "2023-01-02T21:46:12.730691Z"
    },
    "papermill": {
     "duration": 0.110668,
     "end_time": "2023-01-02T21:46:12.734674",
     "exception": false,
     "start_time": "2023-01-02T21:46:12.624006",
     "status": "completed"
    },
    "tags": []
   },
   "outputs": [
    {
     "name": "stderr",
     "output_type": "stream",
     "text": [
      "/opt/conda/lib/python3.7/site-packages/ipykernel_launcher.py:2: FutureWarning: The default value of regex will change from True to False in a future version.\n",
      "  \n"
     ]
    }
   ],
   "source": [
    "# Remove all Punc.\n",
    "df_train['text']=df_train['text'].str.replace(r'[^\\w\\s]+', '')"
   ]
  },
  {
   "cell_type": "code",
   "execution_count": 13,
   "id": "ac0ed6cb",
   "metadata": {
    "execution": {
     "iopub.execute_input": "2023-01-02T21:46:12.755828Z",
     "iopub.status.busy": "2023-01-02T21:46:12.755374Z",
     "iopub.status.idle": "2023-01-02T21:46:12.828075Z",
     "shell.execute_reply": "2023-01-02T21:46:12.826823Z"
    },
    "papermill": {
     "duration": 0.086975,
     "end_time": "2023-01-02T21:46:12.831045",
     "exception": false,
     "start_time": "2023-01-02T21:46:12.744070",
     "status": "completed"
    },
    "tags": []
   },
   "outputs": [
    {
     "name": "stderr",
     "output_type": "stream",
     "text": [
      "/opt/conda/lib/python3.7/site-packages/ipykernel_launcher.py:2: FutureWarning: The default value of regex will change from True to False in a future version.\n",
      "  \n"
     ]
    }
   ],
   "source": [
    "# Remove special char\n",
    "df_train['text']= df_train['text'].str.replace(r\"[^a-zA-Z ]+\", \" \").str.strip()"
   ]
  },
  {
   "cell_type": "code",
   "execution_count": 14,
   "id": "d5eafb30",
   "metadata": {
    "execution": {
     "iopub.execute_input": "2023-01-02T21:46:12.852080Z",
     "iopub.status.busy": "2023-01-02T21:46:12.851606Z",
     "iopub.status.idle": "2023-01-02T21:46:12.887321Z",
     "shell.execute_reply": "2023-01-02T21:46:12.886161Z"
    },
    "papermill": {
     "duration": 0.048989,
     "end_time": "2023-01-02T21:46:12.889754",
     "exception": false,
     "start_time": "2023-01-02T21:46:12.840765",
     "status": "completed"
    },
    "tags": []
   },
   "outputs": [],
   "source": [
    "import unicodedata\n",
    "df_train['text']= df_train['text'].map(lambda char:unicodedata.normalize('NFKD', char).encode('ascii', 'ignore').decode('utf-8', 'ignore'))"
   ]
  },
  {
   "cell_type": "markdown",
   "id": "103bc7cc",
   "metadata": {
    "papermill": {
     "duration": 0.009664,
     "end_time": "2023-01-02T21:46:12.908920",
     "exception": false,
     "start_time": "2023-01-02T21:46:12.899256",
     "status": "completed"
    },
    "tags": []
   },
   "source": [
    "## Selected Text"
   ]
  },
  {
   "cell_type": "code",
   "execution_count": 15,
   "id": "c08e257a",
   "metadata": {
    "execution": {
     "iopub.execute_input": "2023-01-02T21:46:12.930844Z",
     "iopub.status.busy": "2023-01-02T21:46:12.930018Z",
     "iopub.status.idle": "2023-01-02T21:46:13.479272Z",
     "shell.execute_reply": "2023-01-02T21:46:13.477938Z"
    },
    "papermill": {
     "duration": 0.563277,
     "end_time": "2023-01-02T21:46:13.481770",
     "exception": false,
     "start_time": "2023-01-02T21:46:12.918493",
     "status": "completed"
    },
    "tags": []
   },
   "outputs": [
    {
     "name": "stderr",
     "output_type": "stream",
     "text": [
      "/opt/conda/lib/python3.7/site-packages/ipykernel_launcher.py:9: FutureWarning: The default value of regex will change from True to False in a future version.\n",
      "  if __name__ == \"__main__\":\n",
      "/opt/conda/lib/python3.7/site-packages/ipykernel_launcher.py:11: FutureWarning: The default value of regex will change from True to False in a future version.\n",
      "  # This is added back by InteractiveShellApp.init_path()\n"
     ]
    }
   ],
   "source": [
    "df_train['selected_text']=df_train['selected_text'].str.lower()\n",
    "# Remove all urls\n",
    "urls = r'''(?i)\\b((?:https?://|www\\d{0,3}[.]|[a-z0-9.\\-]+[.][a-z]{2,4}/)(?:[^\\s()<>]+|\\(([^\\s()<>]+|(\\([^\\s()<>]+\\)))*\\))+(?:\\(([^\\s()<>]+|(\\([^\\s()<>]+\\)))*\\)|[^\\s`!()\\[\\]{};:'\".,<>?«»“”‘’]))'''\n",
    "df_train['selected_text']=df_train['selected_text'].map(lambda char:re.sub(urls, \"\", char))\n",
    "# Remove all numbers\n",
    "df_train['selected_text']=df_train['selected_text'].map(lambda s:''.join([i for i in s if not i.isdigit()]))\n",
    "df_train['selected_text']=df_train['selected_text'].map(lambda char:re.sub(r'^\\s*|\\s\\s*', ' ', char).strip())\n",
    "# Remove all Punc.\n",
    "df_train['selected_text']=df_train['selected_text'].str.replace(r'[^\\w\\s]+', '')\n",
    "# Remove special char\n",
    "df_train['selected_text']= df_train['selected_text'].str.replace(r\"[^a-zA-Z ]+\", \" \").str.strip()\n",
    "df_train['selected_text']= df_train['selected_text'].map(lambda char:unicodedata.normalize('NFKD', char).encode('ascii', 'ignore').decode('utf-8', 'ignore'))"
   ]
  },
  {
   "cell_type": "code",
   "execution_count": 16,
   "id": "24250513",
   "metadata": {
    "execution": {
     "iopub.execute_input": "2023-01-02T21:46:13.502490Z",
     "iopub.status.busy": "2023-01-02T21:46:13.502039Z",
     "iopub.status.idle": "2023-01-02T21:46:13.509714Z",
     "shell.execute_reply": "2023-01-02T21:46:13.508469Z"
    },
    "papermill": {
     "duration": 0.021057,
     "end_time": "2023-01-02T21:46:13.512249",
     "exception": false,
     "start_time": "2023-01-02T21:46:13.491192",
     "status": "completed"
    },
    "tags": []
   },
   "outputs": [
    {
     "data": {
      "text/plain": [
       "'from autocorrect import Speller\\nspell = Speller(lang=\"en\")\\ntokenizer = RegexpTokenizer(r\\'\\\\w+\\')\\n\\ndf_train.text = df_train.text.map(lambda x:tokenizer.tokenize(x))  #remove punctuation and tokenize\\ndf_train.text = df_train.text.map(lambda x:[spell(i) for i in x])  #spell check'"
      ]
     },
     "execution_count": 16,
     "metadata": {},
     "output_type": "execute_result"
    }
   ],
   "source": [
    "'''from autocorrect import Speller\n",
    "spell = Speller(lang=\"en\")\n",
    "tokenizer = RegexpTokenizer(r'\\w+')\n",
    "\n",
    "df_train.text = df_train.text.map(lambda x:tokenizer.tokenize(x))  #remove punctuation and tokenize\n",
    "df_train.text = df_train.text.map(lambda x:[spell(i) for i in x])  #spell check'''"
   ]
  },
  {
   "cell_type": "code",
   "execution_count": 17,
   "id": "86b90156",
   "metadata": {
    "execution": {
     "iopub.execute_input": "2023-01-02T21:46:13.533354Z",
     "iopub.status.busy": "2023-01-02T21:46:13.532871Z",
     "iopub.status.idle": "2023-01-02T21:46:13.548202Z",
     "shell.execute_reply": "2023-01-02T21:46:13.547270Z"
    },
    "papermill": {
     "duration": 0.028623,
     "end_time": "2023-01-02T21:46:13.550458",
     "exception": false,
     "start_time": "2023-01-02T21:46:13.521835",
     "status": "completed"
    },
    "scrolled": true,
    "tags": []
   },
   "outputs": [
    {
     "data": {
      "text/html": [
       "<div>\n",
       "<style scoped>\n",
       "    .dataframe tbody tr th:only-of-type {\n",
       "        vertical-align: middle;\n",
       "    }\n",
       "\n",
       "    .dataframe tbody tr th {\n",
       "        vertical-align: top;\n",
       "    }\n",
       "\n",
       "    .dataframe thead th {\n",
       "        text-align: right;\n",
       "    }\n",
       "</style>\n",
       "<table border=\"1\" class=\"dataframe\">\n",
       "  <thead>\n",
       "    <tr style=\"text-align: right;\">\n",
       "      <th></th>\n",
       "      <th>textID</th>\n",
       "      <th>text</th>\n",
       "      <th>selected_text</th>\n",
       "      <th>sentiment</th>\n",
       "    </tr>\n",
       "  </thead>\n",
       "  <tbody>\n",
       "    <tr>\n",
       "      <th>0</th>\n",
       "      <td>cb774db0d1</td>\n",
       "      <td>id have responded if i were going</td>\n",
       "      <td>id have responded if i were going</td>\n",
       "      <td>neutral</td>\n",
       "    </tr>\n",
       "    <tr>\n",
       "      <th>1</th>\n",
       "      <td>549e992a42</td>\n",
       "      <td>sooo sad i will miss you here in san diego</td>\n",
       "      <td>sooo sad</td>\n",
       "      <td>negative</td>\n",
       "    </tr>\n",
       "    <tr>\n",
       "      <th>2</th>\n",
       "      <td>088c60f138</td>\n",
       "      <td>my boss is bullying me</td>\n",
       "      <td>bullying me</td>\n",
       "      <td>negative</td>\n",
       "    </tr>\n",
       "    <tr>\n",
       "      <th>3</th>\n",
       "      <td>9642c003ef</td>\n",
       "      <td>what interview leave me alone</td>\n",
       "      <td>leave me alone</td>\n",
       "      <td>negative</td>\n",
       "    </tr>\n",
       "    <tr>\n",
       "      <th>4</th>\n",
       "      <td>358bd9e861</td>\n",
       "      <td>sons of  why couldnt they put them on the rele...</td>\n",
       "      <td>sons of</td>\n",
       "      <td>negative</td>\n",
       "    </tr>\n",
       "    <tr>\n",
       "      <th>...</th>\n",
       "      <td>...</td>\n",
       "      <td>...</td>\n",
       "      <td>...</td>\n",
       "      <td>...</td>\n",
       "    </tr>\n",
       "    <tr>\n",
       "      <th>27476</th>\n",
       "      <td>4eac33d1c0</td>\n",
       "      <td>wish we could come see u on denver husband los...</td>\n",
       "      <td>d lost</td>\n",
       "      <td>negative</td>\n",
       "    </tr>\n",
       "    <tr>\n",
       "      <th>27477</th>\n",
       "      <td>4f4c4fc327</td>\n",
       "      <td>ive wondered about rake to the client has made...</td>\n",
       "      <td>dont force</td>\n",
       "      <td>negative</td>\n",
       "    </tr>\n",
       "    <tr>\n",
       "      <th>27478</th>\n",
       "      <td>f67aae2310</td>\n",
       "      <td>yay good for both of you enjoy the break  you ...</td>\n",
       "      <td>yay good for both of you</td>\n",
       "      <td>positive</td>\n",
       "    </tr>\n",
       "    <tr>\n",
       "      <th>27479</th>\n",
       "      <td>ed167662a5</td>\n",
       "      <td>but it was worth it</td>\n",
       "      <td>but it was worth it</td>\n",
       "      <td>positive</td>\n",
       "    </tr>\n",
       "    <tr>\n",
       "      <th>27480</th>\n",
       "      <td>6f7127d9d7</td>\n",
       "      <td>all this flirting going on  the atg smiles yay...</td>\n",
       "      <td>all this flirting going on  the atg smiles yay...</td>\n",
       "      <td>neutral</td>\n",
       "    </tr>\n",
       "  </tbody>\n",
       "</table>\n",
       "<p>27480 rows × 4 columns</p>\n",
       "</div>"
      ],
      "text/plain": [
       "           textID                                               text  \\\n",
       "0      cb774db0d1                  id have responded if i were going   \n",
       "1      549e992a42         sooo sad i will miss you here in san diego   \n",
       "2      088c60f138                             my boss is bullying me   \n",
       "3      9642c003ef                      what interview leave me alone   \n",
       "4      358bd9e861  sons of  why couldnt they put them on the rele...   \n",
       "...           ...                                                ...   \n",
       "27476  4eac33d1c0  wish we could come see u on denver husband los...   \n",
       "27477  4f4c4fc327  ive wondered about rake to the client has made...   \n",
       "27478  f67aae2310  yay good for both of you enjoy the break  you ...   \n",
       "27479  ed167662a5                                but it was worth it   \n",
       "27480  6f7127d9d7  all this flirting going on  the atg smiles yay...   \n",
       "\n",
       "                                           selected_text sentiment  \n",
       "0                      id have responded if i were going   neutral  \n",
       "1                                               sooo sad  negative  \n",
       "2                                            bullying me  negative  \n",
       "3                                         leave me alone  negative  \n",
       "4                                                sons of  negative  \n",
       "...                                                  ...       ...  \n",
       "27476                                             d lost  negative  \n",
       "27477                                         dont force  negative  \n",
       "27478                           yay good for both of you  positive  \n",
       "27479                                but it was worth it  positive  \n",
       "27480  all this flirting going on  the atg smiles yay...   neutral  \n",
       "\n",
       "[27480 rows x 4 columns]"
      ]
     },
     "execution_count": 17,
     "metadata": {},
     "output_type": "execute_result"
    }
   ],
   "source": [
    "df_train"
   ]
  },
  {
   "cell_type": "markdown",
   "id": "f6d297ff",
   "metadata": {
    "papermill": {
     "duration": 0.009581,
     "end_time": "2023-01-02T21:46:13.569865",
     "exception": false,
     "start_time": "2023-01-02T21:46:13.560284",
     "status": "completed"
    },
    "tags": []
   },
   "source": [
    "# Models"
   ]
  },
  {
   "cell_type": "code",
   "execution_count": 18,
   "id": "16a4bb36",
   "metadata": {
    "execution": {
     "iopub.execute_input": "2023-01-02T21:46:13.591397Z",
     "iopub.status.busy": "2023-01-02T21:46:13.590950Z",
     "iopub.status.idle": "2023-01-02T21:46:14.937566Z",
     "shell.execute_reply": "2023-01-02T21:46:14.936407Z"
    },
    "papermill": {
     "duration": 1.360741,
     "end_time": "2023-01-02T21:46:14.940363",
     "exception": false,
     "start_time": "2023-01-02T21:46:13.579622",
     "status": "completed"
    },
    "tags": []
   },
   "outputs": [],
   "source": [
    "import gensim\n",
    "from gensim.models.word2vec import Word2Vec\n",
    "import gensim.downloader as api\n",
    "from tensorflow.keras.utils import to_categorical\n",
    "import tensorflow.keras as keras\n",
    "from time import time\n",
    "from tensorflow.keras.preprocessing.text import Tokenizer\n",
    "from tensorflow.keras.preprocessing.sequence import pad_sequences"
   ]
  },
  {
   "cell_type": "code",
   "execution_count": 19,
   "id": "df5ac60f",
   "metadata": {
    "execution": {
     "iopub.execute_input": "2023-01-02T21:46:14.962119Z",
     "iopub.status.busy": "2023-01-02T21:46:14.961678Z",
     "iopub.status.idle": "2023-01-02T21:46:14.970560Z",
     "shell.execute_reply": "2023-01-02T21:46:14.969342Z"
    },
    "papermill": {
     "duration": 0.022572,
     "end_time": "2023-01-02T21:46:14.972924",
     "exception": false,
     "start_time": "2023-01-02T21:46:14.950352",
     "status": "completed"
    },
    "tags": []
   },
   "outputs": [],
   "source": [
    "from tensorflow.keras.models import Sequential\n",
    "from tensorflow.keras import regularizers\n",
    "from tensorflow.keras.layers import Dense, Dropout, Flatten\n",
    "from tensorflow.keras.layers import Conv1D\n",
    "from tensorflow.keras import layers\n",
    "from sklearn.metrics import accuracy_score, f1_score\n",
    "from tensorflow.keras.layers import Dense, Embedding, LSTM, SpatialDropout1D"
   ]
  },
  {
   "cell_type": "code",
   "execution_count": 20,
   "id": "2439ed02",
   "metadata": {
    "execution": {
     "iopub.execute_input": "2023-01-02T21:46:14.994389Z",
     "iopub.status.busy": "2023-01-02T21:46:14.993933Z",
     "iopub.status.idle": "2023-01-02T21:46:15.017867Z",
     "shell.execute_reply": "2023-01-02T21:46:15.016586Z"
    },
    "papermill": {
     "duration": 0.037695,
     "end_time": "2023-01-02T21:46:15.020473",
     "exception": false,
     "start_time": "2023-01-02T21:46:14.982778",
     "status": "completed"
    },
    "tags": []
   },
   "outputs": [],
   "source": [
    "# Text\n",
    "df = df_train\n",
    "df['text'] = df['text'].map(lambda x:str(x))\n",
    "df['sentiment'] = df_train['sentiment'].astype(\"category\")\n",
    "df['sentiment'] = df_train['sentiment'].cat.codes\n",
    "# df"
   ]
  },
  {
   "cell_type": "code",
   "execution_count": 21,
   "id": "f330a5c4",
   "metadata": {
    "execution": {
     "iopub.execute_input": "2023-01-02T21:46:15.042297Z",
     "iopub.status.busy": "2023-01-02T21:46:15.041471Z",
     "iopub.status.idle": "2023-01-02T21:46:15.055075Z",
     "shell.execute_reply": "2023-01-02T21:46:15.054124Z"
    },
    "papermill": {
     "duration": 0.027558,
     "end_time": "2023-01-02T21:46:15.057825",
     "exception": false,
     "start_time": "2023-01-02T21:46:15.030267",
     "status": "completed"
    },
    "tags": []
   },
   "outputs": [
    {
     "data": {
      "text/html": [
       "<div>\n",
       "<style scoped>\n",
       "    .dataframe tbody tr th:only-of-type {\n",
       "        vertical-align: middle;\n",
       "    }\n",
       "\n",
       "    .dataframe tbody tr th {\n",
       "        vertical-align: top;\n",
       "    }\n",
       "\n",
       "    .dataframe thead th {\n",
       "        text-align: right;\n",
       "    }\n",
       "</style>\n",
       "<table border=\"1\" class=\"dataframe\">\n",
       "  <thead>\n",
       "    <tr style=\"text-align: right;\">\n",
       "      <th></th>\n",
       "      <th>textID</th>\n",
       "      <th>text</th>\n",
       "      <th>sentiment</th>\n",
       "    </tr>\n",
       "  </thead>\n",
       "  <tbody>\n",
       "    <tr>\n",
       "      <th>0</th>\n",
       "      <td>f87dea47db</td>\n",
       "      <td>Last session of the day  http://twitpic.com/67ezh</td>\n",
       "      <td>neutral</td>\n",
       "    </tr>\n",
       "    <tr>\n",
       "      <th>1</th>\n",
       "      <td>96d74cb729</td>\n",
       "      <td>Shanghai is also really exciting (precisely -...</td>\n",
       "      <td>positive</td>\n",
       "    </tr>\n",
       "    <tr>\n",
       "      <th>2</th>\n",
       "      <td>eee518ae67</td>\n",
       "      <td>Recession hit Veronique Branquinho, she has to...</td>\n",
       "      <td>negative</td>\n",
       "    </tr>\n",
       "    <tr>\n",
       "      <th>3</th>\n",
       "      <td>01082688c6</td>\n",
       "      <td>happy bday!</td>\n",
       "      <td>positive</td>\n",
       "    </tr>\n",
       "    <tr>\n",
       "      <th>4</th>\n",
       "      <td>33987a8ee5</td>\n",
       "      <td>http://twitpic.com/4w75p - I like it!!</td>\n",
       "      <td>positive</td>\n",
       "    </tr>\n",
       "    <tr>\n",
       "      <th>...</th>\n",
       "      <td>...</td>\n",
       "      <td>...</td>\n",
       "      <td>...</td>\n",
       "    </tr>\n",
       "    <tr>\n",
       "      <th>3529</th>\n",
       "      <td>e5f0e6ef4b</td>\n",
       "      <td>its at 3 am, im very tired but i can`t sleep  ...</td>\n",
       "      <td>negative</td>\n",
       "    </tr>\n",
       "    <tr>\n",
       "      <th>3530</th>\n",
       "      <td>416863ce47</td>\n",
       "      <td>All alone in this old house again.  Thanks for...</td>\n",
       "      <td>positive</td>\n",
       "    </tr>\n",
       "    <tr>\n",
       "      <th>3531</th>\n",
       "      <td>6332da480c</td>\n",
       "      <td>I know what you mean. My little dog is sinkin...</td>\n",
       "      <td>negative</td>\n",
       "    </tr>\n",
       "    <tr>\n",
       "      <th>3532</th>\n",
       "      <td>df1baec676</td>\n",
       "      <td>_sutra what is your next youtube video gonna b...</td>\n",
       "      <td>positive</td>\n",
       "    </tr>\n",
       "    <tr>\n",
       "      <th>3533</th>\n",
       "      <td>469e15c5a8</td>\n",
       "      <td>http://twitpic.com/4woj2 - omgssh  ang cute n...</td>\n",
       "      <td>positive</td>\n",
       "    </tr>\n",
       "  </tbody>\n",
       "</table>\n",
       "<p>3534 rows × 3 columns</p>\n",
       "</div>"
      ],
      "text/plain": [
       "          textID                                               text sentiment\n",
       "0     f87dea47db  Last session of the day  http://twitpic.com/67ezh   neutral\n",
       "1     96d74cb729   Shanghai is also really exciting (precisely -...  positive\n",
       "2     eee518ae67  Recession hit Veronique Branquinho, she has to...  negative\n",
       "3     01082688c6                                        happy bday!  positive\n",
       "4     33987a8ee5             http://twitpic.com/4w75p - I like it!!  positive\n",
       "...          ...                                                ...       ...\n",
       "3529  e5f0e6ef4b  its at 3 am, im very tired but i can`t sleep  ...  negative\n",
       "3530  416863ce47  All alone in this old house again.  Thanks for...  positive\n",
       "3531  6332da480c   I know what you mean. My little dog is sinkin...  negative\n",
       "3532  df1baec676  _sutra what is your next youtube video gonna b...  positive\n",
       "3533  469e15c5a8   http://twitpic.com/4woj2 - omgssh  ang cute n...  positive\n",
       "\n",
       "[3534 rows x 3 columns]"
      ]
     },
     "execution_count": 21,
     "metadata": {},
     "output_type": "execute_result"
    }
   ],
   "source": [
    "df_test"
   ]
  },
  {
   "cell_type": "code",
   "execution_count": 22,
   "id": "6f03a382",
   "metadata": {
    "execution": {
     "iopub.execute_input": "2023-01-02T21:46:15.080050Z",
     "iopub.status.busy": "2023-01-02T21:46:15.079613Z",
     "iopub.status.idle": "2023-01-02T21:46:15.102330Z",
     "shell.execute_reply": "2023-01-02T21:46:15.100695Z"
    },
    "papermill": {
     "duration": 0.037289,
     "end_time": "2023-01-02T21:46:15.105315",
     "exception": false,
     "start_time": "2023-01-02T21:46:15.068026",
     "status": "completed"
    },
    "tags": []
   },
   "outputs": [
    {
     "name": "stdout",
     "output_type": "stream",
     "text": [
      "X_train shape: (19236,)\n",
      "y_train shape: (19236, 3)\n",
      "X_test shape : (4122,)\n",
      "y_test shape : (4122,)\n",
      "X_val shape  : (4122,)\n",
      "y val shape  : (4122, 3)\n"
     ]
    }
   ],
   "source": [
    "x_train, x_test, y_train, y_test = train_test_split(df['text'].values, df['sentiment'].values,stratify=df['sentiment'].values, test_size=0.3,random_state=1)\n",
    "y_train = to_categorical(y_train)\n",
    "\n",
    "# x_test, x_val , y_test, y_val = train_test_split(x_test, y_test,stratify=y_test, test_size=0.5,random_state=1)\n",
    "x_val = x_test[0:4122]\n",
    "y_val = to_categorical(y_test[0:4122])\n",
    "x_test = x_test[4122:]\n",
    "y_test = y_test[4122:]\n",
    "\n",
    "print(\"X_train shape: {}\".format(x_train.shape))\n",
    "print(\"y_train shape: {}\".format(y_train.shape))\n",
    "print(\"X_test shape : {}\".format(x_test.shape))\n",
    "print(\"y_test shape : {}\".format(y_test.shape))\n",
    "print(\"X_val shape  : {}\".format(x_val.shape))\n",
    "print(\"y val shape  : {}\".format(y_val.shape))\n"
   ]
  },
  {
   "cell_type": "markdown",
   "id": "a5421a7f",
   "metadata": {
    "papermill": {
     "duration": 0.010188,
     "end_time": "2023-01-02T21:46:15.125815",
     "exception": false,
     "start_time": "2023-01-02T21:46:15.115627",
     "status": "completed"
    },
    "tags": []
   },
   "source": [
    "### Tokenized data\n",
    "Our input data is text and we can't feed it directly to our models. So, we'll define a Tokenizer to convert our text input data into token indices. This means that every token (we can decide what a token is char, word, sub-word, etc.) is mapped to a unique index which allows us to represent our text as an array of indices."
   ]
  },
  {
   "cell_type": "code",
   "execution_count": 23,
   "id": "d299b4ff",
   "metadata": {
    "execution": {
     "iopub.execute_input": "2023-01-02T21:46:15.148613Z",
     "iopub.status.busy": "2023-01-02T21:46:15.147829Z",
     "iopub.status.idle": "2023-01-02T21:46:16.289002Z",
     "shell.execute_reply": "2023-01-02T21:46:16.287766Z"
    },
    "papermill": {
     "duration": 1.156395,
     "end_time": "2023-01-02T21:46:16.292554",
     "exception": false,
     "start_time": "2023-01-02T21:46:15.136159",
     "status": "completed"
    },
    "tags": []
   },
   "outputs": [],
   "source": [
    "tokenizer = Tokenizer(num_words=5000)\n",
    "tokenizer.fit_on_texts(df.text.values)\n",
    "\n",
    "X_train = tokenizer.texts_to_sequences(x_train)\n",
    "X_val = tokenizer.texts_to_sequences(x_val)\n",
    "X_test = tokenizer.texts_to_sequences(x_test)\n",
    "\n",
    "vocab_size = len(tokenizer.word_index) + 1\n",
    "\n",
    "maxlen = 100\n",
    "\n",
    "#  All sequences in a list have the same length no more than 100\n",
    "X_train = pad_sequences(X_train, padding='pre', maxlen=maxlen) \n",
    "X_val = pad_sequences(X_val, padding='pre', maxlen=maxlen)\n",
    "X_test = pad_sequences(X_test, padding='pre', maxlen=maxlen)\n",
    "\n",
    "word_index = tokenizer.word_index"
   ]
  },
  {
   "cell_type": "code",
   "execution_count": 24,
   "id": "b0f81865",
   "metadata": {
    "execution": {
     "iopub.execute_input": "2023-01-02T21:46:16.319669Z",
     "iopub.status.busy": "2023-01-02T21:46:16.319197Z",
     "iopub.status.idle": "2023-01-02T21:48:50.782236Z",
     "shell.execute_reply": "2023-01-02T21:48:50.780589Z"
    },
    "papermill": {
     "duration": 154.479602,
     "end_time": "2023-01-02T21:48:50.785376",
     "exception": false,
     "start_time": "2023-01-02T21:46:16.305774",
     "status": "completed"
    },
    "tags": []
   },
   "outputs": [
    {
     "name": "stdout",
     "output_type": "stream",
     "text": [
      "[==================================================] 100.0% 387.1/387.1MB downloaded\n"
     ]
    }
   ],
   "source": [
    "import gensim.downloader as api\n",
    "\n",
    "# Load the GloVe embeddings from the gensim API\n",
    "word_embeddings = api.load(\"glove-twitter-100\")\n",
    "\n",
    "# Create a matrix of the word embeddings\n",
    "embedding_matrix = np.zeros((vocab_size, 100))\n",
    "for word, i in word_index.items():\n",
    "    if word in word_embeddings:\n",
    "        embedding_matrix[i] = word_embeddings[word]"
   ]
  },
  {
   "cell_type": "code",
   "execution_count": 25,
   "id": "638edc07",
   "metadata": {
    "execution": {
     "iopub.execute_input": "2023-01-02T21:48:57.237650Z",
     "iopub.status.busy": "2023-01-02T21:48:57.237215Z",
     "iopub.status.idle": "2023-01-02T21:48:57.246619Z",
     "shell.execute_reply": "2023-01-02T21:48:57.245660Z"
    },
    "papermill": {
     "duration": 3.171243,
     "end_time": "2023-01-02T21:48:57.248839",
     "exception": false,
     "start_time": "2023-01-02T21:48:54.077596",
     "status": "completed"
    },
    "tags": []
   },
   "outputs": [],
   "source": [
    "from keras.models import Sequential\n",
    "from keras import regularizers\n",
    "from keras.layers.core import Dense, Dropout, Flatten\n",
    "from keras import layers\n",
    "from sklearn.metrics import accuracy_score, f1_score\n",
    "from keras.layers import Dense, Embedding, LSTM, SpatialDropout1D\n",
    "\n",
    "\n",
    "def lstm_glove(activation_func, optimizer_alg, num_epochs, batch_size):\n",
    "\"\"\"\n",
    "function to create and train LSTM model with GloVe embeddings\n",
    "\"\"\"\n",
    "    model = Sequential()\n",
    "    model.add(Embedding(input_dim=vocab_size, output_dim=100,\n",
    "    weights=[embedding_matrix], input_length=max_length, trainable=False))\n",
    "    model.add(SpatialDropout1D(0.35))\n",
    "    model.add(LSTM(32, activation=activation_func))\n",
    "    model.add(Dense(3, activation='softmax'))\n",
    "    model.compile(optimizer=optimizer_alg, loss='categorical_crossentropy', metrics=['accuracy'])\n",
    "    history = model.fit(X_train, y_train, epochs=num_epochs, batch_size=batch_size,\n",
    "    validation_data=(X_val, y_val), verbose=0)\n",
    "    return history, model"
   ]
  },
  {
   "cell_type": "code",
   "execution_count": 26,
   "id": "0fad8193",
   "metadata": {
    "execution": {
     "iopub.execute_input": "2023-01-02T21:49:03.532370Z",
     "iopub.status.busy": "2023-01-02T21:49:03.531965Z",
     "iopub.status.idle": "2023-01-02T21:49:03.538744Z",
     "shell.execute_reply": "2023-01-02T21:49:03.537225Z"
    },
    "papermill": {
     "duration": 3.105817,
     "end_time": "2023-01-02T21:49:03.541654",
     "exception": false,
     "start_time": "2023-01-02T21:49:00.435837",
     "status": "completed"
    },
    "tags": []
   },
   "outputs": [],
   "source": [
    "activation = [ \"tanh\",\"relu\", \"sigmoid\", \"elu\"]\n",
    "optimizer = [\"adam\", \"SGD\", \"RMSprop\"]\n",
    "epochs = [5,10,15,20]\n",
    "batchsize = [8,16,32,64,128]"
   ]
  },
  {
   "cell_type": "code",
   "execution_count": 27,
   "id": "808c915e",
   "metadata": {
    "execution": {
     "iopub.execute_input": "2023-01-02T21:49:09.942281Z",
     "iopub.status.busy": "2023-01-02T21:49:09.941798Z",
     "iopub.status.idle": "2023-01-03T01:30:32.346429Z",
     "shell.execute_reply": "2023-01-03T01:30:32.345589Z"
    },
    "papermill": {
     "duration": 13288.889106,
     "end_time": "2023-01-03T01:30:35.657873",
     "exception": false,
     "start_time": "2023-01-02T21:49:06.768767",
     "status": "completed"
    },
    "tags": []
   },
   "outputs": [
    {
     "name": "stderr",
     "output_type": "stream",
     "text": [
      "2023-01-02 21:49:10.018010: I tensorflow/core/common_runtime/process_util.cc:146] Creating new thread pool with default inter op setting: 2. Tune using inter_op_parallelism_threads for best performance.\n",
      "2023-01-02 21:49:10.789540: I tensorflow/compiler/mlir/mlir_graph_optimization_pass.cc:185] None of the MLIR Optimization Passes are enabled (registered 2)\n"
     ]
    },
    {
     "name": "stdout",
     "output_type": "stream",
     "text": [
      "129/129 [==============================] - 4s 34ms/step - loss: 0.6286 - accuracy: 0.7441\n",
      "129/129 [==============================] - 4s 31ms/step - loss: 0.6277 - accuracy: 0.7455\n",
      "129/129 [==============================] - 4s 33ms/step - loss: 0.6525 - accuracy: 0.7358\n",
      "129/129 [==============================] - 4s 27ms/step - loss: 0.6463 - accuracy: 0.7470\n",
      "best activation function is  elu\n",
      "129/129 [==============================] - 4s 32ms/step - loss: 0.6339 - accuracy: 0.7433\n",
      "129/129 [==============================] - 4s 31ms/step - loss: 0.8061 - accuracy: 0.6359\n",
      "129/129 [==============================] - 6s 44ms/step - loss: 0.6448 - accuracy: 0.7390\n",
      "best optimizer is  adam\n",
      "602/602 [==============================] - 17s 28ms/step - loss: 0.4273 - accuracy: 0.8320\n",
      "129/129 [==============================] - 4s 28ms/step - loss: 0.6334 - accuracy: 0.7414\n",
      "602/602 [==============================] - 18s 30ms/step - loss: 0.2558 - accuracy: 0.9034\n",
      "129/129 [==============================] - 3s 26ms/step - loss: 0.8061 - accuracy: 0.7293\n",
      "602/602 [==============================] - 20s 33ms/step - loss: 0.1624 - accuracy: 0.9429\n",
      "129/129 [==============================] - 4s 34ms/step - loss: 0.9383 - accuracy: 0.7174\n",
      "602/602 [==============================] - 17s 29ms/step - loss: 0.0744 - accuracy: 0.9786\n",
      "129/129 [==============================] - 3s 27ms/step - loss: 1.2204 - accuracy: 0.6914\n",
      "best epoch is  5\n",
      "602/602 [==============================] - 19s 31ms/step - loss: 0.3967 - accuracy: 0.8486\n",
      "129/129 [==============================] - 4s 29ms/step - loss: 0.6425 - accuracy: 0.7424\n",
      "602/602 [==============================] - 19s 32ms/step - loss: 0.4367 - accuracy: 0.8306\n",
      "129/129 [==============================] - 4s 28ms/step - loss: 0.6265 - accuracy: 0.7380\n",
      "602/602 [==============================] - 18s 30ms/step - loss: 0.4640 - accuracy: 0.8158\n",
      "129/129 [==============================] - 4s 32ms/step - loss: 0.6287 - accuracy: 0.7465\n",
      "602/602 [==============================] - 17s 28ms/step - loss: 0.5125 - accuracy: 0.7942\n",
      "129/129 [==============================] - 4s 33ms/step - loss: 0.6225 - accuracy: 0.7448\n",
      "602/602 [==============================] - 18s 29ms/step - loss: 0.5568 - accuracy: 0.7735\n",
      "129/129 [==============================] - 3s 27ms/step - loss: 0.6400 - accuracy: 0.7363\n",
      "best batchsize is  32\n",
      "test accuracy score =  0.737506065016982\n",
      "time taken is  341.6750326156616\n"
     ]
    },
    {
     "data": {
      "image/png": "[encoded data removed]",
      "text/plain": [
       "<Figure size 432x288 with 1 Axes>"
      ]
     },
     "metadata": {
      "needs_background": "light"
     },
     "output_type": "display_data"
    },
    {
     "data": {
      "image/png": "[encoded data removed]",
      "text/plain": [
       "<Figure size 432x288 with 1 Axes>"
      ]
     },
     "metadata": {
      "needs_background": "light"
     },
     "output_type": "display_data"
    }
   ],
   "source": [
    "def select_hyperparameters():\n",
    "    \"\"\"\n",
    "    function to select the best activation function, optimizer, epochs, and batch size\n",
    "    \"\"\"\n",
    "    # dictionary to store the validation accuracy of different activation functions\n",
    "    sel_activation = {}\n",
    "    # iterate over different activation functions\n",
    "    for i in activation:\n",
    "        # build and train the model with current activation function\n",
    "        history, model = lstm_glove(i, \"adam\", 5, 16)\n",
    "        # evaluate the model on the validation data\n",
    "        val_acc = {i:model.evaluate(X_val,y_val)[1]}\n",
    "        sel_activation.update(val_acc )\n",
    "        keras.backend.clear_session()\n",
    "    # select the best activation function \n",
    "    sel_activation_final = max(sel_activation, key=sel_activation.get)\n",
    "    print(\"best activation function is \",sel_activation_final)\n",
    "    # dictionary to store the validation accuracy of different optimizers\n",
    "    sel_optimizer = {}\n",
    "    for i in optimizer:# iterate over different optimizers\n",
    "        # build and train the model with the current optimizer\n",
    "        history, model = lstm_glove(sel_activation_final,i,5,16)\n",
    "        # evaluate the model on the validation data\n",
    "        val_acc  = {i:model.evaluate(X_val,y_val)[1]}\n",
    "        sel_optimizer.update(val_acc)\n",
    "        keras.backend.clear_session()\n",
    "    # select the best optimizer\n",
    "    sel_optimizer_final = max(sel_optimizer, key=sel_optimizer.get)\n",
    "    print(\"best optimizer is \",sel_optimizer_final)\n",
    "\n",
    "    acc_train_epoch = {}\n",
    "    acc_val_epoch = {}\n",
    "    for i in epochs:# iterate over different number of epochs\n",
    "        history, model = lstm_glove(sel_activation_final,sel_optimizer_final,i,16)\n",
    "        temp_train = {i:model.evaluate(X_train,y_train)[1]}\n",
    "        temp_val = {i:model.evaluate(X_val,y_val)[1]}\n",
    "        acc_train_epoch.update(temp_train)\n",
    "        acc_val_epoch.update(temp_val)\n",
    "        keras.backend.clear_session()\n",
    "    # select the best number of epochs\n",
    "    sel_epoch_final = max(acc_val_epoch, key=acc_val_epoch.get)\n",
    "    print(\"best epoch is \",sel_epoch_final)\n",
    "\n",
    "    acc_train_batch = {}\n",
    "    acc_val_batch = {}\n",
    "    for i in batchsize:\n",
    "        history, model = lstm_glove(sel_activation_final,sel_optimizer_final,sel_epoch_final,i)\n",
    "        temp_train = {i:model.evaluate(X_train,y_train)[1]}\n",
    "        temp_val = {i:model.evaluate(X_val,y_val)[1]}\n",
    "        acc_train_batch.update(temp_train)\n",
    "        acc_val_batch.update(temp_val)\n",
    "        keras.backend.clear_session()\n",
    "    # select the best batch size\n",
    "    sel_batch_final = max(acc_val_batch, key=acc_val_batch.get)\n",
    "    print(\"best batchsize is \",sel_batch_final)\n",
    "\n",
    "    df_batch_train = pd.DataFrame(list(acc_train_batch.items()), columns=['Batchsize', 'Accuracy score'])\n",
    "    df_batch_val = pd.DataFrame(list(acc_val_batch.items()), columns=['Batchsize', 'Accuracy score'])\n",
    "\n",
    "    df_batch_val.Batchsize = df_batch_val.Batchsize.map(lambda x:str(x))\n",
    "    df_batch_train.Batchsize = df_batch_train.Batchsize.map(lambda x:str(x))\n",
    "\n",
    "    plt.figure()\n",
    "    plt.plot(df_batch_train.iloc[:,0],df_batch_train.iloc[:,1],label=\"train\", marker='o')\n",
    "    plt.plot(df_batch_val.iloc[:,0],df_batch_val.iloc[:,1],label = \"val\", marker='o')\n",
    "    plt.title(\"Accuracy score vs Batch size\")\n",
    "    plt.ylabel(\"Accuracy score\")\n",
    "    plt.xlabel(\"Batch size\")\n",
    "    plt.legend()\n",
    "\n",
    "    #final model\n",
    "    final_model, final_history = lstm_glove(sel_activation_final,sel_optimizer_final,sel_epoch_final,sel_batch_final)\n",
    "\n",
    "\n",
    "\n",
    "# 5. best model\n",
    "t0 = time()\n",
    "select_hyperparameters()\n",
    "pred = np.argmax(model.predict(X_test), axis=-1)\n",
    "print(\"test accuracy score = \",accuracy_score(y_pred=pred, y_true=y_test))\n",
    "t1 = time()\n",
    "print(\"time taken is \", t1-t0)"
   ]
  },
  {
   "cell_type": "markdown",
   "id": "c80994df",
   "metadata": {},
   "source": [
    "# Selected text model"
   ]
  },
  {
   "cell_type": "code",
   "execution_count": 28,
   "id": "53902acc",
   "metadata": {
    "execution": {
     "iopub.execute_input": "2023-01-03T01:30:42.358939Z",
     "iopub.status.busy": "2023-01-03T01:30:42.358043Z",
     "iopub.status.idle": "2023-01-03T01:30:42.377323Z",
     "shell.execute_reply": "2023-01-03T01:30:42.376496Z"
    },
    "papermill": {
     "duration": 3.374628,
     "end_time": "2023-01-03T01:30:42.379915",
     "exception": false,
     "start_time": "2023-01-03T01:30:39.005287",
     "status": "completed"
    },
    "tags": []
   },
   "outputs": [],
   "source": [
    "# Selected text\n",
    "df = df_train\n",
    "df['text'] = df['selected_text'].map(lambda x:str(x))\n",
    "df['sentiment'] = df_train['sentiment'].astype(\"category\")\n",
    "df['sentiment'] = df_train['sentiment'].cat.codes\n",
    "# df"
   ]
  },
  {
   "cell_type": "code",
   "execution_count": 29,
   "id": "40747f48",
   "metadata": {
    "execution": {
     "iopub.execute_input": "2023-01-03T01:30:49.234287Z",
     "iopub.status.busy": "2023-01-03T01:30:49.233892Z",
     "iopub.status.idle": "2023-01-03T01:30:49.242020Z",
     "shell.execute_reply": "2023-01-03T01:30:49.240785Z"
    },
    "papermill": {
     "duration": 3.467001,
     "end_time": "2023-01-03T01:30:49.244460",
     "exception": false,
     "start_time": "2023-01-03T01:30:45.777459",
     "status": "completed"
    },
    "tags": []
   },
   "outputs": [],
   "source": [
    "def lstm_glove(activation_func, optimizer_alg, num_epochs, batch_size):\n",
    "\"\"\"\n",
    "function to create and train LSTM model with GloVe embeddings\n",
    "\"\"\"\n",
    "    model = Sequential()\n",
    "    model.add(Embedding(input_dim=vocab_size, output_dim=100,\n",
    "    weights=[embedding_matrix], input_length=max_length, trainable=False))\n",
    "    model.add(SpatialDropout1D(0.35))\n",
    "    model.add(LSTM(32, activation=activation_func))\n",
    "    model.add(Dense(3, activation='softmax'))\n",
    "    model.compile(optimizer=optimizer_alg, loss='categorical_crossentropy', metrics=['accuracy'])\n",
    "    history = model.fit(X_train, y_train, epochs=num_epochs, batch_size=batch_size,\n",
    "    validation_data=(X_val, y_val), verbose=0)\n",
    "    return history, model"
   ]
  },
  {
   "cell_type": "code",
   "execution_count": 30,
   "id": "36094541",
   "metadata": {
    "execution": {
     "iopub.execute_input": "2023-01-03T01:30:55.901118Z",
     "iopub.status.busy": "2023-01-03T01:30:55.900704Z",
     "iopub.status.idle": "2023-01-03T05:08:27.829432Z",
     "shell.execute_reply": "2023-01-03T05:08:27.828174Z"
    },
    "papermill": {
     "duration": 13058.825865,
     "end_time": "2023-01-03T05:08:31.375355",
     "exception": false,
     "start_time": "2023-01-03T01:30:52.549490",
     "status": "completed"
    },
    "tags": []
   },
   "outputs": [
    {
     "name": "stdout",
     "output_type": "stream",
     "text": [
      "129/129 [==============================] - 5s 35ms/step - loss: 0.6288 - accuracy: 0.7421\n",
      "129/129 [==============================] - 4s 34ms/step - loss: 0.6313 - accuracy: 0.7453\n",
      "129/129 [==============================] - 5s 40ms/step - loss: 0.6498 - accuracy: 0.7322\n",
      "129/129 [==============================] - 4s 30ms/step - loss: 0.6338 - accuracy: 0.7414\n",
      "best activation function is  relu\n",
      "129/129 [==============================] - 4s 33ms/step - loss: 0.6249 - accuracy: 0.7477\n",
      "129/129 [==============================] - 5s 35ms/step - loss: 0.7412 - accuracy: 0.6829\n",
      "129/129 [==============================] - 4s 28ms/step - loss: nan - accuracy: 0.2792\n",
      "best optimizer is  adam\n",
      "602/602 [==============================] - 16s 27ms/step - loss: 0.4475 - accuracy: 0.8266\n",
      "129/129 [==============================] - 3s 25ms/step - loss: 0.6348 - accuracy: 0.7365\n",
      "602/602 [==============================] - 17s 28ms/step - loss: 0.2740 - accuracy: 0.8970\n",
      "129/129 [==============================] - 3s 26ms/step - loss: 0.7579 - accuracy: 0.7310\n",
      "602/602 [==============================] - 16s 26ms/step - loss: 0.2105 - accuracy: 0.9281\n",
      "129/129 [==============================] - 4s 31ms/step - loss: 0.8632 - accuracy: 0.7125\n",
      "602/602 [==============================] - 16s 26ms/step - loss: 0.1125 - accuracy: 0.9651\n",
      "129/129 [==============================] - 3s 26ms/step - loss: 1.0972 - accuracy: 0.7052\n",
      "best epoch is  5\n",
      "602/602 [==============================] - 18s 29ms/step - loss: 0.4074 - accuracy: 0.8384\n",
      "129/129 [==============================] - 3s 25ms/step - loss: 0.6498 - accuracy: 0.7397\n",
      "602/602 [==============================] - 16s 27ms/step - loss: 0.4500 - accuracy: 0.8239\n",
      "129/129 [==============================] - 3s 26ms/step - loss: 0.6306 - accuracy: 0.7368\n",
      "602/602 [==============================] - 17s 28ms/step - loss: 0.4824 - accuracy: 0.8054\n",
      "129/129 [==============================] - 3s 25ms/step - loss: 0.6286 - accuracy: 0.7445\n",
      "602/602 [==============================] - 18s 29ms/step - loss: 0.5174 - accuracy: 0.7860\n",
      "129/129 [==============================] - 3s 26ms/step - loss: 0.6290 - accuracy: 0.7428\n",
      "602/602 [==============================] - 17s 29ms/step - loss: 0.5550 - accuracy: 0.7709\n",
      "129/129 [==============================] - 4s 27ms/step - loss: 0.6312 - accuracy: 0.7443\n",
      "best batchsize is  32\n",
      "test accuracy score =  0.7440562833575934\n",
      "time taken is  339.3074882030487\n"
     ]
    },
    {
     "data": {
      "image/png": "[encoded data removed]",
      "text/plain": [
       "<Figure size 432x288 with 1 Axes>"
      ]
     },
     "metadata": {
      "needs_background": "light"
     },
     "output_type": "display_data"
    },
    {
     "data": {
      "image/png": "[encoded data removed]",
      "text/plain": [
       "<Figure size 432x288 with 1 Axes>"
      ]
     },
     "metadata": {
      "needs_background": "light"
     },
     "output_type": "display_data"
    }
   ],
   "source": [
    "def select_hyperparameters():\n",
    "    \"\"\"\n",
    "    function to select the best activation function, optimizer, epochs, and batch size\n",
    "    \"\"\"\n",
    "    # dictionary to store the validation accuracy of different activation functions\n",
    "    sel_activation = {}\n",
    "    # iterate over different activation functions\n",
    "    for i in activation:\n",
    "        # build and train the model with current activation function\n",
    "        history, model = lstm_glove(i, \"adam\", 5, 16)\n",
    "        # evaluate the model on the validation data\n",
    "        val_acc = {i:model.evaluate(X_val,y_val)[1]}\n",
    "        sel_activation.update(val_acc )\n",
    "        keras.backend.clear_session()\n",
    "    # select the best activation function \n",
    "    sel_activation_final = max(sel_activation, key=sel_activation.get)\n",
    "    print(\"best activation function is \",sel_activation_final)\n",
    "    # dictionary to store the validation accuracy of different optimizers\n",
    "    sel_optimizer = {}\n",
    "    for i in optimizer:# iterate over different optimizers\n",
    "        # build and train the model with the current optimizer\n",
    "        history, model = lstm_glove(sel_activation_final,i,5,16)\n",
    "        # evaluate the model on the validation data\n",
    "        val_acc  = {i:model.evaluate(X_val,y_val)[1]}\n",
    "        sel_optimizer.update(val_acc)\n",
    "        keras.backend.clear_session()\n",
    "    # select the best optimizer\n",
    "    sel_optimizer_final = max(sel_optimizer, key=sel_optimizer.get)\n",
    "    print(\"best optimizer is \",sel_optimizer_final)\n",
    "\n",
    "    acc_train_epoch = {}\n",
    "    acc_val_epoch = {}\n",
    "    for i in epochs:# iterate over different number of epochs\n",
    "        history, model = lstm_glove(sel_activation_final,sel_optimizer_final,i,16)\n",
    "        temp_train = {i:model.evaluate(X_train,y_train)[1]}\n",
    "        temp_val = {i:model.evaluate(X_val,y_val)[1]}\n",
    "        acc_train_epoch.update(temp_train)\n",
    "        acc_val_epoch.update(temp_val)\n",
    "        keras.backend.clear_session()\n",
    "    # select the best number of epochs\n",
    "    sel_epoch_final = max(acc_val_epoch, key=acc_val_epoch.get)\n",
    "    print(\"best epoch is \",sel_epoch_final)\n",
    "\n",
    "    acc_train_batch = {}\n",
    "    acc_val_batch = {}\n",
    "    for i in batchsize:\n",
    "        history, model = lstm_glove(sel_activation_final,sel_optimizer_final,sel_epoch_final,i)\n",
    "        temp_train = {i:model.evaluate(X_train,y_train)[1]}\n",
    "        temp_val = {i:model.evaluate(X_val,y_val)[1]}\n",
    "        acc_train_batch.update(temp_train)\n",
    "        acc_val_batch.update(temp_val)\n",
    "        keras.backend.clear_session()\n",
    "    # select the best batch size\n",
    "    sel_batch_final = max(acc_val_batch, key=acc_val_batch.get)\n",
    "    print(\"best batchsize is \",sel_batch_final)\n",
    "\n",
    "    df_batch_train = pd.DataFrame(list(acc_train_batch.items()), columns=['Batchsize', 'Accuracy score'])\n",
    "    df_batch_val = pd.DataFrame(list(acc_val_batch.items()), columns=['Batchsize', 'Accuracy score'])\n",
    "\n",
    "    df_batch_val.Batchsize = df_batch_val.Batchsize.map(lambda x:str(x))\n",
    "    df_batch_train.Batchsize = df_batch_train.Batchsize.map(lambda x:str(x))\n",
    "\n",
    "    plt.figure()\n",
    "    plt.plot(df_batch_train.iloc[:,0],df_batch_train.iloc[:,1],label=\"train\", marker='o')\n",
    "    plt.plot(df_batch_val.iloc[:,0],df_batch_val.iloc[:,1],label = \"val\", marker='o')\n",
    "    plt.title(\"Accuracy score vs Batch size\")\n",
    "    plt.ylabel(\"Accuracy score\")\n",
    "    plt.xlabel(\"Batch size\")\n",
    "    plt.legend()\n",
    "\n",
    "    #final model\n",
    "    final_model, final_history = lstm_glove(sel_activation_final,sel_optimizer_final,sel_epoch_final,sel_batch_final)\n",
    "\n",
    "\n",
    "\n",
    "# 5. best model\n",
    "t0 = time()\n",
    "select_hyperparameters()\n",
    "pred = np.argmax(model.predict(X_test), axis=-1)\n",
    "print(\"test accuracy score = \",accuracy_score(y_pred=pred, y_true=y_test))\n",
    "t1 = time()\n",
    "print(\"time taken is \", t1-t0)"
   ]
  },
  {
   "cell_type": "code",
   "execution_count": null,
   "id": "eb3fe20e",
   "metadata": {
    "papermill": {
     "duration": 3.425724,
     "end_time": "2023-01-03T05:08:38.416995",
     "exception": false,
     "start_time": "2023-01-03T05:08:34.991271",
     "status": "completed"
    },
    "tags": []
   },
   "outputs": [],
   "source": []
  }
 ],
 "metadata": {
  "kernelspec": {
   "display_name": "Python 3",
   "language": "python",
   "name": "python3"
  },
  "language_info": {
   "codemirror_mode": {
    "name": "ipython",
    "version": 3
   },
   "file_extension": ".py",
   "mimetype": "text/x-python",
   "name": "python",
   "nbconvert_exporter": "python",
   "pygments_lexer": "ipython3",
   "version": "3.6.5"
  },
  "papermill": {
   "default_parameters": {},
   "duration": 26578.656066,
   "end_time": "2023-01-03T05:08:45.629390",
   "environment_variables": {},
   "exception": null,
   "input_path": "__notebook__.ipynb",
   "output_path": "__notebook__.ipynb",
   "parameters": {},
   "start_time": "2023-01-02T21:45:46.973324",
   "version": "2.3.4"
  }
 },
 "nbformat": 4,
 "nbformat_minor": 5
}
